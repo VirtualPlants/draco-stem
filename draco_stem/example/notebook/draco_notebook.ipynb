{
 "metadata": {
  "name": "",
  "signature": "sha256:adb00d9557ea8ebcb8431266196daf8e474b3f19f16eccd90b8de3e15a21f686"
 },
 "nbformat": 3,
 "nbformat_minor": 0,
 "worksheets": [
  {
   "cells": [
    {
     "cell_type": "heading",
     "level": 1,
     "metadata": {},
     "source": [
      "Mesh generation for meristem tissue reconstruction"
     ]
    },
    {
     "cell_type": "markdown",
     "metadata": {},
     "source": [
      "The purpose of this example is to convert a <font size='3', color='#990000'>segmented image</font> of a plant cell tissue into a <font size='3', color='#990000'>triangular mesh</font> representing the interfaces between the cells. Such a mesh is represented in OpenAlea by a <b>PropertyTopomesh</b>, a data structure that represnents a mesh by defining all its topological relationships between elements of dimension 0, 1, 2 and 3, and that is able to store properties (position, surface, volume, curvature, eccentricity,$\\dots$) on elements of each dimensions in dictionaries."
     ]
    },
    {
     "cell_type": "code",
     "collapsed": false,
     "input": [
      "from openalea.container import PropertyTopomesh\n",
      "import numpy as np"
     ],
     "language": "python",
     "metadata": {},
     "outputs": [],
     "prompt_number": 68
    },
    {
     "cell_type": "heading",
     "level": 2,
     "metadata": {},
     "source": [
      "Loading the segmented image"
     ]
    },
    {
     "cell_type": "markdown",
     "metadata": {},
     "source": [
      "We assume that the image we are going to build the mesh is a segmentation consisting in a certain number of connected labelled regions forming a tissue without holes, surrounded by a background region, labelled by the id $1$. This is typically the output of an image segmentation process such as the MARS segmentation pipeline.\n",
      "\n",
      "We could specify the file to open using an OpenAlea control ...or maybe not yet."
     ]
    },
    {
     "cell_type": "code",
     "collapsed": false,
     "input": [
      "img_path = Control('image_filename', 'IFileStr', None)\n",
      "img_path_widget = notebook_editor(img_path)\n",
      "display(img_path_widget)"
     ],
     "language": "python",
     "metadata": {},
     "outputs": [
      {
       "metadata": {},
       "output_type": "display_data",
       "text": [
        "None"
       ]
      }
     ],
     "prompt_number": 69
    },
    {
     "cell_type": "markdown",
     "metadata": {},
     "source": [
      "So... we will load it the regular way, looking into the <b>/share/data</b> directory of the meshing package for an image with the specified filename. Once the image opened we extract the coordinates of the cell corners, but only if necessary..."
     ]
    },
    {
     "cell_type": "code",
     "collapsed": false,
     "input": [
      "from openalea.image.serial.all import imread\n",
      "import pickle\n",
      "from openalea.deploy.shared_data import shared_data\n",
      "import vplants.meshing\n",
      "from time import time\n",
      "\n",
      "dirname = shared_data(vplants.meshing)\n",
      "meshing_dirname = shared_data(vplants.meshing).parent.parent\n",
      "filename = 'segmentation'\n",
      "\n",
      "start_time = time()\n",
      "image_file = dirname+'/segmented_images/'+filename+'.inr.gz'\n",
      "print \"--> Loading image \"+image_file\n",
      "img = imread(image_file)\n",
      "end_time = time()\n",
      "print \"<-- Loading image     [\",end_time-start_time,\"s]\"\n",
      "\n",
      "try:\n",
      "    start_time = time()\n",
      "    print \"--> Loading cell vertices\"\n",
      "    image_cell_vertex = pickle.load(open(dirname+\"/output_meshes/\"+filename+\"/image_cell_vertex.dict\",\"rb\"))\n",
      "    end_time = time()\n",
      "    print \"<-- Loading cell vertices     [\",end_time-start_time,\"s]\"\n",
      "except:\n",
      "    start_time = time()\n",
      "    print \"  --> Extracting cell vertices\"\n",
      "    image_cell_vertex = cell_vertex_extraction(img)\n",
      "    end_time = time()\n",
      "    print \"  <-- Extracting cell vertices  [\",end_time-start_time,\"s]\"\n",
      "    pickle.dump(image_cell_vertex,open(dirname+\"/output_meshes/\"+filename+\"/image_cell_vertex.dict\",\"wb\"))"
     ],
     "language": "python",
     "metadata": {},
     "outputs": [
      {
       "output_type": "stream",
       "stream": "stdout",
       "text": [
        "--> Loading image /Users/gcerutti/Developpement/openalea/openalea_meshing/share/data/segmented_images/segmentation.inr.gz\n",
        "<-- Loading image     ["
       ]
      },
      {
       "output_type": "stream",
       "stream": "stdout",
       "text": [
        " 0.328548908234 s]\n",
        "--> Loading cell vertices\n",
        "<-- Loading cell vertices     ["
       ]
      },
      {
       "output_type": "stream",
       "stream": "stdout",
       "text": [
        " 0.185953855515 s]\n"
       ]
      }
     ],
     "prompt_number": 70
    },
    {
     "cell_type": "code",
     "collapsed": false,
     "input": [
      "import vplants.meshing.notebook_tools\n",
      "reload(vplants.meshing.notebook_tools)\n",
      "from vplants.meshing.notebook_tools import vtk_show_image, vtk_show_polydata\n",
      "vtk_show_image(img, width=800, height=300, alphamap='constant', bg_id=1, position=(0,0,-0.75*img.shape[2]*img.resolution[2]))"
     ],
     "language": "python",
     "metadata": {},
     "outputs": [
      {
       "output_type": "stream",
       "stream": "stdout",
       "text": [
        "Unique time :  0.51637506485  s\n",
        "RGBPoint time :  0.000991106033325  s\n"
       ]
      },
      {
       "metadata": {},
       "output_type": "pyout",
       "png": "[encoded data removed]",
       "prompt_number": 6,
       "text": [
        "<IPython.core.display.Image at 0x11464bcd0>"
       ]
      }
     ],
     "prompt_number": 6
    },
    {
     "cell_type": "heading",
     "level": 2,
     "metadata": {},
     "source": [
      "CGAL Mesh Generation"
     ]
    },
    {
     "cell_type": "markdown",
     "metadata": {},
     "source": [
      "The first step consists in generating a mesh of acceptable complexity that represents the interfaces in the image. This is done using the CGAL tetrahedral mesh generation, transforming a 8-bit label image into a set of tetrahedra using refined Delaunay tetrahedrization.\n",
      "\n",
      "A $mesh\\_fineness$ parameter is used to control the facet distance parameter of the CGAL function, that defines the maximal distance between mesh triangles and the actual image interfaces. This value affectsin the same time the precision of the mesh and the number of elements it will contain. We define the parameter $mesh\\_fineness$ controlling the complexity of the produced mesh, using an interactive OpenAlea control widget."
     ]
    },
    {
     "cell_type": "code",
     "collapsed": false,
     "input": [
      "from openalea.core.control import Control\n",
      "from openalea.oalab.service.notebook_control import notebook_editor\n",
      "from IPython.display import display\n",
      "\n",
      "mesh_fineness_control = Control('mesh_fineness', 'IInt', 10, constraints=dict(min=0,max=20))\n",
      "widget = notebook_editor(mesh_fineness_control)\n",
      "display(widget)"
     ],
     "language": "python",
     "metadata": {},
     "outputs": [],
     "prompt_number": 71
    },
    {
     "cell_type": "code",
     "collapsed": false,
     "input": [
      "from vplants.meshing.topomesh_from_image import create_CGAL_topomesh_from_image\n",
      "\n",
      "mesh_fineness = mesh_fineness_control.value/10.\n",
      "print \"Mesh fineness : \",mesh_fineness\n",
      "\n",
      "topomesh = create_CGAL_topomesh_from_image(img,mesh_fineness=mesh_fineness,optimized=False,display=False,dirname=str(meshing_dirname)+\"/\")\n",
      "\n",
      "from vplants.meshing.triangular_mesh import topomesh_to_triangular_mesh\n",
      "topomesh_mesh,_,_ = topomesh_to_triangular_mesh(topomesh,degree=2,coef=0.95,mesh_center=np.array(img.shape)*np.array(img.resolution)/2.)\n",
      "topomesh_polydata = topomesh_mesh._repr_vtk_()"
     ],
     "language": "python",
     "metadata": {},
     "outputs": [
      {
       "output_type": "stream",
       "stream": "stdout",
       "text": [
        "Mesh fineness :  0.8\n",
        "--> Input Image\n",
        "Computing volume property..."
       ]
      },
      {
       "output_type": "stream",
       "stream": "stdout",
       "text": [
        "\n",
        "Computing barycenter property..."
       ]
      },
      {
       "output_type": "stream",
       "stream": "stdout",
       "text": [
        "\n",
        "  --> "
       ]
      },
      {
       "output_type": "stream",
       "stream": "stdout",
       "text": [
        " 356  Objects,  3388.56497175  microm3 per object\n",
        "  --> Facet Distance :  1.32806571615\n",
        "  --> Converting to 8bit\n",
        "<-- Input Image              ["
       ]
      },
      {
       "output_type": "stream",
       "stream": "stdout",
       "text": [
        " 4.39349198341 s]\n",
        "--> Building CGAL Mesh\n",
        "<-- Building CGAL Mesh       ["
       ]
      },
      {
       "output_type": "stream",
       "stream": "stdout",
       "text": [
        " 11.1837780476 s]\n",
        "--> Reading Mesh\n",
        "15058"
       ]
      },
      {
       "output_type": "stream",
       "stream": "stdout",
       "text": [
        " Vertices,  74446 Triangles,  82895 Tetrahedra,  254  Components\n",
        "<-- Reading Mesh             [ 0.528788089752 s]\n",
        "--> Re-Indexing Components\n",
        "--> Reading Mesh\n",
        "15058"
       ]
      },
      {
       "output_type": "stream",
       "stream": "stdout",
       "text": [
        " Vertices,  74446 Triangles,  82895 Tetrahedra,  254  Components\n",
        "<-- Reading Mesh             [ 0.532160043716 s]\n",
        "15058"
       ]
      },
      {
       "output_type": "stream",
       "stream": "stdout",
       "text": [
        " Vertices,  74446 Triangles,  82895 Tetrahedra,  282  Components\n",
        "<-- Re-Indexing Components   [ 1.24704694748 s]\n",
        "--> Writing Mesh\n",
        "<-- Wriring Mesh             ["
       ]
      },
      {
       "output_type": "stream",
       "stream": "stdout",
       "text": [
        " 2.50114107132 s]\n",
        "--> Creating Topomesh\n",
        "--> Reading Mesh\n",
        "15058"
       ]
      },
      {
       "output_type": "stream",
       "stream": "stdout",
       "text": [
        " Vertices,  74446 Triangles,  82895 Tetrahedra,  282  Components\n",
        "<-- Reading Mesh             [ 0.54767203331 s]\n",
        "281  Unique Cells\n",
        "--> Setting Vertex Positions"
       ]
      },
      {
       "output_type": "stream",
       "stream": "stdout",
       "text": [
        "\n",
        "<-- Setting Vertex Positions [ 0.0350279808044 s]\n",
        "--> Linking Edges\n",
        "<-- Linking Edges            ["
       ]
      },
      {
       "output_type": "stream",
       "stream": "stdout",
       "text": [
        " 0.201817035675 s]\n",
        "--> Linking Triangles\n",
        "<-- Linking Triangles        ["
       ]
      },
      {
       "output_type": "stream",
       "stream": "stdout",
       "text": [
        " 4.73693013191 s]\n",
        "--> Linking Cells\n",
        "<-- Linking Cells       ["
       ]
      },
      {
       "output_type": "stream",
       "stream": "stdout",
       "text": [
        " 8.92091417313 s]\n",
        "--> Cleaning Triangles\n",
        "<-- Cleaning Triangles  ["
       ]
      },
      {
       "output_type": "stream",
       "stream": "stdout",
       "text": [
        " 0.621469974518 s]\n",
        "--> Computing Interfaces\n",
        "<-- Computing Interfaces["
       ]
      },
      {
       "output_type": "stream",
       "stream": "stdout",
       "text": [
        " 1.21758699417 s]\n",
        "--> Computing  barycenter  property ( 0 )\n",
        "<-- Computing barycenter property ( 0 ) [ 0.000879049301147 s]\n",
        "<-- Creating Topomesh        [ 16.6708071232 s]\n",
        "--> Creating triangular mesh"
       ]
      },
      {
       "output_type": "stream",
       "stream": "stdout",
       "text": [
        "\n",
        "--> Computing  vertices  property ( 2 )\n",
        "<-- Computing"
       ]
      },
      {
       "output_type": "stream",
       "stream": "stdout",
       "text": [
        " vertices property ( 2 ) [ 0.615630865097 s]\n",
        "--> Computing  triangles  property ( 3 )\n",
        "<-- Computing triangles property ( 3 ) [ 0.0115959644318 s]\n",
        "--> Computing  cells  property ( 2 )\n",
        "<-- Computing"
       ]
      },
      {
       "output_type": "stream",
       "stream": "stdout",
       "text": [
        " cells property ( 2 ) [ 0.119002103806 s]\n",
        "<-- Creating triangular mesh ["
       ]
      },
      {
       "output_type": "stream",
       "stream": "stdout",
       "text": [
        " 7.79864406586 s]\n"
       ]
      }
     ],
     "prompt_number": 72
    },
    {
     "cell_type": "markdown",
     "metadata": {},
     "source": [
      "The mesh that is generated with this method presents interesting properties, of global consistency of the geometric regions, and of regularity of the mesh elements. However its visual quality is not extremely convincing."
     ]
    },
    {
     "cell_type": "code",
     "collapsed": false,
     "input": [
      "vtk_show_polydata(topomesh_polydata, width=800, height=300, position=(0,0,-0.75*img.shape[2]*img.resolution[2]))"
     ],
     "language": "python",
     "metadata": {},
     "outputs": [
      {
       "output_type": "stream",
       "stream": "stdout",
       "text": [
        "Unique time :  0.00106406211853  s\n",
        "RGBPoint time :  0.000687122344971  s\n"
       ]
      },
      {
       "metadata": {},
       "output_type": "pyout",
       "png": "[encoded data removed]",
       "prompt_number": 73,
       "text": [
        "<IPython.core.display.Image at 0x11f115fd0>"
       ]
      }
     ],
     "prompt_number": 73
    },
    {
     "cell_type": "markdown",
     "metadata": {},
     "source": [
      "To quantify this visual impression, we defined a set of mesh quality estimators specific to the problem of reconstructing a plant tissue. These estimators include several dimension of <i><font size=\"4\">\"what is a good tissue mesh?\"</font></i> considering simultaneously its <b>proximity with the segmented image</b> at both region and local interest point scales, the <b>intrinsic quality of the mesh triangles</b> in terms of shape and homogeneity, the <b>consistency of the reconstructed cells with a biological prior</b>, to have convex cells and polygonal interfaces, and the <b>topological regularity</b> of the whole structure, all this indicators being put in perspective with the <b>complexity of the mesh</b> representing basically the further cost of any operation on the mesh."
     ]
    },
    {
     "cell_type": "code",
     "collapsed": false,
     "input": [
      "from vplants.meshing.optimization_tools import evaluate_topomesh_quality\n",
      "quality_criteria = [\"Mesh Complexity\",\"Triangle Area Deviation\",\"Triangle Eccentricity\",\"Vertex Valence\",\"Cell Volume Error\",\"Vertex Distance\",\"Cell 2 Adjacency\",\"Cell Convexity\",\"Epidermis Cell Angle\"]\n",
      "initial_quality = evaluate_topomesh_quality(topomesh,quality_criteria=quality_criteria,image=img,image_cell_vertex=image_cell_vertex,display=False)"
     ],
     "language": "python",
     "metadata": {},
     "outputs": [
      {
       "output_type": "stream",
       "stream": "stdout",
       "text": [
        "--> Computing mesh complexity\n",
        "<-- Computing mesh complexity          ["
       ]
      },
      {
       "output_type": "stream",
       "stream": "stdout",
       "text": [
        " 0.155371904373 s]\n",
        "--> Computing  length  property ( 1 )\n",
        "--> Computing  borders  property ( 1 )\n",
        "<-- Computing"
       ]
      },
      {
       "output_type": "stream",
       "stream": "stdout",
       "text": [
        " borders property ( 1 ) [ 0.143790006638 s]\n",
        "<-- Computing length property ( 1 ) [ 0.160074949265 s]\n",
        "--> Computing triangle properties\n",
        "--> Computing  borders  property ( 2 )\n",
        "<-- Computing"
       ]
      },
      {
       "output_type": "stream",
       "stream": "stdout",
       "text": [
        " borders property ( 2 ) [ 0.102998971939 s]\n",
        "<-- Computing triangle properties    [ 0.120054006577 s]\n",
        "--> Computing  normal  property ( 2 )\n",
        "<-- Computing normal property ( 2 ) [ 0.00912499427795 s]\n",
        "--> Computing  angles  property ( 2 )\n",
        "<-- Computing angles property ( 2 ) [ 0.0141489505768 s]\n",
        "--> Computing triangle area deviation\n",
        "<-- Computing triangle area deviation  [ 0.000642061233521 s]\n",
        "--> Computing triangle eccentricity\n",
        "<-- Computing triangle eccentricity    [ 0.000216960906982 s]\n",
        "--> Computing  borders  property ( 3 )\n",
        "<-- Computing"
       ]
      },
      {
       "output_type": "stream",
       "stream": "stdout",
       "text": [
        " borders property ( 3 ) [ 0.00918292999268 s]\n",
        "--> Computing  borders  property ( 2 )\n",
        "<-- Computing"
       ]
      },
      {
       "output_type": "stream",
       "stream": "stdout",
       "text": [
        " borders property ( 2 ) [ 0.109802007675 s]\n",
        "--> Computing  borders  property ( 1 )\n",
        "<-- Computing"
       ]
      },
      {
       "output_type": "stream",
       "stream": "stdout",
       "text": [
        " borders property ( 1 ) [ 0.247560977936 s]\n",
        "--> Computing  vertices  property ( 3 )\n",
        "<-- Computing"
       ]
      },
      {
       "output_type": "stream",
       "stream": "stdout",
       "text": [
        " vertices property ( 3 ) [ 0.294976949692 s]\n",
        "--> Computing  vertices  property ( 2 )\n",
        "<-- Computing"
       ]
      },
      {
       "output_type": "stream",
       "stream": "stdout",
       "text": [
        " vertices property ( 2 ) [ 0.543529033661 s]\n",
        "--> Computing  barycenter  property ( 3 )\n",
        "<-- Computing barycenter property ( 3 ) [ 0.00489807128906 s]\n",
        "--> Computing  barycenter  property ( 2 )\n",
        "<-- Computing barycenter property ( 2 ) [ 0.0179188251495 s]\n",
        "--> Computing  barycenter  property ( 1 )\n",
        "--> Computing  vertices  property ( 1 )\n",
        "<-- Computing"
       ]
      },
      {
       "output_type": "stream",
       "stream": "stdout",
       "text": [
        " vertices property ( 1 ) [ 0.549016952515 s]\n",
        "<-- Computing barycenter property ( 1 ) [ 0.575264930725 s]\n",
        "--> Computing  triangles  property ( 0 )\n",
        "<-- Computing"
       ]
      },
      {
       "output_type": "stream",
       "stream": "stdout",
       "text": [
        " triangles property ( 0 ) [ 0.171777963638 s]\n",
        "--> Computing  cells  property ( 0 )\n",
        "<-- Computing"
       ]
      },
      {
       "output_type": "stream",
       "stream": "stdout",
       "text": [
        " cells property ( 0 ) [ 0.392179965973 s]\n",
        "--> Computing  cells  property ( 1 )\n",
        "<-- Computing"
       ]
      },
      {
       "output_type": "stream",
       "stream": "stdout",
       "text": [
        " cells property ( 1 ) [ 0.278089046478 s]\n",
        "--> Computing  cells  property ( 2 )\n",
        "<-- Computing"
       ]
      },
      {
       "output_type": "stream",
       "stream": "stdout",
       "text": [
        " cells property ( 2 ) [ 0.112860202789 s]\n",
        "--> Computing  epidermis  property ( 0 )\n",
        "--> Computing  epidermis  property ( 2 )\n",
        "<-- Computing epidermis property ( 2 ) [ 0.0076470375061 s]\n",
        "<-- Computing"
       ]
      },
      {
       "output_type": "stream",
       "stream": "stdout",
       "text": [
        " epidermis property ( 0 ) [ 0.0838820934296 s]\n",
        "--> Computing  epidermis  property ( 1 )\n",
        "--> Computing  triangles  property ( 1 )\n",
        "<-- Computing"
       ]
      },
      {
       "output_type": "stream",
       "stream": "stdout",
       "text": [
        " triangles property ( 1 ) [ 0.279614925385 s]\n",
        "<-- Computing"
       ]
      },
      {
       "output_type": "stream",
       "stream": "stdout",
       "text": [
        " epidermis property ( 1 ) [ 0.529388904572 s]\n",
        "--> Computing  epidermis  property ( 3 )\n",
        "<-- Computing epidermis property ( 3 ) [ 0.00884199142456 s]\n",
        "--> Computing  volume  property ( 3 )\n",
        "<-- Computing"
       ]
      },
      {
       "output_type": "stream",
       "stream": "stdout",
       "text": [
        " volume property ( 3 ) [ 0.0479562282562 s]\n",
        "--> Computing  convexhull_volume  property ( 3 )\n",
        "<-- Computing"
       ]
      },
      {
       "output_type": "stream",
       "stream": "stdout",
       "text": [
        " convexhull_volume property ( 3 ) [ 0.166146993637 s]\n",
        "--> Computing cell volume error\n",
        "Computing volume property..."
       ]
      },
      {
       "output_type": "stream",
       "stream": "stdout",
       "text": [
        "\n",
        "Computing barycenter property..."
       ]
      },
      {
       "output_type": "stream",
       "stream": "stdout",
       "text": [
        "\n",
        "<-- Computing cell volume error        ["
       ]
      },
      {
       "output_type": "stream",
       "stream": "stdout",
       "text": [
        " 4.91803908348 s]\n",
        "--> Computing mesh cell vertices\n",
        "<-- Computing mesh cell vertices ["
       ]
      },
      {
       "output_type": "stream",
       "stream": "stdout",
       "text": [
        " 0.114577054977 s]\n",
        "--> Computing vertex distance\n",
        "<-- Computing vertex distance          ["
       ]
      },
      {
       "output_type": "stream",
       "stream": "stdout",
       "text": [
        " 0.0949161052704 s]\n",
        "--> Computing cell convexity\n",
        "<-- Computing cell convexity           [ 8.29696655273e-05 s]\n",
        "--> Computing epidermis cell angle\n",
        "<-- Computing epidermis cell angle     ["
       ]
      },
      {
       "output_type": "stream",
       "stream": "stdout",
       "text": [
        " 0.707911014557 s]\n",
        "--> Computing vertex degree\n",
        "--> Computing  region_neighbors  property ( 0 )\n",
        "<-- Computing"
       ]
      },
      {
       "output_type": "stream",
       "stream": "stdout",
       "text": [
        " region_neighbors property ( 0 ) [ 0.438313961029 s]\n",
        "--> Computing  border_neighbors  property ( 3 )\n",
        "<-- Computing"
       ]
      },
      {
       "output_type": "stream",
       "stream": "stdout",
       "text": [
        " border_neighbors property ( 3 ) [ 0.185527801514 s]\n",
        "<-- Computing vertex degree            [ 0.630515098572 s]\n",
        "--> Computing cell adjacency\n",
        "<-- Computing cell adjacency           ["
       ]
      },
      {
       "output_type": "stream",
       "stream": "stdout",
       "text": [
        " 0.126734972 s]\n",
        "{'Vertex Distance': 0.53007341564021893, 'Triangle Area Deviation': 0.90291179180266579, 'Cell Volume Error': 0.0, 'Epidermis Cell Angle': 0.64606976163298768, 'Triangle Eccentricity': 0.92503732442855835, 'Mesh Complexity': 0.99316374459377765, 'Cell 2 Adjacency': 0.05900216919739696, 'Vertex Valence': 0.88186077643908967, 'Cell Convexity': 0.26508333001515216}\n"
       ]
      }
     ],
     "prompt_number": 74
    },
    {
     "cell_type": "code",
     "collapsed": false,
     "input": [
      "%matplotlib inline\n",
      "import matplotlib.pyplot as plt\n",
      "from vplants.meshing.cute_plot import spider_plot\n",
      "\n",
      "figure = plt.figure(figsize=(8,6))\n",
      "spider_data = np.array([initial_quality[c] for c in quality_criteria])\n",
      "spider_fields= quality_criteria\n",
      "spider_targets = 0.8 * np.ones_like(quality_criteria,float)\n",
      "spider_plot(figure,spider_data,color1=np.array([0.3,0.6,1.]),color2=np.array([1.,0.,0.]),xlabels=spider_fields,ytargets=spider_targets,n_points=100*len(quality_criteria),linewidth=2,smooth_factor=0.0,spline_order=1)"
     ],
     "language": "python",
     "metadata": {},
     "outputs": [
      {
       "metadata": {},
       "output_type": "display_data",
       "png": "[encoded data removed]",
       "text": [
        "<matplotlib.figure.Figure at 0x118012210>"
       ]
      }
     ],
     "prompt_number": 75
    },
    {
     "cell_type": "heading",
     "level": 2,
     "metadata": {},
     "source": [
      "Mesh optimization"
     ]
    },
    {
     "cell_type": "markdown",
     "metadata": {},
     "source": [
      "The next step consists then in modifying the low-quality mesh obtained from CGAL to globally enhance the values of the quality estimators to ensure that they all reach an acceptable performance.\n",
      "\n",
      "This optimization is performed as an energy minimization, where the energy $E$ of the mesh $\\mathcal{M}$ is classically defined as a sum of three terms : external (data attachment to the image $\\mathcal S$), internal (regularization) and constraint (prior shape knowledge). \n",
      "\n",
      "$$E(\\mathcal{M},\\mathcal{S}) = E_{image}(\\mathcal{M},\\mathcal{S}) + E_{prior}(\\mathcal{M}) + E_{regularity}(\\mathcal{M})$$\n",
      "\n",
      "These three terms account for the first three aspects captured by the quality estimators. The minimization is performed by vertex shifting, following a gradient descent scheme, the mesh vertices moving towards the local opposite direction of the energy gradient, in a limited range.\n",
      "\n",
      "$$E_{image}(\\mathcal{M},\\mathcal{S}) = \\sum_{v \\in \\mathcal{W}_0} -\\omega_{gradient} \\| \\nabla \\mathcal{S} \\| \\left( \\mathcal{P}(v) \\right)$$\n",
      "\n",
      "$$E_{prior}(\\mathcal{M}) = \\sum_{v \\in \\mathcal{W}_0} \\omega_{plan} E_{plan}(v) + \\omega_{line} E_{line}(v)$$\n",
      "\n",
      "$$E_{regularity}(\\mathcal{M}) = \\sum_{v \\in \\mathcal{W}_0} \\big( \\frac{1}{3} \\sum_{t \\in \\mathcal{R}_{\\ 0}^2(v)} \\omega_{qual} E_{qual}(t) + \\omega_{size} E_{size}(t) \\big)$$\n",
      "\n",
      "An option is to make the trajectory of the cell vertices (corners) deterministic, since their positions can be extracted from the image. This is controlled by setting the $cell\\_vertex\\_motion$ parameter to <font color=\"#009900\">True</font>.\n",
      "\n",
      "Another possibility is to add topological operations to the geometry optimization, and allow the method to perform energy-decrasing edge flips inside the interfaces. This solution improves not only the topological quality criteria, but interstingly affects also the other criteria for which the local topological configurations might impede to rach an energy minimum. This is controlled by setting the $edge\\_flip$ parameter to <font color=\"#009900\">True</font>."
     ]
    },
    {
     "cell_type": "code",
     "collapsed": false,
     "input": [
      "omega_forces = {}\n",
      "omega_forces['gradient'] = 0.0\n",
      "omega_regularization_min = 0.0\n",
      "omega_forces['regularization'] = omega_regularization_min\n",
      "omega_regularization_max = 0.005\n",
      "omega_forces['laplacian'] = 1.3\n",
      "omega_forces['planarization'] = 0.57\n",
      "\n",
      "gradient_x = gradient_y = gradient_z = None\n",
      "cell_vertex_motion = True\n",
      "edge_flip = False\n",
      "\n",
      "n_iterations= 20\n",
      "\n",
      "from vplants.meshing.optimization_tools import optimize_topomesh\n",
      "\n",
      "optimized_topomesh = optimize_topomesh(topomesh,omega_forces,omega_regularization_max=omega_regularization_max,gradient_derivatives=[gradient_x,gradient_y,gradient_z],image_resolution=img.resolution,cell_vertex_motion=cell_vertex_motion,image_cell_vertex=image_cell_vertex,edge_flip=edge_flip,display=False,iterations=n_iterations,iterations_per_step=1)\n",
      "#optimized_topomesh = optimize_topomesh(optimized_topomesh,omega_forces=dict([('taubin_smoothing',0.65)]),omega_regularization_max=0,gradient_derivatives=None,image_resolution=img.resolution,cell_vertex_motion=False,image_cell_vertex=image_cell_vertex,edge_flip=False,display=False,iterations=5,iterations_per_step=1)\n",
      "\n",
      "topomesh_mesh,_,_ = topomesh_to_triangular_mesh(optimized_topomesh,degree=2,coef=0.95,mesh_center=np.array(img.shape)*np.array(img.resolution)/2.)\n",
      "topomesh_polydata = topomesh_mesh._repr_vtk_()"
     ],
     "language": "python",
     "metadata": {},
     "outputs": [
      {
       "output_type": "stream",
       "stream": "stdout",
       "text": [
        "--> Computing  length  property ( 1 )\n",
        "<-- Computing length property ( 1 ) [ 0.0235829353333 s]\n",
        "--> Computing triangle properties\n",
        "<-- Computing triangle properties    [ 0.0218467712402 s]\n",
        "--> Computing  vertices  property ( 3 )\n",
        "<-- Computing"
       ]
      },
      {
       "output_type": "stream",
       "stream": "stdout",
       "text": [
        " vertices property ( 3 ) [ 0.382080078125 s]\n",
        "--> Computing  barycenter  property ( 3 )\n",
        "<-- Computing barycenter property ( 3 ) [ 0.00619101524353 s]\n",
        "--> Computing  barycenter  property ( 2 )\n",
        "<-- Computing barycenter property ( 2 ) [ 0.0289559364319 s]\n",
        "--> Computing  barycenter  property ( 1 )\n",
        "<-- Computing"
       ]
      },
      {
       "output_type": "stream",
       "stream": "stdout",
       "text": [
        " barycenter property ( 1 ) [ 0.0324769020081 s]\n",
        "--> Computing  normal  property ( 2 )\n",
        "<-- Computing normal property ( 2 ) [ 0.0138568878174 s]\n",
        "--> Computing  angles  property ( 2 )\n",
        "<-- Computing angles property ( 2 ) [ 0.020702123642 s]\n",
        "--> Computing  cells  property ( 1 )\n",
        "<-- Computing"
       ]
      },
      {
       "output_type": "stream",
       "stream": "stdout",
       "text": [
        " cells property ( 1 ) [ 0.344432115555 s]\n",
        "--> Computing  epidermis  property ( 0 )\n",
        "<-- Computing"
       ]
      },
      {
       "output_type": "stream",
       "stream": "stdout",
       "text": [
        " epidermis property ( 0 ) [ 0.0989670753479 s]\n",
        "--> Computing  epidermis  property ( 1 )\n",
        "<-- Computing"
       ]
      },
      {
       "output_type": "stream",
       "stream": "stdout",
       "text": [
        " epidermis property ( 1 ) [ 0.29531288147 s]\n",
        "--> Computing  epidermis  property ( 3 )\n",
        "<-- Computing epidermis property ( 3 ) [ 0.0104050636292 s]\n",
        "--> Computing interfaces\n",
        "<-- Computing interfaces["
       ]
      },
      {
       "output_type": "stream",
       "stream": "stdout",
       "text": [
        " 1.58072018623 s]\n",
        "--> Preparing topomesh     [ 2.8646979332 s]\n",
        "--> Computing  cells  property ( 0 )\n",
        "<-- Computing"
       ]
      },
      {
       "output_type": "stream",
       "stream": "stdout",
       "text": [
        " cells property ( 0 ) [ 0.486838102341 s]\n",
        "--> Computing mesh cell vertices\n",
        "<-- Computing mesh cell vertices ["
       ]
      },
      {
       "output_type": "stream",
       "stream": "stdout",
       "text": [
        " 0.152351140976 s]\n",
        "[ 78.81058417  58.34712764  37.15435302]  ->  [ 78.455991  58.031001  37.205521]\n",
        "[ 88.72126873  83.00138065  35.24332063]  ->  [ 89.469466  82.981528  34.642385]\n",
        "[ 55.95018265  45.78758078  26.20312223]  ->  [ 55.88375846  45.84070154  26.33991923]\n",
        "[ 50.15708478  58.71693963  35.00155145]"
       ]
      },
      {
       "output_type": "stream",
       "stream": "stdout",
       "text": [
        "  ->  [ 49.83875556  59.00552667  35.42111556]\n",
        "[ 61.05964281  79.89507767  39.41269563]  ->  [ 60.273745  79.857706  38.527138]\n",
        "[ 48.85039334  79.57134771  29.42553795]  ->  [ 49.13511688  80.3983675   29.66129062]\n",
        "[ 60.29733406  44.40658817  41.34490816]  ->  [ 60.273745  44.254145  41.050225]\n",
        "[ 36.62811657  67.65083295  39.18103336]  ->  [ 37.045325  67.522614  39.568412]\n",
        "[ 47.08772434  68.40581793  37.20997505]  ->  [ 47.28642643  68.19772571  36.61622857]\n",
        "[ 64.71882632  56.05304179  42.57307329]  ->  [ 64.719184    56.65598533  42.532038  ]\n",
        "[ 56.9951698   77.66548534  32.29856074]  ->  [ 57.23669583  77.12769917  32.67330917]\n",
        "[ 77.668417    96.6451691   39.56318558]  ->  [ 77.454766  96.718335  40.129098]\n",
        "[ 43.44348273  87.77925901  42.5497242 ]  ->  [ 43.48653917  88.4081675   42.78568167]\n",
        "[ 48.21961109  90.14417257  42.97596013]  ->  [ 48.16802455  90.72918909  43.07087909]\n",
        "[ 95.16801508  54.47007196  37.36931632]  ->  [ 95.14498143  53.72287286  36.90229286]\n",
        "[ 75.65496393  88.55103287  36.6437557 ]  ->  [ 75.29212  88.50829  37.24557]\n",
        "[ 53.37640256  47.62638933  47.90126121]  ->  [ 52.664435  47.057575  47.458065]\n",
        "[ 87.71070189  51.12276854  42.51089969]  ->  [ 88.1078    51.66321   43.453165]\n",
        "[ 54.91767478  87.85055996  43.38083842]  ->  [ 55.067375  87.507065  43.453165]\n",
        "[ 78.49136502  66.04163026  39.44119437]  ->  [ 78.696285  65.880605  39.448265]\n",
        "[ 44.78401335  77.9340017   43.78099247]  ->  [ 45.055125  77.895305  43.453165]\n",
        "[ 45.8573218   58.32953904  41.34747926]  ->  [ 45.856105  58.391442  41.410666]\n",
        "[ 46.79164859  69.52437304  39.40852735]  ->  [ 46.67528909  69.17554545  39.02957091]\n",
        "[ 62.22051638  66.16599585  24.97984086]  ->  [ 61.98352923  66.38891923  25.35409769]\n",
        "[ 51.33816355  85.95973457  35.57408186]  ->  [ 51.08067909  86.32379909  35.35234455]\n",
        "[ 76.61494768  43.87687108  31.53705605]  ->  [ 77.24450875  43.80359375  30.9378525 ]\n",
        "[ 48.65089407  68.19342914  23.17989775]  ->  [ 49.060025  67.923104  23.548812]\n",
        "[ 60.48093942  42.42145564  31.44681689]  ->  [ 60.674235  42.251695  31.63871 ]\n",
        "[ 46.39166612  87.19170691  48.20083454]  ->  [ 46.63483556  86.72833444  47.92530333]\n",
        "[ 37.92909488  76.01049095  34.36602239]  ->  [ 38.93995077  76.18552077  33.82600154]\n",
        "[ 56.27645084  84.36526087  40.13175268]  ->  [ 56.669335    84.50339     40.33506429]\n",
        "[ 45.8067561   74.30113703  31.52305622]  ->  [ 45.455615  74.651336  31.318318]\n",
        "[ 69.90215689  35.79866581  36.88625248]  ->  [ 70.67108154  36.07490692  36.72185231]\n",
        "[ 43.45658784  78.26564498  40.77900672]  ->  [ 44.23189556  78.27354556  41.91795333]\n",
        "[ 51.71389459  59.88652601  46.01501372]  ->  [ 51.04022556  59.85100556  45.78935667]\n",
        "[ 83.46559075  62.95811461  37.3710389 ]  ->  [ 83.502165  62.676685  37.445815]\n",
        "[ 96.0540083  68.3437123  36.2003674]  ->  [ 96.0174775  68.283545   36.1442225]\n",
        "[ 75.32296413  37.92055844  28.71925373]  ->  [ 74.46253357  38.21818857  29.12134429]\n",
        "[ 85.16183576  79.79917373  34.98586604]  ->  [ 85.08592091  80.06159182  35.46156909]\n",
        "[ 78.67875262  73.07354243  35.87347288]  ->  [ 78.40704222  72.48869     36.86732944]\n",
        "[ 57.26487643  47.81900749  39.02964501]  ->  [ 56.86958   47.858555  39.24802 ]\n",
        "[ 46.80380984  48.13307805  38.2166514 ]  ->  [ 47.65831     47.80849375  38.19673375]\n",
        "[ 76.69062782  76.7921832   30.89266375]  ->  [ 77.29457  76.89408  31.23822]\n",
        "[ 74.74590257  43.8627337   47.87736574]  ->  [ 74.37989278  43.94265278  46.74608278]\n",
        "[ 88.68983868  77.10247166  39.51347996]  ->  [ 88.04105167  76.72720917  39.7486325 ]\n",
        "[ 55.84059818  53.86930803  22.71718089]  ->  [ 55.868355  53.505464  22.747832]\n",
        "[ 70.77545127  51.94364861  31.17626731]  ->  [ 71.086975  51.182622  30.597436]\n",
        "[ 57.05034077  69.62071947  42.06535909]  ->  [ 57.69725933  69.31146933  42.612136  ]\n",
        "[ 59.58088594  40.89764328  39.83979924]  ->  [ 59.73462385  40.51110385  39.95657923]\n",
        "[ 93.91776996  46.91670785  40.65518048]  ->  [ 93.0138025   47.59156167  40.61636083]\n",
        "[ 58.67814898  67.58837078  28.11770865]  ->  [ 58.12826286  67.91166143  28.26315143]\n",
        "[ 64.81889395  55.19082678  13.50141295]  ->  [ 64.3787675   55.40111667  14.05052417]\n",
        "[ 69.10105895  59.52637682  12.49383101]  ->  [ 68.283545  59.472765  12.81568 ]\n",
        "[ 69.16051299  68.24640302  16.8741523 ]  ->  [ 68.85347308  67.96007231  16.60493154]\n",
        "[ 72.77853039  55.005772    40.08252431]  ->  [ 73.02267667  54.33314333  39.78200667]\n",
        "[ 87.45897473  43.66494767  30.0016527 ]  ->  [ 87.52931444  43.43091556  30.70423333]\n",
        "[ 80.35744178  57.55227377  38.26537638]  ->  [ 79.937804  58.271295  38.767432]\n",
        "[ 52.4170605   85.47493626  37.06092104]  ->  [ 52.21773462  85.24275615  36.47539692]\n",
        "[ 74.56228712  43.90192127  45.21453022]  ->  [ 74.30629846  43.46856846  44.79326615]\n",
        "[ 48.94721871  67.14153257  43.18237043]  ->  [ 49.3603925   67.33238125  43.453165  ]\n",
        "[ 81.99321493  65.86234792  22.62378184]  ->  [ 81.900205  65.880605  21.826705]\n",
        "[ 80.48628042  68.66615193  25.17144558]  ->  [ 80.7988575   68.55888187  25.35602313]\n",
        "[ 69.14896205  58.43156973  32.57093684]  ->  [ 69.68526  58.47154  32.43969]\n",
        "[ 66.64634404  62.75705862  17.34317013]  ->  [ 66.88183  62.47644  16.82058]\n",
        "[ 47.73913365  49.14216652  27.09000815]  ->  [ 47.48667143  49.14584429  26.80422357]\n",
        "[ 72.02264497  69.00918955  33.55974398]  ->  [ 71.44125462  68.42217615  33.61035308]\n",
        "[ 85.10643577  46.33908751  24.72562478]  ->  [ 84.28774154  46.11796385  24.92280077]\n",
        "[ 68.51494083  50.82165835  29.80791296]  ->  [ 68.33815727  50.20688273  29.16295364]\n",
        "[ 94.69330126  47.89878061  39.32368067]  ->  [ 94.79290231  48.55171077  39.15559923]\n",
        "[ 96.28668045  66.90061826  36.40477523]  ->  [ 95.65549615  67.55958231  36.38297615]\n",
        "[ 60.8520474   54.29352279  18.73113017]  ->  [ 61.15174231  55.57568923  18.23769846]\n",
        "[ 54.53492458  70.68290242  32.82050796]  ->  [ 54.53338833  70.285995    32.70668333]\n",
        "[ 54.89081016  76.83348655  41.3713669 ]  ->  [ 54.71694625  76.34340625  41.25047   ]\n",
        "[ 55.93679026  44.87685058  23.19902656]  ->  [ 56.388992    44.934978    22.69443333]\n",
        "[ 67.80595158  74.60683907  38.74118426]  ->  [ 67.082075  74.250846  37.726158]\n",
        "[ 82.74782461  71.73123331  26.52131471]  ->  [ 83.101675  72.328494  27.553712]\n",
        "[ 63.31224001  88.09601122  35.85747673]  ->  [ 63.077175  87.627212  36.284394]\n",
        "[ 78.92052773  68.17204742  28.6749068 ]  ->  [ 79.21120071  67.91166143  28.54921571]\n",
        "[ 69.82978264  49.45837823  44.63767994]  ->  [ 69.28477   49.861005  44.45439 ]\n",
        "[ 67.50412779  85.84823625  27.14497163]  ->  [ 67.082075  85.504615  27.433565]\n",
        "[ 52.33348915  87.17813755  29.82495434]  ->  [ 52.223896    87.30682     28.72848267]\n",
        "[ 46.28132734  65.5694399   38.90983219]  ->  [ 46.216546  65.079625  39.568412]\n",
        "[ 69.69590866  38.23626116  38.77919635]  ->  [ 69.31337643  38.61867857  38.96195571]\n",
        "[ 84.74518617  69.58646517  37.49093734]  ->  [ 84.25693462  69.37719077  37.92332231]\n",
        "[ 36.6609361   73.29637059  48.88014435]  ->  [ 37.39960462  73.72096692  49.59914615]\n",
        "[ 61.13181124  72.19105128  42.23949621]  ->  [ 60.84367308  72.02658615  42.20548462]\n",
        "[ 94.73820756  57.61703928  28.79538635]  ->  [ 94.94282933  57.990952    28.675084  ]\n",
        "[ 65.39303985  95.2238697   35.17419526]  ->  [ 64.90607933  94.595738    35.05622467]\n",
        "[ 57.11186488  75.09579962  20.27175665]  ->  [ 57.870805  75.452316  20.344892]\n",
        "[ 77.63654849  72.78260707  37.82828786]  ->  [ 77.454766  72.688935  38.126648]\n",
        "[ 96.44761123  61.90299118  33.74565723]  ->  [ 96.718335  62.316244  33.561062]\n",
        "[ 93.75825443  82.34680107  40.93357278]  ->  [ 93.94351143  82.18626929  40.62112857]\n",
        "[ 93.12592071  58.50558759  30.11259927]  ->  [ 93.49621091  58.21668273  30.10956636]\n",
        "[ 73.57068211  43.34635658  45.68389067]  ->  [ 73.890405    43.28152643  45.99913714]\n",
        "[ 93.4980154   58.77810523  32.16691045]  ->  [ 93.514415  59.472765  32.639935]\n",
        "[ 71.49717289  39.26977112  32.54758042]  ->  [ 71.68771  39.64851  31.63871]\n",
        "[ 80.54010156  69.00027996  32.2205544 ]  ->  [ 80.61291571  69.45640857  32.32526429]\n",
        "[ 79.14381384  92.13588958  34.15824802]  ->  [ 79.77032636  91.96706727  34.58777273]\n",
        "[ 65.60673871  93.55415004  27.37338533]  ->  [ 65.18744923  93.46820462  28.55801769]\n",
        "[ 63.99359787  48.25283416  33.3208233 ]  ->  [ 63.89635909  48.16802455  33.78679273]\n",
        "[ 53.31668066  90.46394569  43.06961483]  ->  [ 53.09829917  90.87785583  43.01930083]\n",
        "[ 82.9259224   55.04813758  37.44702731]  ->  [ 83.51756846  54.55906077  37.55363923]\n",
        "[ 68.29978642  40.98106333  42.03208407]  ->  [ 68.66583091  40.23104091  41.94222545]\n",
        "[ 60.64136429  39.04637223  29.62452923]  ->  [ 60.674235  39.087824  29.956652]\n",
        "[ 76.30193905  56.4142787   34.23862554]  ->  [ 76.22659667  56.83620583  33.7412825 ]\n",
        "[ 78.2927033   54.08853437  21.00223074]  ->  [ 78.09555   54.06615   21.025725]\n",
        "[ 82.18060944  77.11174154  38.81431598]  ->  [ 81.860156  77.094325  39.167922]\n",
        "[ 65.43721773  61.67908471  25.84539209]  ->  [ 64.74588333  61.875705    26.03185   ]"
       ]
      },
      {
       "output_type": "stream",
       "stream": "stdout",
       "text": [
        "\n",
        "[ 76.20370128  53.74267667  46.05081904]  ->  [ 75.091875  53.986052  45.896154]\n",
        "[ 65.45560881  73.24801772  30.69530516]  ->  [ 65.359968  74.290895  30.277044]\n",
        "[ 67.74011783  78.25325481  20.5275686 ]  ->  [ 67.46436091  77.91350909  20.53421455]\n",
        "[ 85.54038037  88.86777329  36.01220953]  ->  [ 85.905105  88.50829   35.64361 ]\n",
        "[ 90.20141343  63.08569893  36.36971027]  ->  [ 90.710985    63.56348429  36.84508   ]\n",
        "[ 45.53405455  63.58997287  40.65271119]  ->  [ 44.7547575  63.077175   40.7498575]\n",
        "[ 77.90819006  50.29399164  41.3066014 ]  ->  [ 78.09555  50.86223  41.65096]\n",
        "[ 69.40378757  49.51349633  39.23189764]  ->  [ 70.08575   49.861005  39.848755]\n",
        "[ 55.0894109   93.98428637  42.78558871]  ->  [ 55.107424  93.914905  43.172822]\n",
        "[ 57.34977568  61.27790555  15.43469537]  ->  [ 57.34074471  61.65190176  15.31285294]\n",
        "[ 81.96570928  90.84517502  29.29344122]  ->  [ 81.91560846  91.71221     29.48222538]\n",
        "[ 90.61999445  61.07116992  44.36879015]  ->  [ 91.111475  61.234921  43.933753]\n",
        "[ 85.75465599  60.02744197  33.04342169]  ->  [ 85.504615  59.472765  33.040425]\n",
        "[ 63.74797846  71.06280331  27.28034191]  ->  [ 64.558988  71.046926  27.433565]\n",
        "[ 54.00610294  54.9887572   44.94160941]  ->  [ 54.23302083  55.20087167  44.254145  ]\n",
        "[ 63.3799902   47.14320191  38.53944067]  ->  [ 64.278645  47.458065  38.246795]\n",
        "[ 56.16026453  68.73680092  45.75227641]  ->  [ 56.92679286  68.283545    45.71307286]\n",
        "[ 64.06602926  51.89123902  40.25842953]  ->  [ 63.49586909  51.80884273  39.97618364]\n",
        "[ 66.05432869  56.62457766  39.71058263]  ->  [ 66.08085   56.46909   39.448265]\n",
        "[ 54.12817617  76.24672001  40.31130134]  ->  [ 54.28864444  75.87060556  39.78200667]\n",
        "[ 82.03747119  47.23494014  47.42078965]  ->  [ 82.56255385  47.10378538  47.41185462]\n",
        "[ 62.04192561  85.1634539   26.48251697]  ->  [ 61.475215  85.865056  26.512438]\n",
        "[ 77.12140022  61.58269547  24.93137222]  ->  [ 77.06929437  62.15104188  24.65516563]\n",
        "[ 53.82551961  84.6483649   41.16888106]  ->  [ 54.46664   84.983978  41.811156]\n",
        "[ 81.66566952  70.57306903  31.42880101]  ->  [ 81.87159857  69.97132429  31.46707143]\n",
        "[ 72.67381139  63.18713251  40.6438917 ]  ->  [ 72.168298  62.676685  40.689784]\n",
        "[ 60.80599762  91.10520756  32.26479035]  ->  [ 60.14024833  91.31172     32.17269667]\n",
        "[ 85.09138121  59.87899889  21.06478206]  ->  [ 85.104125  59.472765  20.625235]\n",
        "[ 62.85485368  59.85834221  35.95956327]  ->  [ 62.74343333  59.85100556  35.86610444]\n",
        "[ 72.73843006  43.92595984  39.7160833 ]  ->  [ 72.27024091  44.27234909  39.61210182]\n",
        "[ 77.40638679  69.58294085  24.2919913 ]  ->  [ 77.094325  69.525064  24.349792]\n",
        "[ 86.51759013  69.33571911  19.41945092]  ->  [ 86.706085  68.684035  19.824255]\n",
        "[ 50.02922116  76.86101699  44.20178104]  ->  [ 50.68018909  77.11252909  44.38157364]\n",
        "[ 85.57320994  69.27890404  22.21194129]  ->  [ 85.865056  68.684035  22.107048]\n",
        "[ 73.11781588  57.03815947  14.67927653]  ->  [ 72.71118444  56.73608333  14.23964444]\n",
        "[ 60.99094119  60.95393525  35.65093821]  ->  [ 60.233696  61.355068  36.244345]\n",
        "[ 37.87090405  62.89333142  43.51125898]  ->  [ 37.42761091  62.65848091  43.61700182]\n",
        "[ 58.15807104  93.14814062  38.43661917]  ->  [ 58.12994559  93.53797324  39.13022882]\n",
        "[ 58.27986354  78.43900152  32.54579333]  ->  [ 58.271295  78.696285  32.239445]\n",
        "[ 50.2687527   55.28245599  47.4863848 ]  ->  [ 50.661985  55.107424  47.177722]\n",
        "[ 68.77611936  53.54806218  44.92539669]  ->  [ 68.163398  53.986052  44.374292]\n",
        "[ 51.87320205  56.83200018  18.79973701]  ->  [ 51.98860812  56.3689675   18.37247875]\n",
        "[ 68.28542975  60.39758377  39.15020159]  ->  [ 68.88428     61.02466375  38.69734625]\n",
        "[ 69.88029818  96.97264697  31.04968069]  ->  [ 70.53963867  96.758384    31.50521333]\n",
        "[ 58.46529888  86.62975815  25.10799366]  ->  [ 58.87203   86.706085  25.431115]\n",
        "[ 36.62626078  72.81826407  43.77881912]  ->  [ 36.284394  72.809082  43.453165]\n",
        "[ 46.39435167  70.50377474  39.83055614]  ->  [ 46.88593643  71.45885857  40.16342571]\n",
        "[ 63.5914783   58.55473441  44.5737902 ]  ->  [ 63.597812  59.072275  44.294194]\n",
        "[ 66.28157501  95.58351447  38.20890614]  ->  [ 66.200997   95.837257   38.5471625]\n",
        "[ 62.94096627  88.37466257  25.40338962]  ->  [ 63.18499923  88.69313154  25.56974615]\n",
        "[ 80.11304573  79.60964276  25.75445169]  ->  [ 80.178098  78.696285  24.269694]\n",
        "[ 73.22607875  40.87127339  32.23890801]  ->  [ 73.449866  40.44949   31.558612]\n",
        "[ 44.73070748  86.69793608  49.43779502]  ->  [ 44.99791214  86.42002071  49.17445071]\n",
        "[ 66.21820346  74.40257016  29.75296412]  ->  [ 65.92681538  75.69261     30.25239846]\n",
        "[ 88.72243123  87.53534539  37.14603663]  ->  [ 89.509515  87.066526  37.325668]\n",
        "[ 90.98090837  52.07096033  33.08730075]  ->  [ 91.111475  51.462965  33.440915]\n",
        "[ 87.35471535  54.31553195  41.62436052]  ->  [ 87.907555  54.666885  41.851205]\n",
        "[ 67.48886991  66.92123332  45.51553364]  ->  [ 67.11068143  66.39552071  46.05635   ]\n",
        "[ 80.32026665  51.54581508  33.06210892]  ->  [ 80.27599556  50.99572667  33.81915556]\n",
        "[ 79.65046736  85.20882566  25.54210769]  ->  [ 79.897755  85.064076  25.951752]\n",
        "[ 50.21147293  52.96321587  28.05816188]  ->  [ 49.98843364  52.60982273  28.65323909]\n",
        "[ 70.42991431  97.61949382  32.24487794]  ->  [ 69.97132429  97.69095357  32.66854143]\n",
        "[ 49.62833434  64.04425444  31.42714394]  ->  [ 50.12286385  64.63292462  31.60790308]\n",
        "[ 59.02550685  51.74426725  41.15179826]  ->  [ 59.072275  51.422916  41.731058]\n",
        "[ 64.16431052  68.26739394  29.41774819]  ->  [ 63.59209071  68.16911929  29.52183429]\n",
        "[ 58.91300596  65.64759138  34.60640869]  ->  [ 58.87203     65.480115    34.32771429]\n",
        "[ 54.12817617  76.24672001  40.31130134]  ->  [ 53.81584375  76.34340625  40.84998   ]\n",
        "[ 46.80380984  48.13307805  38.2166514 ]  ->  [ 47.25782  47.25782  38.44704]\n",
        "[ 64.2846348   76.46626644  28.55268288]  ->  [ 63.517714  76.573688  29.436015]\n",
        "[ 57.26487643  47.81900749  39.02964501]  ->  [ 57.93755333  48.0588      38.58053667]\n",
        "[ 45.53405455  63.58997287  40.65271119]  ->  [ 45.65586   63.077175  40.649735]\n",
        "[ 66.68519642  69.15677965  35.60773587]  ->  [ 67.40554769  68.17572077  35.73603077]\n",
        "[ 41.22384043  81.89444346  46.37019205]  ->  [ 40.44949  81.29947  46.85733]\n",
        "[ 66.49482263  58.32903436  30.12088533]  ->  [ 66.70383444  58.64953556  30.70423333]\n",
        "[ 58.48735552  61.01036996  18.96766034]  ->  [ 57.40356667  61.04135083  19.3236425 ]\n",
        "[ 70.23427939  53.81076702  35.33669486]  ->  [ 70.646436  53.865905  34.762532]\n",
        "[ 81.25838846  59.19599641  29.04188701]  ->  [ 81.900205  59.472765  28.635035]\n",
        "[ 91.96164834  71.12141188  28.6119154 ]  ->  [ 91.84570667  71.10922444  28.65728444]\n",
        "[ 79.08379223  76.93982487  21.18253633]  ->  [ 79.11217846  77.20214923  21.31839077]\n",
        "[ 52.93746024  64.3535247   38.12951592]  ->  [ 52.80306615  65.12583538  38.16977769]\n",
        "[ 85.9027221   46.80704933  30.62863926]  ->  [ 85.55467625  47.38297312  30.81269938]\n",
        "[ 63.53824778  53.00465558  28.76168007]  ->  [ 63.45946091  52.53700636  28.68964727]\n",
        "[ 73.48847618  84.87022391  32.80287888]  ->  [ 73.489915    84.38896429  33.64116   ]\n",
        "[ 82.0098614   46.66828042  27.37110439]  ->  [ 81.76670833  46.657085    26.89957833]\n",
        "[ 53.21882196  44.650631    25.15386148]  ->  [ 53.59056813  44.60457375  25.25590063]\n",
        "[ 47.75401293  45.39596554  33.12887696]  ->  [ 47.99205167  45.42224083  33.5410375 ]\n",
        "[ 48.31139978  61.76480446  44.95915203]  ->  [ 48.64133091  62.29439909  45.29177818]\n",
        "[ 75.5812561   66.30196911  18.69146636]  ->  [ 75.66905176  66.45778176  18.30474882]\n",
        "[ 59.36627305  61.10433664  37.34923557]  ->  [ 59.98107923  61.73707385  37.80009462]\n",
        "[ 53.12417091  58.75753244  29.20170921]  ->  [ 53.465415  58.311344  29.155672]\n",
        "[ 42.08469084  87.89318716  45.80011   ]  ->  [ 42.652185  87.867506  45.335468]\n",
        "[ 36.27929412  72.80658385  46.22720443]  ->  [ 36.364492    73.02267667  46.08304933]\n",
        "[ 67.16243689  44.31192801  40.76726894]  ->  [ 66.81508167  44.32089333  40.84998   ]\n",
        "[ 60.47039717  62.6624519   34.54047927]  ->  [ 60.04269308  62.53805385  34.68859538]\n",
        "[ 63.9078117   53.66755355  40.75843883]  ->  [ 64.53228867  53.45206533  39.968902  ]\n",
        "[ 82.38296469  52.62275218  26.01831113]  ->  [ 83.15888786  52.29255143  25.74578571]\n",
        "[ 74.61567735  76.40526922  39.21088968]  ->  [ 75.84664462  76.30874846  38.07735692]\n",
        "[ 83.98711098  90.34497882  35.12381068]  ->  [ 83.902655    91.111475    35.10962333]\n",
        "[ 54.56814127  60.37826654  35.06329335]  ->  [ 54.386542    60.393892    35.10962333]\n",
        "[ 82.2068978  53.0139219  34.9075577]  ->  [ 81.88200091  53.08312909  34.80622182]\n",
        "[ 63.91574038  48.7489167   32.04910521]  ->  [ 64.1785225   49.00996375  30.88779125]\n",
        "[ 36.65058082  73.24083302  44.85739313]  ->  [ 36.644835  72.48869   44.45439 ]\n",
        "[ 64.2946882   72.94611311  33.46842829]  ->  [ 64.82216714  73.31827643  33.841405  ]\n",
        "[ 78.81058417  58.34712764  37.15435302]  ->  [ 80.098     58.271295  37.045325]\n",
        "[ 88.08741416  51.46592631  29.1986447 ]  ->  [ 88.32624909  51.37194455  29.41781091]\n",
        "[ 60.23908228  74.69012822  30.21088579]"
       ]
      },
      {
       "output_type": "stream",
       "stream": "stdout",
       "text": [
        "  ->  [ 59.45456091  74.70958909  29.70907636]\n",
        "[ 43.50338459  82.24297509  35.12513457]  ->  [ 43.37614769  82.59336077  35.33554077]\n",
        "[ 73.56611448  53.00742731  27.13294343]  ->  [ 73.02267667  52.64218556  26.78833111]\n",
        "[ 62.98272925  92.12429143  34.71032202]  ->  [ 63.06177154  92.45157615  34.75020923]\n",
        "[ 82.31819806  51.28784137  41.87655657]  ->  [ 82.50094  51.26272  41.25047]\n",
        "[ 59.01550259  86.30344196  40.09589354]  ->  [ 59.072275    86.17209833  38.78078167]\n",
        "[ 65.48336795  47.71167317  42.47086279]  ->  [ 65.51348917  47.9586775   42.38519167]\n",
        "[ 66.09159712  72.38709022  37.40661037]  ->  [ 66.23103375  71.9880775   36.09416125]\n",
        "[ 68.70258347  45.7069523   32.47093901]  ->  [ 68.684035  46.296644  32.920278]\n",
        "[ 74.19106454  80.74696217  32.93907551]  ->  [ 74.290895  81.139274  33.561062]\n",
        "[ 84.74848184  55.29536513  36.75003867]  ->  [ 85.504615    55.72532286  37.13114429]\n",
        "[ 39.76563573  84.3704958   43.50451355]  ->  [ 39.74093077  85.11952846  42.35951923]\n",
        "[ 86.20403923  83.1957604   24.8774718 ]  ->  [ 85.905105    83.01585571  24.42989   ]\n",
        "[ 48.06163432  63.89313669  43.21263361]  ->  [ 48.379192  63.878155  43.493214]\n",
        "[ 80.68650923  54.18684821  28.61151054]  ->  [ 80.44842875  55.11743625  28.9354025 ]\n",
        "[ 43.64258349  66.74939509  31.72285422]  ->  [ 43.813606  66.08085   31.718808]\n",
        "[ 73.66978075  62.17802989  40.76472553]  ->  [ 73.369768  62.676685  40.609686]\n",
        "[ 78.35854897  94.52160486  35.35787707]  ->  [ 78.62953667  94.91613     35.10962333]\n",
        "[ 81.45952818  55.76802062  41.1636459 ]  ->  [ 81.099225   56.7694575  41.3505925]\n",
        "[ 83.0242602   71.29119715  31.10890203]  ->  [ 83.101675  71.887955  31.037975]\n",
        "[ 82.31819806  51.28784137  41.87655657]  ->  [ 82.83468167  50.86223     41.78445667]\n",
        "[ 73.71773019  91.75193217  37.06583788]  ->  [ 73.489915  91.511965  37.045325]\n",
        "[ 60.67634302  40.52593039  38.90291113]  ->  [ 60.89189261  40.53655304  38.74305435]\n",
        "[ 77.52277935  77.75963379  26.87198034]  ->  [ 77.7951825   77.82855667  27.66718417]\n",
        "[ 75.04542747  51.36420022  44.14683019]  ->  [ 74.691385    52.13044833  43.92040333]\n",
        "[ 51.0151574   59.34123632  35.42119027]  ->  [ 51.12922333  58.64953556  35.42111556]\n",
        "[ 75.4748082   59.88258811  43.04279767]  ->  [ 75.492365  60.153598  43.012626]\n",
        "[ 68.55859265  46.92095632  22.57315707]  ->  [ 68.62942273  46.71169727  23.30123636]\n",
        "[ 44.44046294  75.52204607  33.11429454]  ->  [ 44.33996429  75.34933286  32.66854143]\n",
        "[ 59.54125855  65.12442244  25.35992397]  ->  [ 60.153598    66.02745133  25.84495467]\n",
        "[ 60.56675475  69.82086106  17.23702944]  ->  [ 61.09292909  69.24836182  17.80360091]\n",
        "[ 80.82371967  43.0693331   34.48141055]  ->  [ 80.68053091  42.41553182  34.62418091]\n",
        "[ 59.58088594  40.89764328  39.83979924]  ->  [ 59.072275  41.25047   40.44949 ]\n",
        "[ 78.63388125  90.06258209  31.71312202]  ->  [ 78.58846077  90.81880923  31.82355154]\n",
        "[ 88.12977713  52.25459532  43.27806117]  ->  [ 87.6071875   52.21388375  43.30298125]\n",
        "[ 78.05367912  46.83526144  41.48132233]  ->  [ 78.696285  46.376742  41.490764]\n",
        "[ 86.77136087  57.84788731  38.09997289]  ->  [ 87.17332333  57.470315    38.41366583]\n",
        "[ 67.85283738  55.26771952  45.77250862]  ->  [ 67.68281    55.1674975  45.455615 ]\n",
        "[ 51.85029949  78.96089184  28.86422103]  ->  [ 52.63106083  78.72965917  27.834055  ]\n",
        "[ 80.68095123  86.4935577   27.61343534]  ->  [ 80.38406429  87.02075571  28.32036429]\n",
        "[ 61.17716581  50.54195469  32.27431253]  ->  [ 61.074725  50.261495  32.239445]\n",
        "[ 82.44542713  49.66595952  35.81183258]  ->  [ 81.29947  50.06125  35.64361]\n",
        "[ 88.01538319  52.63689239  28.22723825]  ->  [ 88.47188182  52.28214909  28.25274909]\n",
        "[ 75.03875825  66.56332488  25.08986425]  ->  [ 75.06962556  66.65933556  25.49786333]\n",
        "[ 82.03910907  68.93979641  29.42434043]  ->  [ 81.900205    68.71740917  29.40264083]\n",
        "[ 81.62179764  81.43733129  35.39690964]  ->  [ 81.43296667  81.56646333  35.082924  ]\n",
        "[ 39.89453651  80.15291243  45.73301158]  ->  [ 40.22063857  80.35545786  45.54143429]\n",
        "[ 50.0511381   59.81503395  35.41630725]  ->  [ 50.141348  59.913304  35.443365]\n",
        "[ 85.78002966  60.70782039  42.43053162]  ->  [ 85.544664  60.674235  42.371842]\n",
        "[ 50.62454958  43.5995433   40.33441694]  ->  [ 50.06125  43.65341  40.44949]\n",
        "[ 73.73728777  59.66955793  18.65043116]  ->  [ 73.83319214  59.41555214  18.10786929]\n",
        "[ 43.98894012  51.04156061  36.8591581 ]  ->  [ 44.254145    50.74780429  37.64606   ]\n",
        "[ 59.80950374  41.72134449  38.73532947]  ->  [ 59.48816846  42.05145     39.49447538]\n",
        "[ 56.23970791  49.5794267   26.27179966]  ->  [ 56.669335  49.460515  26.232095]\n",
        "[ 89.67755514  73.38199073  40.60866962]  ->  [ 90.04350167  73.089425    40.98347667]\n",
        "[ 63.88195696  89.68174246  37.56758946]  ->  [ 63.878155  90.310495  37.045325]\n",
        "[ 74.31656618  89.60516111  25.57897241]  ->  [ 74.95324385  90.35670538  25.60055308]\n",
        "[ 64.57749114  45.07378882  42.1017944 ]  ->  [ 64.99380571  45.02651857  41.42210857]\n",
        "[ 61.94853381  51.10114998  46.19208865]  ->  [ 61.72552125  50.68701563  46.03131938]\n",
        "[ 86.3398232   64.71084671  40.88559187]  ->  [ 86.61506455  65.06142091  41.43251091]\n",
        "[ 59.25562512  39.82520007  39.21636911]  ->  [ 58.72184625  39.56507458  38.88090417]\n",
        "[ 76.19063013  62.42899034  31.44622202]  ->  [ 77.054276  62.556538  31.438465]\n",
        "[ 83.88942877  91.545267    35.73463042]  ->  [ 84.36989333  89.97675333  35.64361   ]\n",
        "[ 61.45425988  86.00362146  24.29193393]  ->  [ 61.435166  86.425742  24.630135]\n",
        "[ 50.6569564   90.67033446  38.97980607]  ->  [ 50.581887  91.071426  39.007726]\n",
        "[ 76.69062782  76.7921832   30.89266375]  ->  [ 76.0931   76.49359  31.63871]\n",
        "[ 68.71509262  38.86119792  30.4571587 ]  ->  [ 69.43040273  39.79414273  30.47364818]\n",
        "[ 53.23358239  50.60682824  26.12861643]  ->  [ 52.704484  50.421691  27.073124]\n",
        "[ 79.92692919  55.31879157  29.04713669]  ->  [ 79.69751     55.91841625  28.98546375]\n",
        "[ 65.08067171  45.58317549  24.09140727]  ->  [ 65.1797475  45.65586    23.829155 ]\n",
        "[ 75.48249423  53.98999518  23.21516076]  ->  [ 75.84835611  54.06615     23.80690556]\n",
        "[ 43.84444881  81.79091604  51.86619198]  ->  [ 43.493214  81.900205  51.983602]\n",
        "[ 71.47739644  37.44710888  30.01926195]  ->  [ 71.41237313  37.64606     29.96165812]\n",
        "[ 68.37778733  70.72685806  18.72578109]  ->  [ 69.044476  71.086975  19.704108]\n",
        "[ 83.81095565  52.12668157  25.26850857]  ->  [ 83.782508  51.422916  25.831605]\n",
        "[ 77.08939542  50.52313023  36.60098977]  ->  [ 76.89408     50.17567571  35.443365  ]\n",
        "[ 65.43721773  61.67908471  25.84539209]  ->  [ 65.3799925  61.3750925  25.831605 ]\n",
        "[ 62.27128395  73.47058702  22.31763751]  ->  [ 62.18274733  72.70228467  22.88132867]\n",
        "[ 68.78696225  47.00404783  17.68873271]  ->  [ 68.0833      47.92530333  19.09002333]\n",
        "[ 70.53329533  80.31840899  22.90120729]  ->  [ 70.285995  80.298245  22.42744 ]\n",
        "[ 87.95436841  60.54832806  34.83042023]  ->  [ 88.708535    60.70760917  35.00950083]\n",
        "[ 57.78918091  76.74049219  37.21509101]  ->  [ 57.470315  76.49359   37.445815]\n",
        "[ 61.9397701   55.06794554  36.28440854]  ->  [ 61.98352923  54.99035769  36.38297615]\n",
        "[ 51.0151574   59.34123632  35.42119027]  ->  [ 51.342818  59.432716  35.443365]\n",
        "[ 58.34079844  53.01376881  46.6992625 ]  ->  [ 58.47154  52.86468  45.65586]\n",
        "[ 52.30377125  87.95196811  30.58379031]  ->  [ 52.40257615  87.49166154  30.68369538]\n",
        "[ 65.37213503  58.20324937  40.2248836 ]  ->  [ 65.880605  57.750658  40.609686]\n",
        "[ 38.30226286  66.56196083  47.29420207]  ->  [ 39.49832625  66.5814625   48.10886125]\n",
        "[ 63.50150708  84.12190445  34.80499775]  ->  [ 63.477665  84.303145  35.042875]\n",
        "[ 60.9459703   89.21669902  32.65915094]  ->  [ 60.34049333  88.28579556  31.46071444]\n",
        "[ 59.00167861  43.04328657  31.77057586]  ->  [ 58.64953556  43.07492444  32.17269667]\n",
        "[ 71.99562909  53.12585436  26.592264  ]  ->  [ 71.9880775   52.98983313  27.25835063]\n",
        "[ 92.70558972  73.76590015  32.19559494]  ->  [ 92.352994  74.050601  32.359592]\n",
        "[ 53.20010956  44.24829593  32.59249682]  ->  [ 53.26517    44.3542675  33.3407925]\n",
        "[ 61.14730772  59.99203435  14.34533568]  ->  [ 61.05652091  60.32835727  14.49045636]\n",
        "[ 57.70803923  67.06646722  38.0217413 ]  ->  [ 58.79921364  66.69978909  38.59267273]\n",
        "[ 46.76422387  56.1148977   27.01446065]  ->  [ 47.057575  55.467865  27.033075]\n",
        "[ 66.50101267  78.29412471  21.26893343]  ->  [ 66.23488462  78.34200538  21.44161846]\n",
        "[ 38.23333717  63.7489647   42.00342164]  ->  [ 37.806256  63.477665  41.570862]\n",
        "[ 68.65263927  92.41771011  31.43515974]  ->  [ 68.88428  92.1127   31.63871]\n",
        "[ 75.94865712  68.2126273   25.58335971]  ->  [ 76.013002    68.27019533  26.40564067]\n",
        "[ 71.07202143  64.68180051  24.35862481]  ->  [ 70.686485  65.480115  23.829155]\n",
        "[ 93.24343201  67.58325432  42.67570856]  ->  [ 93.153974  67.883055  42.532038]\n",
        "[ 86.59674722  41.49986232  33.37661013]  ->  [ 86.58093188  40.84998     33.51600688]\n",
        "[ 54.25971142  58.16615495  22.74390059]  ->  [ 54.266395  58.271295  22.227195]\n",
        "[ 50.19830776  85.64635343  32.92950482]"
       ]
      },
      {
       "output_type": "stream",
       "stream": "stdout",
       "text": [
        "  ->  [ 49.69716818  85.88690091  33.05862909]\n",
        "[ 70.31591845  80.70298973  34.01850092]  ->  [ 69.73865867  80.578588    34.33534267]\n",
        "[ 52.58722314  60.30749703  37.515825  ]  ->  [ 52.0637      60.273745    37.76048571]\n",
        "[ 37.05556517  76.62259799  52.47746364]  ->  [ 37.02712091  76.67563091  52.10010818]\n",
        "[ 80.21640391  95.48210539  37.7109864 ]  ->  [ 79.537314  94.91613   37.886354]\n",
        "[ 47.9967406   81.6447717   45.43551965]  ->  [ 47.33291188  81.69996     45.38052313]\n",
        "[ 43.87571968  71.05079129  31.48072083]  ->  [ 43.78690667  71.62096167  31.23822   ]\n",
        "[ 88.01538319  52.63689239  28.22723825]  ->  [ 88.588388  53.024876  28.234545]\n",
        "[ 83.15907062  47.10938793  32.36809194]  ->  [ 82.90143   47.097624  32.760082]\n",
        "[ 54.81341263  70.90074936  34.28008063]  ->  [ 55.09598143  70.77230429  33.58394714]\n",
        "[ 76.95361611  49.91432106  42.35461364]  ->  [ 77.04811462  49.59914615  42.82162308]\n",
        "[ 45.86244875  73.15758188  29.1219334 ]  ->  [ 45.856105    72.82243167  28.96877667]\n",
        "[ 75.114108    47.09474962  43.24433894]  ->  [ 74.31314444  47.48031444  42.98592667]\n",
        "[ 75.48793648  66.09065389  40.60187442]  ->  [ 75.612512  66.321144  39.848755]\n",
        "[ 57.17607968  49.29203645  34.33641571]  ->  [ 57.62049875  49.460515    34.44214   ]\n",
        "[ 63.70429429  84.95989706  35.42472497]  ->  [ 64.22858375  85.25430875  35.89391625]\n",
        "[ 71.68500787  39.0566957   34.79225988]  ->  [ 71.21440364  39.41185682  33.64116   ]\n",
        "[ 93.66850663  64.33048009  29.65985176]  ->  [ 92.713435  65.27987   28.0343  ]\n",
        "[ 85.10103543  66.64825267  19.27962778]  ->  [ 85.4044925  67.482565   18.9231525]\n",
        "[ 42.27587285  85.09357147  43.44157624]  ->  [ 41.65096     84.38896429  43.453165  ]\n",
        "[ 53.87132151  64.64166707  16.57861778]  ->  [ 54.43583308  64.20162769  16.63573846]\n",
        "[ 71.43916036  40.5906436   32.18834019]  ->  [ 71.62096167  40.649735    32.17269667]\n",
        "[ 91.9705738   55.72986973  43.32343643]  ->  [ 92.2128225   55.64307937  43.37807313]\n",
        "[ 48.75774566  80.71625123  43.04246132]  ->  [ 49.019976  80.698735  42.371842]\n",
        "[ 60.01029573  43.4902142   21.71467269]  ->  [ 60.25834154  43.62260308  21.90372231]\n",
        "[ 40.15109197  57.46202573  33.266194  ]  ->  [ 39.01440083  57.5704375   32.9403025 ]\n",
        "[ 59.03158406  45.8320841   38.39809388]  ->  [ 59.472765  45.65586   37.64606 ]\n",
        "[ 65.45388563  39.0730684   40.4040377 ]  ->  [ 65.079625  39.007726  40.769882]\n",
        "[ 80.38028669  86.89971746  29.02654885]  ->  [ 80.298245  86.50584   28.83528 ]\n",
        "[ 50.62454958  43.5995433   40.33441694]  ->  [ 50.7621075   43.60334875  40.19918375]\n",
        "[ 80.30981733  59.69160846  33.51845869]  ->  [ 79.81193571  60.30235143  32.72575429]\n",
        "[ 95.90589472  71.78656683  29.08636048]  ->  [ 94.836032  71.046926  27.473614]\n",
        "[ 53.51949052  87.48345065  32.23281279]  ->  [ 53.465415  87.507065  31.838955]\n",
        "[ 52.83178258  65.42789497  41.03410222]  ->  [ 52.544288  65.840556  41.050225]\n",
        "[ 83.64010094  68.44337255  37.41749804]  ->  [ 83.59561267  68.323594    37.21887067]\n",
        "[ 86.02989476  74.76114219  35.29965266]  ->  [ 85.905105    75.46375857  35.35754571]\n",
        "[ 52.74268367  49.01014681  38.95169408]  ->  [ 52.86468   49.380417  39.408216]\n",
        "[ 69.4967701   62.1922307   34.94444818]  ->  [ 69.72166818  61.49341909  34.26009909]\n",
        "[ 57.09668538  74.34624473  38.44565678]  ->  [ 57.05647533  74.49114     38.286844  ]\n",
        "[ 44.58650801  66.99046114  27.75690807]  ->  [ 44.56881571  66.76740429  27.40495857]\n",
        "[ 64.09148389  49.85728711  30.85828237]  ->  [ 63.077175  50.06125   32.0392  ]\n",
        "[ 81.08214466  68.2940011   20.79100188]  ->  [ 81.29947  68.0833   21.22597]\n",
        "[ 83.88942877  91.545267    35.73463042]  ->  [ 83.30192   91.111475  35.64361 ]\n",
        "[ 93.7319893   51.64001758  35.81497622]  ->  [ 93.53261909  51.88165909  35.60720182]\n",
        "[ 54.546555    53.50572654  22.70911463]  ->  [ 54.1662725   53.53216333  22.79455583]\n",
        "[ 57.10260107  74.40122959  21.60703143]  ->  [ 57.15564429  73.86179857  21.51203429]\n",
        "[ 98.88329304  65.06271366  40.52842019]  ->  [ 98.12005     64.639086    40.74318267]\n",
        "[ 52.64467514  49.94714817  28.16917185]  ->  [ 52.303994  49.460515  27.313418]\n",
        "[ 36.22963486  66.45985323  45.78434046]  ->  [ 36.364492  66.321144  46.256595]\n",
        "[ 88.24688725  77.8294857   29.41374075]  ->  [ 87.907555  78.49604   29.436015]\n",
        "[ 72.58274633  59.62606289  32.24543152]  ->  [ 71.887955  59.27252   32.43969 ]\n",
        "[ 38.4374245   57.00572504  36.14180656]  ->  [ 37.87967917  56.63596083  35.843855  ]\n",
        "[ 81.68197049  45.47545439  43.34288872]  ->  [ 81.87159857  45.54143429  43.28152643]\n",
        "[ 76.62999589  54.74522939  30.71559129]  ->  [ 76.24713462  54.00453615  30.46804692]\n",
        "[ 74.83716993  46.68523281  35.81515764]  ->  [ 74.571238    46.64373533  35.61691067]\n",
        "[ 68.83197002  41.6013854   21.50637879]  ->  [ 68.21679667  41.5508375   22.06032417]\n",
        "[ 57.75764762  56.03323517  26.63391514]  ->  [ 57.85260091  56.25064091  26.90564636]\n",
        "[ 87.40712431  58.33640122  40.98340025]  ->  [ 88.33665143  58.09965643  41.53653429]\n",
        "[ 81.46786293  85.09714604  31.67155514]  ->  [ 80.89898     85.59043429  31.838955  ]\n",
        "[ 48.3481155   65.01673037  43.89871147]  ->  [ 48.218996  64.999527  43.813606]\n",
        "[ 48.66309636  74.23505781  23.01232959]  ->  [ 49.00541273  74.23628273  22.39103182]\n",
        "[ 52.83250007  71.45761108  38.62673851]  ->  [ 52.39744167  71.92132917  38.5471625 ]\n",
        "[ 49.01907777  50.81645493  29.90484103]  ->  [ 49.060025  50.261495  29.035525]\n",
        "[ 67.9500243   86.63997166  26.77203836]  ->  [ 68.323594  87.106575  26.352242]\n",
        "[ 75.53960623  60.32858143  17.84223585]  ->  [ 76.02028364  60.61962273  17.47592727]\n",
        "[ 68.13896527  59.64467348  23.41405254]  ->  [ 68.51716417  59.73975833  22.99480083]\n",
        "[ 79.8598566   79.15681551  31.45765905]  ->  [ 79.55187727  78.75089727  30.72850545]\n",
        "[ 73.86497606  71.48624716  38.72456988]  ->  [ 73.69016     71.447416    38.74073267]\n",
        "[ 83.20293362  77.25460202  32.95381458]  ->  [ 83.502165    77.02757667  33.10717333]\n",
        "[ 54.55082426  52.40439494  35.4931422 ]  ->  [ 55.067375  52.223896  35.723708]\n",
        "[ 59.39099171  92.71996641  29.97661727]  ->  [ 59.90186143  92.62761571  30.15117571]\n",
        "[ 43.8789972   55.16787355  42.44907554]  ->  [ 44.23874154  55.45246154  42.79081615]\n",
        "[ 60.27315018  80.75649626  35.96277572]  ->  [ 60.313794  80.818882  36.244345]\n",
        "[ 80.00869893  58.66676551  33.06433282]  ->  [ 79.897755  58.671785  33.440915]\n",
        "[ 59.98652746  61.60890472  25.61116504]  ->  [ 59.592912  62.316244  25.431115]\n",
        "[ 83.15907062  47.10938793  32.36809194]  ->  [ 83.30192  46.85733  33.24067]\n",
        "[ 80.68650923  54.18684821  28.61151054]  ->  [ 80.56523833  53.49878917  29.436015  ]\n",
        "[ 95.49261072  74.96607096  37.33744159]  ->  [ 95.637012  75.051826  37.325668]\n",
        "[ 60.48953707  44.66483214  42.158081  ]  ->  [ 59.873255  44.654635  42.45194 ]\n",
        "[ 52.96842399  57.90794076  30.81687371]  ->  [ 52.82827182  57.88900909  31.82075091]\n",
        "[ 69.90944731  96.34517637  38.75958501]  ->  [ 69.33816867  96.437992    39.14122267]\n",
        "[ 91.98816659  58.8300776   42.74810747]  ->  [ 91.57871333  59.40601667  43.052675  ]\n",
        "[ 42.31507923  60.29708681  34.13921412]  ->  [ 42.23349091  60.25554091  33.60475182]\n",
        "[ 84.47590647  65.24336005  41.04045803]  ->  [ 83.96940333  65.27987     41.11697333]\n",
        "[ 46.80380984  48.13307805  38.2166514 ]  ->  [ 46.657085  47.858555  38.246795]\n",
        "[ 78.70023525  63.29536071  35.21851397]  ->  [ 79.08137154  62.69208846  34.65778846]\n",
        "[ 65.89457152  40.38969867  33.87359315]  ->  [ 65.40309769  40.66513846  34.41133308]\n",
        "[ 61.99777706  58.61912162  18.14156194]  ->  [ 61.74613471  57.67056     17.88070059]\n",
        "[ 65.57948585  49.01446276  21.03292757]  ->  [ 66.33570727  49.40590273  20.89829636]\n",
        "[ 60.69072451  94.56202766  38.46068224]  ->  [ 60.70760917  94.64913667  37.7461825 ]\n",
        "[ 61.12537973  72.0578083   21.02013075]  ->  [ 61.875705  71.887955  20.82548 ]\n",
        "[ 79.92692919  55.31879157  29.04713669]  ->  [ 80.098    55.66811  28.43479]\n",
        "[ 88.28047559  59.15810969  24.16439803]  ->  [ 88.308045  59.472765  23.829155]\n",
        "[ 72.97812145  53.5773264   28.58743022]  ->  [ 73.489915  54.266395  28.635035]\n",
        "[ 75.62077697  42.23221297  26.00747935]  ->  [ 75.51056909  42.23349091  25.26727818]\n",
        "[ 79.07977498  82.44265524  33.03163294]  ->  [ 79.096775  82.300695  33.040425]\n",
        "[ 52.41283186  42.39840029  35.82245282]  ->  [ 52.784582  41.811156  35.042875]\n",
        "[ 68.12422763  53.06267555  40.63986718]  ->  [ 68.283545  52.46419   40.249245]\n",
        "[ 78.97879655  71.43800633  35.33002269]  ->  [ 78.38681545  71.90615909  34.18728273]\n",
        "[ 74.70152265  63.11930908  43.13127822]  ->  [ 74.691385    63.01042667  43.11942333]\n",
        "[ 65.0188223   41.94851898  32.37257199]  ->  [ 64.719184  41.530813  32.239445]\n",
        "[ 60.4361854   68.24030217  42.40030695]  ->  [ 59.67301   68.283545  41.851205]\n",
        "[ 66.05432869  56.62457766  39.71058263]  ->  [ 66.65297857  57.04121857  39.41965857]\n",
        "[ 77.58776574  83.6073257   35.10960276]  ->  [ 76.7939575   83.46879083  35.3432425 ]\n",
        "[ 73.18477137  49.30445217  45.16072028]  ->  [ 73.03221214  48.83117357  44.33996429]"
       ]
      },
      {
       "output_type": "stream",
       "stream": "stdout",
       "text": [
        "\n",
        "[ 47.80809387  56.99244845  36.79393681]  ->  [ 48.51650286  57.01261214  37.445815  ]\n",
        "[ 95.16801508  54.47007196  37.36931632]  ->  [ 94.98287833  54.46664     37.51256333]\n",
        "[ 58.23480057  55.90830647  38.72148402]  ->  [ 58.24268857  55.69671643  39.01916857]\n",
        "[ 54.61226617  54.56659887  31.76116073]  ->  [ 54.37764222  53.79915667  31.63871   ]\n",
        "[ 44.45215807  63.48030146  39.94898439]  ->  [ 44.63238556  64.21189667  40.40499111]\n",
        "[ 35.24772992  63.74536935  40.66549411]  ->  [ 35.10962333  63.7780325   40.01562583]\n",
        "[ 70.61332143  74.41583365  20.65477631]  ->  [ 70.77750545  74.70958909  20.53421455]\n",
        "[ 58.2751585   63.04861969  28.47179875]  ->  [ 58.271295  62.676685  28.635035]\n",
        "[ 47.82161159  68.41470247  35.99420759]  ->  [ 47.39131667  68.48379     35.91060333]\n",
        "[ 69.47685133  95.57662765  35.06932977]  ->  [ 70.1858725  95.6169875  33.841405 ]\n",
        "[ 62.42330265  44.67539385  20.82379911]  ->  [ 61.875705  44.374292  20.184696]\n",
        "[ 80.74839679  89.79644276  31.06017634]  ->  [ 81.20704923  90.29509154  31.14579923]\n",
        "[ 43.46483423  64.61865134  40.68370443]  ->  [ 43.27961933  65.359968    41.410666  ]\n",
        "[ 74.67823658  68.85126337  43.9628025 ]  ->  [ 74.290895    69.62804714  44.56881571]\n",
        "[ 91.69208015  63.28679321  40.26413557]  ->  [ 91.16868786  63.73512286  40.47809643]\n",
        "[ 79.85002541  48.50827611  39.74809436]  ->  [ 79.497265  49.060025  40.649735]\n",
        "[ 61.87057299  42.25399562  31.41970769]  ->  [ 61.50382143  41.93702429  31.06658143]\n",
        "[ 83.08047834  54.03968871  36.10700582]  ->  [ 83.47991556  54.24414556  36.57808667]\n",
        "[ 74.37754248  89.11686542  28.89173702]  ->  [ 74.691385  89.70976   28.83528 ]\n",
        "[ 94.64227179  74.88180471  34.34756651]  ->  [ 94.65867214  75.29212     34.15607571]\n",
        "[ 67.86955384  47.84535054  19.87336991]  ->  [ 67.93311625  47.858555    20.27480625]\n",
        "[ 92.08877427  45.76613536  32.94116644]  ->  [ 91.71221     45.816056    32.73338267]\n",
        "[ 73.07420592  45.61513279  38.06553342]  ->  [ 72.70713909  46.42043182  38.26499909]\n",
        "[ 81.34605101  45.57429971  29.56672872]  ->  [ 81.47110857  46.57126571  28.0343    ]\n",
        "[ 53.19878764  80.62193818  26.99423998]  ->  [ 54.1662725   80.96572833  26.99970083]\n",
        "[ 90.79034803  61.76477411  23.53177214]  ->  [ 90.61753733  61.034676    23.62891   ]\n",
        "[ 48.55324904  69.03181542  27.5899706 ]  ->  [ 48.23043857  69.37058929  27.23332   ]\n",
        "[ 36.37360257  69.00450982  46.69684155]  ->  [ 35.883904    68.403692    46.16314733]\n",
        "[ 68.71102474  86.0116367   35.63860563]  ->  [ 68.56960929  86.19116929  35.38615214]\n",
        "[ 51.55646441  83.07752588  27.36499729]  ->  [ 51.783357  82.300695  27.513663]\n",
        "[ 82.63048503  68.50015297  20.15500475]  ->  [ 82.71938909  68.30174909  19.98809182]\n",
        "[ 66.26389517  75.69641513  31.36926496]  ->  [ 66.45273357  76.80826071  31.037975  ]\n",
        "[ 64.6714841   39.95532176  38.08024646]  ->  [ 65.039576  39.848755  37.966452]\n",
        "[ 47.835363    73.13019267  44.17285265]  ->  [ 48.59278667  73.25629583  44.5545125 ]\n",
        "[ 40.27207495  73.5711949   40.49013693]  ->  [ 39.848755  73.089425  40.249245]\n",
        "[ 62.30269345  91.41554004  27.68386624]  ->  [ 62.30480143  91.82663571  28.40618357]\n",
        "[ 77.94632811  96.81356841  32.23021715]  ->  [ 77.51706444  96.74058444  32.30619333]\n",
        "[ 49.33723406  59.77926643  19.33830402]  ->  [ 49.52726333  60.54073833  19.423765  ]\n",
        "[ 64.42538579  55.02905965  39.68319071]  ->  [ 65.01287667  55.63473583  40.5496125 ]\n",
        "[ 52.11124113  77.47475553  26.02558052]  ->  [ 52.61822462  77.32537692  25.69297385]\n",
        "[ 72.97812145  53.5773264   28.58743022]  ->  [ 72.728984  54.546738  28.635035]\n",
        "[ 52.10385208  78.26366841  35.27620414]  ->  [ 52.58741769  78.34200538  35.45876846]\n",
        "[ 78.35854897  94.52160486  35.35787707]  ->  [ 77.69506  94.11515  35.24312]\n",
        "[ 92.09591851  60.58640343  39.33650736]  ->  [ 91.511965    61.44184083  38.9476525 ]\n",
        "[ 44.75234395  80.79778801  30.52949046]  ->  [ 45.56343923  80.65252462  30.83773   ]\n",
        "[ 57.318628    67.46403777  27.1776529 ]  ->  [ 58.07105  67.28232  27.63381]\n",
        "[ 65.73860576  65.97490926  41.03434002]  ->  [ 65.84723083  66.3812175   40.91672833]\n",
        "[ 84.74518189  88.6719358   35.08709271]  ->  [ 84.983978  88.748584  36.0441  ]\n",
        "[ 57.30533266  62.18363051  28.26890609]  ->  [ 56.97637733  62.18274733  28.514888  ]\n",
        "[ 45.1462423   81.09283184  28.96745251]  ->  [ 45.98125813  81.3995925   28.55994313]\n",
        "[ 49.01907777  50.81645493  29.90484103]  ->  [ 49.060025  51.062475  29.035525]\n",
        "[ 76.39128526  40.276671    42.18375692]  ->  [ 76.30874846  39.86415846  41.71257385]\n",
        "[ 74.37754248  89.11686542  28.89173702]  ->  [ 74.75813333  89.17577333  29.23577   ]\n",
        "[ 88.3324855   50.0565364   29.45627806]  ->  [ 88.988878  49.901054  29.436015]\n",
        "[ 58.38291582  51.94991612  16.24784493]  ->  [ 58.68998909  52.68263909  16.34727364]\n",
        "[ 68.09878384  62.94783198  38.24758226]  ->  [ 67.89640467  63.78470733  38.26014467]\n",
        "[ 45.78142947  54.08279529  23.72438046]  ->  [ 45.62725357  55.067375    24.31546429]\n",
        "[ 52.11328968  82.51301811  37.45960221]  ->  [ 52.75025429  82.55815286  37.81769857]\n",
        "[ 67.7333089   50.06130255  41.45186361]  ->  [ 68.31215143  50.57616571  41.67956643]\n",
        "[ 81.138043    50.92772153  25.44238543]  ->  [ 81.099225  51.863455  25.431115]\n",
        "[ 46.57827437  77.18554238  37.1332577 ]  ->  [ 47.418016  77.214472  37.445815]\n",
        "[ 73.1284324   64.97252637  31.82888298]  ->  [ 73.58093545  63.85995091  31.92997545]\n",
        "[ 77.89345309  78.98446987  22.93977205]  ->  [ 77.80185733  78.49604     22.667734  ]\n",
        "[ 77.05172741  85.48055478  22.90838086]  ->  [ 76.61874313  85.27933938  22.5275625 ]\n",
        "[ 79.01955139  74.73601513  20.13040553]  ->  [ 79.15138727  74.41832364  19.76964273]\n",
        "[ 52.35092058  55.69974107  32.73750697]  ->  [ 51.53998231  55.32923385  33.39470462]\n",
        "[ 82.66138763  75.96540335  28.59898528]  ->  [ 83.502165    76.32671917  28.86865417]\n",
        "[ 46.54990244  86.35232147  45.93373366]  ->  [ 47.00036214  86.13395643  45.25537   ]\n",
        "[ 89.09801276  55.59024731  27.04916723]  ->  [ 88.90878   55.868355  27.033075]\n",
        "[ 69.51024317  47.85906116  31.55334115]  ->  [ 69.084525    47.77273571  31.23822   ]\n",
        "[ 80.86160569  57.67503874  43.84827956]  ->  [ 81.139274  57.990952  43.453165]\n",
        "[ 78.25508012  74.31254473  39.56389655]  ->  [ 78.20997571  75.17769429  38.73310429]\n",
        "[ 74.25551347  53.82086791  22.24671634]  ->  [ 74.26228857  53.15074429  21.85531143]\n",
        "[ 63.56455297  92.99903069  36.65234581]  ->  [ 62.84052182  93.45980273  36.59022273]\n",
        "[ 62.18319035  46.19516067  23.64728717]  ->  [ 62.316244  46.536938  23.028175]\n",
        "[ 69.08978557  60.98397093  37.99646208]  ->  [ 69.084525    61.54196333  37.91305333]\n",
        "[ 40.20931852  81.11192433  45.90504577]  ->  [ 40.049     81.29947   46.216546]\n",
        "[ 93.69377159  71.50995924  29.02769289]  ->  [ 93.6145375   71.66267937  30.61245438]\n",
        "[ 66.65073266  95.08332027  35.75899913]  ->  [ 66.11165692  95.16258538  35.70522385]\n",
        "[ 64.27070657  56.02765407  16.80881699]  ->  [ 64.75615231  55.91456538  16.82058   ]\n",
        "[ 71.24689631  53.07217657  14.61644661]  ->  [ 70.686485  53.465415  14.617885]\n",
        "[ 57.79836724  86.76933292  29.40908494]  ->  [ 57.44170857  86.64887214  28.83528   ]\n",
        "[ 89.80593107  67.84702981  36.85205437]  ->  [ 89.34264417  68.7841575   36.57808667]\n",
        "[ 74.83716993  46.68523281  35.81515764]  ->  [ 75.42561667  46.9574525   35.61023583]\n",
        "[ 60.80599762  91.10520756  32.26479035]  ->  [ 60.47399  90.91123  32.84018]\n",
        "[ 52.05376501  42.24521069  32.57325153]  ->  [ 52.79400529  42.28703235  32.51036471]\n",
        "[ 57.0400146   75.88497351  18.71203416]  ->  [ 57.350168  75.932904  19.023275]\n",
        "[ 86.83936579  59.72530692  23.79148869]  ->  [ 86.746134  59.873255  23.709008]\n",
        "[ 53.06910107  65.27079478  23.1577779 ]  ->  [ 52.82827182  64.77015545  22.46384818]\n",
        "[ 78.68843999  73.88808698  37.59338   ]  ->  [ 78.84646875  73.69016     37.89636625]\n",
        "[ 97.25460176  76.46766905  33.36822677]  ->  [ 96.718335  75.772708  33.080474]\n",
        "[ 72.62586854  57.1404006   17.09321504]  ->  [ 72.688935  57.750658  16.980776]\n",
        "[ 47.37053943  69.54767955  37.46956116]  ->  [ 47.02420083  69.21802167  36.9452025 ]\n",
        "[ 75.85165042  77.6485788   40.33139837]  ->  [ 74.95837833  77.92867917  40.3493675 ]\n",
        "[ 94.77361068  54.31597191  40.15226556]  ->  [ 95.53506909  53.84770091  40.01259182]\n",
        "[ 89.33077321  56.3156599   23.49464507]  ->  [ 89.36266867  56.629286    22.88132867]\n",
        "[ 42.24311739  81.24477044  40.39634147]  ->  [ 42.21528682  81.15383727  40.01259182]\n",
        "[ 67.03795162  70.13497986  35.85425032]  ->  [ 66.561438  71.127024  35.443365]\n",
        "[ 94.43795989  70.63054962  27.03563541]  ->  [ 93.84815667  71.05360083  27.80068083]\n",
        "[ 38.54749551  78.17800067  49.84573171]  ->  [ 37.82405556  77.51706444  50.32824333]\n",
        "[ 67.06691285  70.90134111  15.56774464]  ->  [ 66.681585  71.207122  15.058424]\n",
        "[ 66.00661383  60.71726789  41.81113576]  ->  [ 65.480115  60.273745  41.450715]\n",
        "[ 58.05284073  49.82678802  33.325894  ]  ->  [ 57.870805  49.460515  33.64116 ]\n",
        "[ 77.03139959  45.55045942  43.72722489]  ->  [ 76.70923846  44.94730077  43.74583077]\n",
        "[ 73.63194839  46.8369252   40.99665151]  ->  [ 73.12279917  46.62371083  40.649735  ]\n",
        "[ 60.25504704  65.8061118   37.91205993]  ->  [ 60.233696  65.880605  37.966452]\n",
        "[ 63.91339675  68.16232355  39.84285261]"
       ]
      },
      {
       "output_type": "stream",
       "stream": "stdout",
       "text": [
        "  ->  [ 63.80113769  67.99087923  40.14142077]\n",
        "[ 61.37149799  94.84543948  39.67139519]  ->  [ 61.27497  94.91613  40.049  ]\n",
        "[ 57.18378524  54.29044775  42.49980351]  ->  [ 57.029776  54.666885  42.772332]\n",
        "[ 42.99801854  66.95453488  25.79157427]  ->  [ 43.43091556  66.65933556  25.49786333]\n",
        "[ 49.75491523  55.01835706  41.0870567 ]  ->  [ 49.66076     55.08962444  41.16147222]\n",
        "[ 61.65933924  49.85296743  22.63548259]  ->  [ 61.755558  49.941103  21.666509]\n",
        "[ 71.82186265  61.79477281  21.84942211]  ->  [ 71.42071667  61.80895667  22.02695   ]\n",
        "[ 64.58687537  53.45359139  20.57568697]  ->  [ 64.29199467  53.585562    20.79878067]\n",
        "[ 61.79227625  72.39088807  26.12736555]  ->  [ 61.875705  72.288445  25.831605]\n",
        "[ 66.93010313  62.85618453  15.83930863]  ->  [ 67.28232   63.27742   16.620335]\n",
        "[ 79.35092624  96.38330809  37.03944015]  ->  [ 79.096775    95.75048417  37.47918917]\n",
        "[ 67.45715441  66.20956318  38.45108415]  ->  [ 67.482565  66.88183   39.047775]\n",
        "[ 95.67275487  59.06763892  37.38048847]  ->  [ 95.516865  59.27252   37.445815]\n",
        "[ 54.39830343  91.07088249  34.12051235]  ->  [ 54.546738  90.831132  34.522238]\n",
        "[ 57.88529457  50.39385279  24.32010391]  ->  [ 57.69916643  49.88961143  24.14382571]\n",
        "[ 79.48119631  96.76986523  33.67929436]  ->  [ 79.096775  97.118825  33.841405]\n",
        "[ 88.25629869  61.16771635  24.70034052]  ->  [ 87.907555  61.595362  25.070674]\n",
        "[ 61.73582959  67.13530392  18.81568831]  ->  [ 61.63096111  66.70383444  18.55603667]\n",
        "[ 67.52839955  42.60901717  27.47438846]  ->  [ 67.65420357  42.88103643  27.51938429]\n",
        "[ 87.01063051  49.81941945  29.61513537]  ->  [ 86.56745385  48.98300769  29.85190846]\n",
        "[ 58.22271537  43.03023117  35.65117027]  ->  [ 59.072275  43.092724  36.364492]\n",
        "[ 76.61577156  47.8505943   18.63875293]  ->  [ 76.94747867  47.578212    18.60943533]\n",
        "[ 65.43721773  61.67908471  25.84539209]  ->  [ 65.27987  62.47644  26.03185]\n",
        "[ 72.18038582  48.35592245  33.88934952]  ->  [ 71.887955  48.659535  33.841405]\n",
        "[ 85.55197768  67.10860799  41.34083624]  ->  [ 85.544664  66.681585  41.811156]\n",
        "[ 93.06492809  71.61706971  31.78038517]  ->  [ 93.514415    71.95470333  31.50521333]\n",
        "[ 67.64176799  57.27251996  25.45051589]  ->  [ 68.02168615  57.82459462  25.26167692]\n",
        "[ 56.15404065  75.87186539  39.873852  ]  ->  [ 56.789482  75.932904  40.249245]\n",
        "[ 84.74518189  88.6719358   35.08709271]  ->  [ 84.703635  88.308045  35.64361 ]\n",
        "[ 52.45047448  86.69681964  31.00424893]  ->  [ 52.5643125   86.43909167  31.47183917]\n",
        "[ 35.07132447  74.22957452  42.91609287]  ->  [ 34.99281375  74.44107875  42.90249125]\n",
        "[ 80.39140804  86.12046036  23.68909697]  ->  [ 80.578588  85.905105  23.869204]\n",
        "[ 73.51720078  80.02175488  31.66683587]  ->  [ 73.07122091  79.77032636  31.01977091]\n",
        "[ 94.48700363  67.96731977  36.72562783]  ->  [ 93.58116333  67.91642917  37.1454475 ]\n",
        "[ 85.13443596  44.21009041  60.25669737]  ->  [ 84.543439  46.016301  61.755558]\n",
        "[ 68.69555797  76.10625429  16.02700185]  ->  [ 68.163398  75.131924  16.620335]\n",
        "[ 79.3198075   62.54718485  20.17980442]  ->  [ 78.696285  61.875705  20.224745]\n",
        "[ 83.60825956  53.02513986  24.07670105]  ->  [ 84.31854846  52.80306615  24.46069692]\n",
        "[ 71.18047752  44.14985655  39.81305973]  ->  [ 70.19254733  43.70680867  40.930078  ]\n",
        "[ 76.37463784  42.65317929  31.16081041]  ->  [ 75.54697727  42.67038909  31.38385273]\n",
        "[ 37.45757869  83.54194817  49.92089949]  ->  [ 37.61525308  83.14788538  48.79816615]\n",
        "[ 58.03307823  57.01215356  35.99882897]  ->  [ 57.92541727  57.01521273  36.88148818]\n",
        "[ 58.15601652  52.23685547  28.82332008]  ->  [ 57.870805  51.863455  28.83528 ]\n",
        "[ 84.1420402   46.92614999  31.08373106]  ->  [ 83.30192   47.057575  32.0392  ]\n",
        "[ 61.79703548  93.95127429  36.17556193]  ->  [ 61.49061846  94.02272923  35.73603077]\n",
        "[ 64.42538579  55.02905965  39.68319071]  ->  [ 64.0784      54.81706875  39.69857125]\n",
        "[ 54.69312956  94.00146304  40.78003313]  ->  [ 55.067375  93.514415  40.44949 ]\n",
        "[ 79.78012278  60.24075291  43.83222417]  ->  [ 79.63076167  60.64086083  44.7547575 ]\n",
        "[ 71.59744145  79.74685031  29.09985783]  ->  [ 71.94516786  80.18381929  29.37880214]\n",
        "[ 83.43924074  67.74563695  17.14619327]  ->  [ 82.981528  68.283545  17.861854]\n",
        "[ 85.43156592  58.46631895  32.57609911]  ->  [ 85.07075083  58.00430167  32.3395675 ]\n",
        "[ 72.77853039  55.005772    40.08252431]  ->  [ 72.48869  53.66566  40.049  ]\n",
        "[ 80.67953891  44.96126819  46.31580322]  ->  [ 80.64412273  45.32818636  46.63888091]\n",
        "[ 44.24896882  83.95721109  52.58942586]  ->  [ 44.093949  83.422067  52.263945]\n",
        "[ 73.48346019  74.89201376  30.96719195]  ->  [ 73.18044545  74.78240545  30.61928091]\n",
        "[ 56.78184237  67.15324523  34.82337617]  ->  [ 57.67056     66.66823533  35.483414  ]\n",
        "[ 43.07944168  62.93763529  25.31013029]  ->  [ 43.01930083  63.01042667  25.3309925 ]\n",
        "[ 45.73601726  86.09339586  43.1297382 ]  ->  [ 45.59864714  86.62026571  42.93824929]\n",
        "[ 87.18040165  53.15359862  44.12567569]  ->  [ 86.986428    53.31856867  43.19952133]\n",
        "[ 74.26957029  52.60648567  23.75755686]  ->  [ 73.69016     52.72164786  24.98771536]\n",
        "[ 66.14147883  48.44122552  41.0239932 ]  ->  [ 65.46471154  48.52090385  41.58934615]\n",
        "[ 50.49366651  67.68877181  33.01920462]  ->  [ 51.26272   68.684035  32.84018 ]\n",
        "[ 34.57519978  73.71725629  43.52115288]  ->  [ 35.002826  73.610062  43.65341 ]\n",
        "[ 88.7331925   52.73498341  29.49560507]  ->  [ 88.668486  52.46419   30.116848]\n",
        "[ 80.47597745  53.82255496  45.09922796]  ->  [ 81.099225  53.505464  44.934978]\n",
        "[ 50.23127399  47.31647703  36.49562245]  ->  [ 49.740858  47.65831   36.204296]\n",
        "[ 52.83178258  65.42789497  41.03410222]  ->  [ 53.465415  66.000752  41.010176]\n",
        "[ 90.61999445  61.07116992  44.36879015]  ->  [ 91.071426  60.233696  43.893704]\n",
        "[ 63.96388538  50.77401146  22.01476096]  ->  [ 63.55468231  51.17029923  21.81130154]\n",
        "[ 43.46698487  61.9831566   30.59297093]  ->  [ 43.47819562  61.65042938  30.31208688]\n",
        "[ 41.22384043  81.89444346  46.37019205]  ->  [ 40.44949   81.900205  46.05635 ]\n",
        "[ 44.95276238  52.82938985  38.17937512]  ->  [ 44.72138333  52.3640675   37.21219583]\n",
        "[ 81.12362882  53.8482795   43.35347192]  ->  [ 81.05301462  53.29597692  43.31453385]\n",
        "[ 87.72695695  69.49261725  36.75302519]  ->  [ 88.1078   70.08575  36.0441 ]\n",
        "[ 54.26745734  80.15731379  25.19754555]  ->  [ 54.5667625   80.63198667  25.19749583]\n",
        "[ 85.47820934  43.01541509  35.49366931]  ->  [ 85.48236556  43.03042556  35.77710667]\n",
        "[ 51.19096262  50.06884303  27.08763786]  ->  [ 51.462965    49.66076     26.94725571]\n",
        "[ 48.28383467  74.93197606  34.45543488]  ->  [ 48.02799308  74.67598154  34.56536769]\n",
        "[ 89.11778064  58.48949566  29.23308713]  ->  [ 89.509515    58.80528167  28.96877667]\n",
        "[ 53.01990598  43.29334513  36.93477814]  ->  [ 53.465415    43.42455857  36.73065429]\n",
        "[ 94.43795989  70.63054962  27.03563541]  ->  [ 94.315395  70.48624   27.033075]\n",
        "[ 64.01306998  38.41830299  38.24022378]  ->  [ 63.78470733  39.46161467  38.23344533]\n",
        "[ 49.89735747  65.71039936  33.21480414]  ->  [ 49.52726333  65.81385667  33.90815333]\n",
        "[ 79.90210285  69.78599069  36.82440064]  ->  [ 79.937804  69.885505  36.524688]\n",
        "[ 57.87019122  63.23046651  33.23417386]  ->  [ 57.870805  62.676685  33.040425]\n",
        "[ 65.95061528  38.15906667  38.79636573]  ->  [ 66.01923615  38.93995077  39.03237154]\n",
        "[ 81.11461986  40.18752475  28.66508967]  ->  [ 81.54977625  40.3493675   28.88534125]\n",
        "[ 77.9482497   45.77662445  45.02181848]  ->  [ 77.94151538  45.68666692  44.91649385]\n",
        "[ 39.39511588  66.86948392  34.28329326]  ->  [ 39.47687143  66.99625571  34.15607571]\n",
        "[ 90.71176857  53.38031008  33.58651441]  ->  [ 90.81880923  52.55661077  33.36389769]\n",
        "[ 42.27885249  83.84995158  34.45462124]  ->  [ 42.211646  83.502165  34.762532]\n",
        "[ 78.89665521  46.17878268  46.71216041]  ->  [ 78.295795  45.896154  46.777232]\n",
        "[ 53.7440446   54.15462331  23.40542354]  ->  [ 53.66566     54.76033267  23.388616  ]\n",
        "[ 64.4807165   51.19031189  29.82566384]  ->  [ 64.278645  50.46174   30.43724 ]\n",
        "[ 85.11673006  82.18447143  26.01737925]  ->  [ 85.08187556  82.36744333  26.25434444]\n",
        "[ 79.33307306  72.60825906  33.07604766]  ->  [ 78.976628  72.248396  32.84018 ]\n",
        "[ 36.65058082  73.24083302  44.85739313]  ->  [ 36.0441   72.88918  44.45439]\n",
        "[ 92.79815895  59.25770654  30.87772641]  ->  [ 93.474366  59.472765  31.318318]\n",
        "[ 54.54396723  60.21240275  46.45116827]  ->  [ 54.50304818  60.61962273  46.71169727]\n",
        "[ 52.21670342  64.26076446  22.07600506]  ->  [ 51.62680182  64.66093091  22.28180727]\n",
        "[ 59.66394101  66.69883558  28.19386138]  ->  [ 59.472765   66.7817075  28.5349125]\n",
        "[ 70.63708123  69.8910563   43.01548111]  ->  [ 70.55298833  69.15127333  43.38641667]\n",
        "[ 83.04232049  64.83460421  40.24845158]  ->  [ 83.44755273  65.27987     40.48589818]"
       ]
      },
      {
       "output_type": "stream",
       "stream": "stdout",
       "text": [
        "\n",
        "[ 60.27886108  97.24636859  36.78166486]  ->  [ 60.233696  97.118825  36.524688]\n",
        "[ 71.61346343  52.80774845  36.59919821]  ->  [ 71.31077824  52.77044706  36.60949765]\n",
        "[ 77.47879268  70.36760877  42.75988965]  ->  [ 77.87305556  70.70873444  42.98592667]\n",
        "[ 56.93136312  75.96056652  39.1565861 ]  ->  [ 56.68753909  75.87465091  39.13879545]\n",
        "[ 70.79692907  61.34555065  21.96966545]  ->  [ 70.41207519  60.66681852  22.64993444]\n",
        "[ 87.72695695  69.49261725  36.75302519]  ->  [ 88.1078      69.68526     36.71158333]\n",
        "[ 81.2838579   39.84060252  43.19311266]  ->  [ 81.29947     40.39942875  43.3530425 ]\n",
        "[ 81.25838846  59.19599641  29.04188701]  ->  [ 80.15961385  59.45736154  28.65043846]\n",
        "[ 48.66737325  82.49630059  46.4546601 ]  ->  [ 48.659535  81.900205  46.256595]\n",
        "[ 51.09881837  83.49545751  44.67900098]  ->  [ 51.26272   83.70241   44.654635]\n",
        "[ 94.41457241  80.71172143  33.34913355]  ->  [ 94.51564     80.698735    32.72575429]\n",
        "[ 59.39099171  92.71996641  29.97661727]  ->  [ 58.791932    92.37969333  29.90325333]\n",
        "[ 48.06163432  63.89313669  43.21263361]  ->  [ 47.498114  64.158498  43.453165]\n",
        "[ 45.27508532  60.6640778   23.18892098]  ->  [ 45.856105  60.153598  22.587636]\n",
        "[ 54.2669329   46.63188335  27.24489691]  ->  [ 54.53945636  45.91071727  26.97846273]\n",
        "[ 55.28945385  83.5224784   29.69328881]  ->  [ 55.828306    83.40871733  29.63626   ]\n",
        "[ 72.39017002  99.26636722  35.46421656]  ->  [ 72.82756615  99.56797538  35.21231308]\n",
        "[ 81.74620006  84.72524658  30.18474534]  ->  [ 81.03247667  84.73700917  31.3383425 ]\n",
        "[ 54.39830343  91.07088249  34.12051235]  ->  [ 53.865905  91.912455  33.040425]\n",
        "[ 67.18098364  64.41637623  47.28876009]  ->  [ 67.082075  63.878155  47.057575]\n",
        "[ 70.66411903  37.2568748   38.83044857]  ->  [ 70.37181429  38.01794357  38.61867857]\n",
        "[ 92.11086906  48.72823389  31.05246623]  ->  [ 92.312945  49.060025  31.037975]\n",
        "[ 90.63923366  49.40440033  37.67942147]  ->  [ 90.28188857  49.26027     37.90351786]\n",
        "[ 68.37257505  63.84050103  24.21639419]  ->  [ 67.51593917  64.1785225   24.36314167]\n",
        "[ 54.79125583  83.50177516  37.96513149]  ->  [ 53.66566   83.502165  38.04655 ]\n",
        "[ 76.77943177  78.11880674  24.15792816]  ->  [ 77.02757667  77.9954275   23.59553583]\n",
        "[ 58.26985538  83.47531134  38.08842818]  ->  [ 58.1711725  83.70241    37.045325 ]\n",
        "[ 63.14476071  57.36367554  34.10614132]  ->  [ 62.276195  57.069825  35.042875]\n",
        "[ 77.25369712  54.82687002  20.62665159]  ->  [ 77.69506  54.46664  20.82548]\n",
        "[ 77.26431641  48.02505126  19.81128762]  ->  [ 77.855256    48.51268867  20.15799667]\n",
        "[ 70.55526997  81.06676287  40.57632936]  ->  [ 69.86325556  81.43296667  41.02797556]\n",
        "[ 60.24596491  60.84751463  43.21459943]  ->  [ 59.833206  60.954578  42.652185]\n",
        "[ 59.42459357  61.68676863  44.52231922]  ->  [ 59.873255    61.44184083  44.02052583]\n",
        "[ 68.29160135  87.22206921  35.69768115]  ->  [ 68.14051286  87.42124571  36.57808667]\n",
        "[ 69.91206872  91.65588891  26.83320235]  ->  [ 69.94011727  92.87727182  27.08768727]\n",
        "[ 36.37945843  67.88866166  45.43857087]  ->  [ 36.62663091  67.46436091  46.01994182]\n",
        "[ 56.67415719  89.36268956  39.08588997]  ->  [ 57.01521273  88.47188182  39.68491818]\n",
        "[ 42.45850152  63.07996198  34.78304938]  ->  [ 42.31844333  62.676685    34.97612667]\n",
        "[ 48.18551745  72.38767078  49.87380256]  ->  [ 48.63728556  72.35519333  49.03777556]\n",
        "[ 62.30955756  42.69858157  28.20755449]  ->  [ 62.276195  42.251695  28.234545]\n",
        "[ 62.52108543  90.79935473  33.04186611]  ->  [ 62.24282083  91.14484917  33.440915  ]\n",
        "[ 75.3379531   72.93388014  19.81574554]  ->  [ 75.87060556  73.33416889  19.84650444]\n",
        "[ 95.80263306  74.23327555  38.29549387]  ->  [ 95.917355  74.250846  38.126648]\n",
        "[ 59.39099171  92.71996641  29.97661727]  ->  [ 59.67301   92.312945  31.438465]\n",
        "[ 87.80364121  73.25995577  24.14210715]  ->  [ 87.64056167  72.9893025   24.26301917]\n",
        "[ 46.25436742  68.30757264  39.04849806]  ->  [ 46.777232  68.283545  39.007726]\n",
        "[ 64.34418068  88.55132145  37.17672555]  ->  [ 63.838106  88.588388  37.445815]\n",
        "[ 41.03936317  60.15877112  28.44052924]  ->  [ 41.010176  60.273745  28.755182]\n",
        "[ 71.09431559  65.75172875  33.20325759]  ->  [ 71.487465  66.281095  33.040425]\n",
        "[ 83.98350362  76.69475684  33.89636777]  ->  [ 84.022802  77.214472  34.04165 ]\n",
        "[ 74.75522682  70.3906877   28.20215936]  ->  [ 75.212022  71.046926  28.0343  ]\n",
        "[ 74.46550648  79.37733964  36.6256936 ]  ->  [ 74.25752083  80.03125167  36.9452025 ]\n",
        "[ 38.11732821  67.66997068  43.09787578]  ->  [ 37.49202538  67.74442385  42.42113308]\n",
        "[ 50.39097313  63.92865136  18.51674213]  ->  [ 50.782132  63.477665  18.262344]\n",
        "[ 87.06098944  65.18276213  32.17203062]  ->  [ 87.99857545  65.86240091  32.94940455]\n",
        "[ 71.66439957  61.89290708  45.2872916 ]  ->  [ 70.88673     61.92576625  45.40555375]\n",
        "[ 55.54664235  51.20719949  35.26100974]  ->  [ 55.38204571  51.09108143  34.87123643]\n",
        "[ 45.68054115  84.55235158  36.29358823]  ->  [ 46.256595  84.743684  36.524688]\n",
        "[ 58.84159119  38.57832754  37.53100116]  ->  [ 58.47154   38.647285  37.24557 ]\n",
        "[ 55.04527377  67.95831423  39.65001761]  ->  [ 55.067375  68.283545  39.848755]\n",
        "[ 66.36188288  54.08357419  40.23965209]  ->  [ 66.48134  54.06615  40.049  ]\n",
        "[ 63.08544024  64.72364034  18.50324825]  ->  [ 63.09942444  65.45786556  18.55603667]\n",
        "[ 92.83115895  82.32517297  31.03474361]  ->  [ 93.4142925   81.56646333  30.87110417]\n",
        "[ 65.10177103  47.48883865  44.39351057]  ->  [ 65.06422154  48.15122077  44.36196923]\n",
        "[ 95.91670148  74.36054615  29.92105662]  ->  [ 95.877306  73.890405  30.357142]\n",
        "[ 91.96935668  77.9410262   27.64167796]  ->  [ 91.792308  78.696285  26.993026]\n",
        "[ 85.05370496  47.3347484   43.47555212]  ->  [ 85.104125  47.097624  43.333018]\n",
        "[ 80.16826592  91.6453488   35.8780959 ]  ->  [ 79.76425833  91.94582917  35.5434875 ]\n",
        "[ 42.50237719  78.99222273  38.77239652]  ->  [ 42.291744  78.736334  38.527138]\n",
        "[ 37.14746153  73.82379549  34.02519131]  ->  [ 38.26499909  74.12705818  33.82320091]\n",
        "[ 71.04468165  73.72694755  21.21087898]  ->  [ 70.94834385  73.13563538  21.34919769]\n",
        "[ 49.81270493  56.34009396  28.03709067]  ->  [ 49.33308636  56.21423273  27.37895273]\n",
        "[ 44.67728631  51.9520763   35.8617813 ]  ->  [ 44.5545125  51.5630875  35.9439775]\n",
        "[ 79.87838191  61.99898678  20.42925208]  ->  [ 79.66110182  61.89390909  20.20654091]\n",
        "[ 66.71798562  77.42759684  32.72034873]  ->  [ 66.9819525   77.12769917  32.77343167]\n",
        "[ 88.31730848  86.55295842  31.97577877]  ->  [ 88.708535  86.265546  32.359592]\n",
        "[ 71.12556029  65.84220115  16.9866927 ]  ->  [ 70.43284133  66.29444467  16.95407667]\n",
        "[ 66.05432869  56.62457766  39.71058263]  ->  [ 65.79478571  57.09843143  39.59129714]\n",
        "[ 43.96768441  77.86568226  46.81948881]  ->  [ 44.63238556  77.87305556  47.12432333]\n",
        "[ 75.93941626  52.61590946  37.19803733]  ->  [ 76.253296  52.784582  37.445815]\n",
        "[ 77.02907193  48.85241191  32.09208361]  ->  [ 75.932904    48.96657733  32.84018   ]\n",
        "[ 76.24435979  60.92772071  25.31658519]  ->  [ 76.67158556  60.65198556  25.09737333]\n",
        "[ 81.87778022  56.26729508  17.61245912]  ->  [ 81.900205  56.669335  17.421315]\n",
        "[ 71.51378637  67.12171452  15.92157752]  ->  [ 71.487465  66.281095  16.620335]\n",
        "[ 47.09561548  80.99140595  44.42744353]  ->  [ 47.18500364  81.08102091  43.83545091]\n",
        "[ 66.24809461  63.46326285  25.97228416]  ->  [ 65.880605  63.477665  25.831605]\n",
        "[ 63.08637151  71.5359842   25.53036466]  ->  [ 62.676685  71.487465  25.831605]\n",
        "[ 65.64412052  71.82148112  29.64497288]  ->  [ 65.92681538  71.71851692  30.09836385]\n",
        "[ 36.75013802  63.85945299  41.58288567]  ->  [ 36.67820917  63.74465833  41.78445667]\n",
        "[ 89.4944493   86.82195026  31.85013691]  ->  [ 88.8086575  87.6071875  31.3383425]\n",
        "[ 38.23799331  65.31117574  31.67758613]  ->  [ 38.28016917  65.61361167  32.3395675 ]\n",
        "[ 53.01708797  72.88111602  24.6318244 ]  ->  [ 52.664435    72.35519333  24.16289667]\n",
        "[ 75.84853055  71.46436455  19.80753882]  ->  [ 76.0931    72.48869   19.824255]\n",
        "[ 43.28308656  57.59815422  33.74944702]  ->  [ 43.01930083  58.1711725   33.90815333]\n",
        "[ 77.07306212  55.94799951  37.55958071]  ->  [ 77.45947765  56.72823059  37.64606   ]\n",
        "[ 41.4157791   73.86776756  42.49821639]  ->  [ 41.59756133  73.930454    43.19952133]\n",
        "[ 78.90188175  75.50635331  33.45952089]  ->  [ 79.096775  75.492365  33.040425]\n",
        "[ 60.6048687   51.10305081  45.69045395]  ->  [ 60.50479692  51.10868538  45.99473615]\n",
        "[ 66.17061242  59.74348025  31.73900893]  ->  [ 66.681585  59.27252   31.438465]\n",
        "[ 72.27233613  57.44441211  31.94236594]  ->  [ 72.03813875  58.12111125  32.58987375]\n",
        "[ 63.52477715  67.17785489  27.45714324]  ->  [ 63.077175  67.883055  27.033075]\n",
        "[ 55.2683254   47.28176533  43.83035689]  ->  [ 55.13412333  47.03532556  43.83140556]\n",
        "[ 47.3980977   57.3031625   28.36532703]  ->  [ 47.02896857  56.98400571  27.46217143]\n",
        "[ 53.09100789  49.05808067  40.39755284]"
       ]
      },
      {
       "output_type": "stream",
       "stream": "stdout",
       "text": [
        "  ->  [ 52.86468  48.85978  40.44949]\n",
        "[ 58.28090952  40.00110169  43.33505431]  ->  [ 58.93877833  40.5496125   43.48653917]\n",
        "[ 67.92948679  56.58710085  24.39985788]  ->  [ 68.0833   56.0686   23.62891]\n",
        "[ 64.32128339  66.35782626  25.51498017]  ->  [ 64.158498  65.920654  25.831605]\n",
        "[ 77.2786574   93.52294275  28.26013494]  ->  [ 76.49359   93.914905  29.035525]\n",
        "[ 89.4944493   86.82195026  31.85013691]  ->  [ 88.94215417  87.13994917  32.10594833]\n",
        "[ 73.83479683  50.19667201  19.89316588]  ->  [ 73.209572  49.500564  19.423765]\n",
        "[ 54.8793518   69.72925941  29.86887358]  ->  [ 55.08962444  69.46276556  28.96877667]\n",
        "[ 56.41576126  73.68785216  22.24307197]  ->  [ 56.46909   73.890405  22.02695 ]\n",
        "[ 40.72271354  64.63451701  37.07526829]  ->  [ 40.249245    64.47889     36.55901571]\n",
        "[ 64.42538579  55.02905965  39.68319071]  ->  [ 64.34539333  54.39989167  40.58298667]\n",
        "[ 45.1462423   81.09283184  28.96745251]  ->  [ 45.48422143  80.55570286  29.69347286]\n",
        "[ 44.48402586  74.28157814  45.89536127]  ->  [ 44.0539     73.7902825  45.25537  ]\n",
        "[ 58.75171599  61.45983154  27.76665387]  ->  [ 58.60503667  61.875705    27.63381   ]\n",
        "[ 82.24846134  59.15787197  29.81924446]  ->  [ 82.21487571  58.92924286  29.95093071]\n",
        "[ 55.55359424  71.48190548  19.84218467]  ->  [ 55.66811   71.086975  19.62401 ]\n",
        "[ 87.72695695  69.49261725  36.75302519]  ->  [ 87.70731  69.68526  36.0441 ]\n",
        "[ 65.87298426  68.12715881  36.79746784]  ->  [ 65.520164    68.45709067  36.15089733]\n",
        "[ 85.82365172  49.44154706  41.66644003]  ->  [ 85.23369529  49.11892059  41.65096   ]\n",
        "[ 74.65447109  41.47079894  29.34820552]  ->  [ 74.81881364  41.50532727  29.09013727]\n",
        "[ 93.33228659  70.58430992  28.22394618]  ->  [ 92.833582  71.086975  28.675084]\n",
        "[ 67.65110747  77.92306734  21.93416375]  ->  [ 67.99087923  78.18797077  21.44161846]\n",
        "[ 78.44021842  57.86957032  38.63103152]  ->  [ 77.815207  57.67056   38.326893]\n",
        "[ 85.77247244  79.32411151  21.86218346]  ->  [ 85.905105  79.537314  22.747832]\n",
        "[ 63.2394798   80.65689623  23.20437818]  ->  [ 62.07595  80.89898  23.22842]\n",
        "[ 55.84154336  70.90029999  19.46829123]  ->  [ 56.00698615  70.60946769  18.97706462]\n",
        "[ 36.73259803  62.28314082  43.86917189]  ->  [ 36.644835    62.93414286  43.59619714]\n",
        "[ 37.56658263  67.40524924  33.04043454]  ->  [ 38.02299176  66.78759706  32.76950529]\n",
        "[ 68.12422763  53.06267555  40.63986718]  ->  [ 68.283545  52.86468   40.84998 ]\n",
        "[ 58.84159119  38.57832754  37.53100116]  ->  [ 58.9721525  38.3469175  37.7461825]\n",
        "[ 68.08708226  75.31088167  18.98866731]  ->  [ 67.86485091  75.11007909  18.78662182]\n",
        "[ 43.80423483  66.68070111  26.09375062]  ->  [ 43.88226143  66.71019143  26.48955286]\n",
        "[ 81.43239152  67.24452014  16.88518463]  ->  [ 81.08102091  66.80901364  16.27445727]\n",
        "[ 57.99228584  48.19142041  33.80218404]  ->  [ 57.89305444  48.37029222  33.77465667]\n",
        "[ 95.17494752  53.10354952  37.02335479]  ->  [ 95.31662     53.39866667  36.17759667]\n",
        "[ 63.78251925  59.18119496  18.9835314 ]  ->  [ 63.597812  59.873255  19.063324]\n",
        "[ 71.66439957  61.89290708  45.2872916 ]  ->  [ 71.28722  62.47644  45.65586]\n",
        "[ 83.54887287  68.70788183  33.36400506]  ->  [ 82.90143    69.0124368  32.7761016]\n",
        "[ 42.5976402   75.27285808  33.05811063]  ->  [ 43.65341  75.69261  33.24067]\n",
        "[ 55.31155249  45.40243185  30.49503061]  ->  [ 54.52385286  45.77028571  30.52305929]\n",
        "[ 49.91191008  79.00819691  29.34812709]  ->  [ 50.00403714  79.38283929  29.52183429]\n",
        "[ 82.2680792   50.5485274   36.60773114]  ->  [ 82.50094   50.46174   35.843855]\n",
        "[ 73.29643259  42.98354759  21.16572814]  ->  [ 73.16644231  43.06807846  20.73305923]\n",
        "[ 76.01151461  75.59815863  30.26351854]  ->  [ 76.34604105  75.81908053  30.62694579]\n",
        "[ 35.39161653  64.8351852   48.20915206]  ->  [ 35.70522385  65.03341462  48.15122077]\n",
        "[ 70.72047944  84.76292176  35.80318993]  ->  [ 70.30824444  85.48236556  36.17759667]\n",
        "[ 75.56656972  83.17789578  33.9124341 ]  ->  [ 75.492365    83.18749429  34.18468214]\n",
        "[ 79.4834241   58.85938829  17.84447083]  ->  [ 79.497265  59.072275  18.622785]\n",
        "[ 84.80573821  64.2911731   30.55167074]  ->  [ 85.30437  64.47889  30.43724]\n",
        "[ 46.63488617  75.32269356  35.69374094]  ->  [ 47.418016  75.091875  36.124198]\n",
        "[ 53.95838246  69.83712156  31.28200884]  ->  [ 54.32100727  70.34060727  31.31103636]\n",
        "[ 52.79217899  67.19565715  41.91572317]  ->  [ 53.69069063  67.55765688  41.9513275 ]\n",
        "[ 74.87435381  61.67452057  42.62905367]  ->  [ 74.49114   62.07595   43.052675]\n",
        "[ 90.92065949  52.95625099  25.8375426 ]  ->  [ 91.111475  53.465415  25.831605]\n",
        "[ 76.00231663  53.14154131  16.73589778]  ->  [ 75.74600867  53.21177133  17.381266  ]\n",
        "[ 50.34887168  63.74751408  23.60184452]  ->  [ 50.221446  64.278645  24.349792]\n",
        "[ 95.16801508  54.47007196  37.36931632]  ->  [ 95.71711   54.266395  37.64606 ]\n",
        "[ 63.88087331  50.80999809  32.34676505]  ->  [ 63.077175  50.661985  32.639935]\n",
        "[ 74.69945664  64.40503646  40.97669323]  ->  [ 74.651336    64.47889     41.54416267]\n",
        "[ 76.4543072   63.20428236  26.20954591]  ->  [ 76.67563091  62.94974636  26.21389091]\n",
        "[ 64.07087007  77.08039366  24.35357567]  ->  [ 63.758008  76.733884  24.630135]\n",
        "[ 93.7319893   51.64001758  35.81497622]  ->  [ 94.715885  51.462965  35.843855]\n",
        "[ 73.20187164  85.11235425  34.27215357]  ->  [ 73.489915  85.624762  34.281944]\n",
        "[ 80.38028669  86.89971746  29.02654885]  ->  [ 80.49849     87.07796857  29.23577   ]\n",
        "[ 53.02227841  51.78711429  18.48903024]  ->  [ 52.89805417  52.59768667  18.7229075 ]\n",
        "[ 71.47429491  75.24701517  35.45274009]  ->  [ 72.34305727  75.32852818  35.38875273]\n",
        "[ 51.4388197   83.21936518  25.64378686]  ->  [ 51.1625975   83.13504917  25.96510167]\n",
        "[ 36.66991728  66.55834591  40.83557337]  ->  [ 37.37072312  66.80673812  40.84998   ]\n",
        "[ 79.71331592  77.4333546   19.48258042]  ->  [ 79.497265  77.494815  19.62401 ]\n",
        "[ 44.38932507  55.96871111  45.3876055 ]  ->  [ 45.03287556  56.24659556  45.38886667]\n",
        "[ 85.47188285  64.05183231  41.25978404]  ->  [ 84.83713167  63.94490333  41.050225  ]\n",
        "[ 83.88942877  91.545267    35.73463042]  ->  [ 83.85259375  91.06141375  36.29440625]\n",
        "[ 57.26487643  47.81900749  39.02964501]  ->  [ 57.67056  48.0588   39.64851]\n",
        "[ 55.07428726  61.64747649  22.0561757 ]  ->  [ 54.95955077  61.61384615  21.81130154]\n",
        "[ 60.80599762  91.10520756  32.26479035]  ->  [ 61.00797667  91.111475    32.17269667]\n",
        "[ 62.32344971  81.74037777  35.3146877 ]  ->  [ 62.276195  81.099225  35.843855]\n",
        "[ 61.96788207  61.37740021  16.92655558]  ->  [ 62.07595     61.14147333  17.35456667]\n",
        "[ 43.82483416  71.88627044  43.89062151]  ->  [ 42.371842  71.928004  43.813606]\n",
        "[ 81.46472785  66.54463622  27.70444834]  ->  [ 81.099225  66.281095  27.23332 ]\n",
        "[ 60.86440668  58.20357406  27.31332109]  ->  [ 61.12478625  57.67056     27.08313625]\n",
        "[ 58.875901    73.09940265  21.15522988]  ->  [ 58.50491417  73.02267667  21.7265825 ]\n",
        "[ 77.41371276  69.78182395  41.37599697]  ->  [ 77.04811462  70.11655692  41.71257385]\n",
        "[ 54.69502429  72.05148208  29.36596916]  ->  [ 54.666885  72.48869   29.836505]\n",
        "[ 50.62500302  47.77436399  23.7078921 ]  ->  [ 50.221446  48.259045  24.349792]\n",
        "[ 91.50360484  59.59994799  28.79799863]  ->  [ 92.02688071  59.072275    29.75068571]\n",
        "[ 65.64412052  71.82148112  29.64497288]  ->  [ 65.93521727  72.23383273  29.30858636]\n",
        "[ 47.85492134  67.51400391  24.68677849]  ->  [ 47.93364688  67.33238125  25.20583938]\n",
        "[ 52.79303078  69.57726327  32.24197361]  ->  [ 52.79793167  69.81875667  32.239445  ]\n",
        "[ 39.93960154  79.45829885  44.58091278]  ->  [ 39.64851   79.497265  45.055125]\n",
        "[ 55.84154336  70.90029999  19.46829123]  ->  [ 55.93510333  70.61973667  20.0245    ]\n",
        "[ 50.97465355  54.99195857  39.80220369]  ->  [ 50.86223     55.34271187  39.92384688]\n",
        "[ 44.15426739  56.12198096  32.64072815]  ->  [ 45.055125  57.069825  32.639935]\n",
        "[ 69.75891506  44.67589621  24.03793417]  ->  [ 69.68526     45.055125    23.11399429]\n",
        "[ 44.94274236  63.43082408  27.11154652]  ->  [ 44.52506471  63.37165294  27.20976176]\n",
        "[ 50.67025224  51.24660501  40.40563298]  ->  [ 50.661985  50.661985  39.848755]\n",
        "[ 36.65800015  70.06602418  41.2174008 ]  ->  [ 37.846305  70.806632  40.609686]\n",
        "[ 39.83652455  74.96850062  40.43756878]  ->  [ 39.93977545  74.30909909  40.74075545]\n",
        "[ 73.67465714  81.97364464  33.40092328]  ->  [ 73.10762909  81.33587818  33.45911909]\n",
        "[ 61.77081331  53.08207117  36.07837391]  ->  [ 61.915754  53.064925  36.364492]\n",
        "[ 73.15294586  49.85094713  30.85808897]  ->  [ 74.23628273  49.40590273  31.16540364]\n",
        "[ 68.65263927  92.41771011  31.43515974]  ->  [ 68.41704167  92.312945    30.97122667]\n",
        "[ 72.78247211  63.24587352  32.73602453]  ->  [ 72.67353154  64.0784      33.08663538]\n",
        "[ 81.8924294   40.04752148  32.67249329]  ->  [ 82.300695  39.448265  33.040425]\n",
        "[ 97.73887207  59.42861904  38.53638763]"
       ]
      },
      {
       "output_type": "stream",
       "stream": "stdout",
       "text": [
        "  ->  [ 97.919805  59.072275  38.647285]\n",
        "[ 58.67814898  67.58837078  28.11770865]  ->  [ 58.47154     67.94980333  27.30006833]\n",
        "[ 82.11543605  68.78158173  21.38243423]  ->  [ 82.300695  69.485015  21.426215]\n",
        "[ 51.44112658  56.6090709   44.0658532 ]  ->  [ 51.062475  56.308894  44.374292]\n",
        "[ 64.7158593   40.27148729  33.14176987]  ->  [ 65.079625  40.369392  33.080474]\n",
        "[ 69.37144841  43.88657213  26.33054656]  ->  [ 69.084525    43.98715167  26.69933333]\n",
        "[ 55.04144947  92.36050628  39.97334618]  ->  [ 54.34341231  91.95866538  39.86415846]\n",
        "[ 65.21915328  42.28564272  28.40623009]  ->  [ 66.48134   42.45194   28.234545]\n",
        "[ 45.27921398  62.6595058   41.71369103]  ->  [ 45.08849917  62.676685    41.48408917]\n",
        "[ 77.12906941  63.83690534  35.88966823]  ->  [ 77.87305556  64.30089444  35.51011333]\n",
        "[ 74.05153128  41.23001468  32.99297507]  ->  [ 74.60556571  41.33628929  33.09763786]\n",
        "[ 63.34283688  61.6311024   25.42086171]  ->  [ 63.42760375  62.07595     25.38105375]\n",
        "[ 77.20609887  61.22815055  26.2372476 ]  ->  [ 76.84401875  61.40012313  25.98178875]\n",
        "[ 68.67548412  50.49938038  44.00419993]  ->  [ 68.75078333  49.66076     44.12064833]\n",
        "[ 57.59322162  50.0867259   29.4000695 ]  ->  [ 58.19620313  50.03621938  30.38717875]\n",
        "[ 38.94161981  57.08133255  41.40114338]  ->  [ 39.01440083  56.93632833  41.1503475 ]\n",
        "[ 72.27233613  57.44441211  31.94236594]  ->  [ 72.35519333  57.40356667  32.0392    ]\n",
        "[ 57.87626586  40.53889783  29.82236987]  ->  [ 57.350168  40.249245  29.395966]\n",
        "[ 49.10186688  51.72950328  47.6641829 ]  ->  [ 48.82640583  51.3628425   47.39131667]\n",
        "[ 48.61233076  67.77724738  34.79150761]  ->  [ 48.08549933  67.86970533  35.403316  ]\n",
        "[ 69.14896205  58.43156973  32.57093684]  ->  [ 68.243496  58.791932  32.119298]\n",
        "[ 80.67953891  44.96126819  46.31580322]  ->  [ 80.698735  45.055125  45.455615]\n",
        "[ 75.18387663  81.76409308  20.22216331]  ->  [ 75.62586167  81.93357917  20.5251125 ]\n",
        "[ 75.51879214  48.37848197  33.77656401]  ->  [ 75.47011556  48.68178444  34.70913333]\n",
        "[ 76.28814436  56.17690416  35.99096084]  ->  [ 76.27514091  56.43268182  36.26254909]\n",
        "[ 57.55552493  56.75736636  41.18468515]  ->  [ 57.64195357  56.52630286  41.851205  ]\n",
        "[ 56.72639225  68.04475317  20.23335625]  ->  [ 55.9684775  67.482565   20.3248675]\n",
        "[ 91.62545924  63.25258376  23.91483459]  ->  [ 91.68551067  63.597812    23.84250467]\n",
        "[ 76.68970542  60.93568273  24.12528701]  ->  [ 76.65849765  60.54466471  23.01639588]\n",
        "[ 85.94341459  71.09594897  41.8127343 ]  ->  [ 85.85889462  70.57866077  41.37369769]\n",
        "[ 73.58144838  95.66486062  36.29053656]  ->  [ 72.99840455  95.89915091  36.33536545]\n",
        "[ 78.44230752  52.83281455  21.39937221]  ->  [ 78.015452  53.26517   21.306068]\n",
        "[ 63.06371167  77.48273238  22.27398693]  ->  [ 63.477665  77.494815  22.42744 ]\n",
        "[ 64.75118655  68.18519004  34.34469934]  ->  [ 64.238596  67.362418  33.160572]\n",
        "[ 65.52598826  45.32173483  40.69402439]  ->  [ 65.42550273  45.43741091  40.99561273]\n",
        "[ 71.51360842  61.35630968  18.93746825]  ->  [ 71.607612    60.52738867  18.52933733]\n",
        "[ 93.50197623  74.04864114  32.7206604 ]  ->  [ 93.49901154  73.56693231  32.07000692]\n",
        "[ 58.20659161  55.75689899  26.25314417]  ->  [ 58.231246  55.748208  26.272144]\n",
        "[ 61.37149799  94.84543948  39.67139519]  ->  [ 61.50382143  94.63006571  39.19080714]\n",
        "[ 48.82159131  47.98799214  37.10472934]  ->  [ 49.66076  47.25782  36.84508]\n",
        "[ 51.46455348  56.88591663  33.26665456]  ->  [ 51.44071556  57.40356667  32.61768556]\n",
        "[ 60.8277156   41.0677253   31.31632151]  ->  [ 61.30834417  41.25047     31.5385875 ]\n",
        "[ 67.2655562   39.85912909  40.86210742]  ->  [ 67.01532667  39.41489083  40.61636083]\n",
        "[ 65.17315308  47.76589271  35.37982331]  ->  [ 64.278645  47.858555  35.443365]\n",
        "[ 69.14896205  58.43156973  32.57093684]  ->  [ 68.76985429  58.92924286  32.95460571]\n",
        "[ 55.88555319  54.86664256  46.75556742]  ->  [ 55.94537231  54.03534308  47.22701308]\n",
        "[ 57.25110682  74.57229017  22.99325791]  ->  [ 57.00307667  73.890405    22.56093667]\n",
        "[ 85.75444716  63.87455271  31.09864361]  ->  [ 86.025252  63.838106  31.838955]\n",
        "[ 38.26709489  64.15439662  40.58863924]  ->  [ 38.3469175   65.11299917  40.91672833]\n",
        "[ 67.91378723  50.0308095   26.76615033]  ->  [ 68.66583091  49.98843364  26.97846273]\n",
        "[ 58.84159119  38.57832754  37.53100116]  ->  [ 57.89941143  38.67589143  37.81769857]\n",
        "[ 71.67923832  81.67752565  35.07628543]  ->  [ 71.18042267  81.459666    35.64361   ]\n",
        "[ 54.20877313  85.39149832  30.64751111]  ->  [ 55.03400083  85.53798917  30.90447833]\n",
        "[ 47.73212099  55.42999967  40.22454633]  ->  [ 47.74412929  55.18180071  40.93579929]\n",
        "[ 65.10540557  98.23986952  33.87763902]  ->  [ 65.44674083  97.78630833  33.5410375 ]\n",
        "[ 61.4925127   81.95419608  36.56121762]  ->  [ 62.276195  81.900205  35.843855]\n",
        "[ 76.42551001  59.02008267  40.58704585]  ->  [ 75.47696154  58.93364385  40.75755923]\n",
        "[ 60.99400513  43.81696839  27.74991869]  ->  [ 61.96672545  43.47136909  28.21634091]\n",
        "[ 51.58006021  68.79666946  32.23470973]  ->  [ 51.3628425  68.684035   31.5385875]\n",
        "[ 64.01182039  97.04788963  33.3583867 ]  ->  [ 64.3787675  97.118825   33.1405475]\n",
        "[ 52.56454008  61.93413447  41.7460208 ]  ->  [ 52.23057083  61.60871167  41.3505925 ]\n",
        "[ 83.54629587  52.30038301  35.43742512]  ->  [ 82.90143     52.303994    35.75040733]\n",
        "[ 97.37877969  67.48320935  39.18947071]  ->  [ 97.66234714  67.482565    39.30523286]\n",
        "[ 70.18621366  54.60691907  23.497485  ]  ->  [ 70.5863625   54.73363333  22.79455583]\n",
        "[ 95.17494752  53.10354952  37.02335479]  ->  [ 94.51564   53.425366  36.124198]\n",
        "[ 58.91300596  65.64759138  34.60640869]  ->  [ 59.85505091  65.24346182  34.66058909]\n",
        "[ 70.16804839  54.149984    19.88274543]  ->  [ 69.885505  53.825856  19.143422]\n",
        "[ 46.72765902  81.46795727  32.41224211]  ->  [ 47.94957545  81.88200091  32.25764909]\n",
        "[ 91.99195916  81.55740972  32.14204138]  ->  [ 91.63711813  81.02413313  32.43969   ]\n",
        "[ 51.50051169  73.46429009  31.45181338]  ->  [ 50.9623525   72.25507083  31.17147167]\n",
        "[ 79.44817737  66.71163513  19.01105397]  ->  [ 79.96450333  67.05982556  19.04552444]\n",
        "[ 95.19600606  53.7552618   35.46428869]  ->  [ 94.91613   53.465415  35.64361 ]\n",
        "[ 44.69522115  56.33724633  24.08616552]  ->  [ 45.455615  55.988502  24.269694]\n",
        "[ 59.59239902  43.93910898  30.9463839 ]  ->  [ 60.273745  43.813606  30.757632]\n",
        "[ 66.89172715  53.22643318  40.23091345]  ->  [ 67.01532667  53.66566     39.71525833]\n",
        "[ 78.80264008  39.41135473  42.11005097]  ->  [ 79.00575455  39.43006091  42.96165455]\n",
        "[ 54.48640424  44.59493627  24.15170384]  ->  [ 54.83375583  44.28751917  24.59676083]\n",
        "[ 67.91378723  50.0308095   26.76615033]  ->  [ 67.522614  50.261495  26.752732]\n",
        "[ 65.43721773  61.67908471  25.84539209]  ->  [ 65.480115  61.67546   26.83283 ]\n",
        "[ 64.82709888  36.29851918  37.54782352]  ->  [ 64.79356071  36.30155786  37.50302786]\n",
        "[ 77.51072332  55.27732315  23.62306215]  ->  [ 77.494815    54.80038167  23.96265167]\n",
        "[ 39.85826183  73.50048036  49.22021336]  ->  [ 39.35481733  73.129474    49.26027   ]\n",
        "[ 94.35561206  70.77240729  33.56719112]  ->  [ 94.91613     69.71606692  34.13407077]\n",
        "[ 51.7738008   54.28107661  32.82478744]  ->  [ 51.97470222  54.55563778  33.28516889]\n",
        "[ 64.53917858  44.64672824  45.05155477]  ->  [ 63.998302    45.06847467  45.28206933]\n",
        "[ 74.65608401  47.85522023  18.02942836]  ->  [ 75.091875  47.458065  18.222295]\n",
        "[ 72.18038582  48.35592245  33.88934952]  ->  [ 72.7890575   48.59278667  34.00827583]\n",
        "[ 56.78277898  61.8794292   21.1359118 ]  ->  [ 56.709384    61.67546     20.53178733]\n",
        "[ 44.48402586  74.28157814  45.89536127]  ->  [ 44.85488     73.95715333  45.12187333]\n",
        "[ 83.49580696  62.07404683  34.86185278]  ->  [ 83.30192   61.875705  33.841405]\n",
        "[ 62.23012376  72.1213089   23.22122152]  ->  [ 62.50504643  71.91656143  22.71350429]\n",
        "[ 50.87250491  71.69589109  41.44590822]  ->  [ 51.503014  71.487465  41.130323]\n",
        "[ 43.62220037  75.98997089  32.31460805]  ->  [ 44.013851  76.253296  32.599886]\n",
        "[ 42.39771259  81.56147325  47.13829883]  ->  [ 41.83580154  81.57673231  47.44266154]\n",
        "[ 91.23795564  59.95798796  43.68868444]  ->  [ 91.04472667  59.80650667  42.85243   ]\n",
        "[ 58.45324616  61.45015253  34.13375681]  ->  [ 59.02606462  61.61384615  33.88761538]\n",
        "[ 54.14031323  72.67968134  28.31094522]  ->  [ 53.05438579  72.67839579  25.77890895]\n",
        "[ 67.60394519  47.09137195  32.78446175]  ->  [ 67.50076909  46.27479909  33.27707818]\n",
        "[ 97.24245102  59.96971324  37.55938492]  ->  [ 97.53751909  60.18272455  38.22859091]\n",
        "[ 51.73052123  86.95453534  34.65273378]  ->  [ 52.24574091  86.32379909  34.40573182]\n",
        "[ 85.29722527  62.0936411   37.81833975]  ->  [ 84.67026083  61.7755825   37.71280833]\n",
        "[ 53.05545819  59.55999573  32.69321812]  ->  [ 52.77044706  59.69656824  33.31134471]\n",
        "[ 84.69765857  77.81405258  34.3295106 ]  ->  [ 85.104125  77.494815  34.241895]\n",
        "[ 53.83041435  44.01297349  35.20101289]  ->  [ 53.48361909  43.87185909  35.20671182]\n",
        "[ 66.84260439  85.44691749  35.05828425]"
       ]
      },
      {
       "output_type": "stream",
       "stream": "stdout",
       "text": [
        "  ->  [ 65.480115  86.265546  35.723708]\n",
        "[ 84.43858101  68.31042284  33.84384374]  ->  [ 84.6035125   68.35863688  34.04165   ]\n",
        "[ 74.00632227  57.37495626  45.12758267]  ->  [ 74.30629846  56.96200077  45.16294923]\n",
        "[ 68.72380577  41.67727061  43.06804085]  ->  [ 68.724084  42.371842  42.652185]\n",
        "[ 50.48516032  75.85797713  45.73537177]  ->  [ 50.261495  75.131924  44.934978]\n",
        "[ 47.71652103  87.95744541  32.1636425 ]  ->  [ 47.98812529  88.06068353  32.15699118]\n",
        "[ 79.09076166  67.41465385  39.56715123]  ->  [ 79.13014917  67.44919083  39.848755  ]\n",
        "[ 67.62747322  80.58690911  35.43923237]  ->  [ 68.83088133  81.08587533  35.10962333]\n",
        "[ 51.97135323  68.31696543  43.34870719]  ->  [ 52.53700636  68.33815727  42.59757273]\n",
        "[ 89.47460312  61.06516701  44.81070135]  ->  [ 89.52771909  61.25676591  44.43618591]\n",
        "[ 38.18700203  58.23827835  42.2865927 ]  ->  [ 39.02957091  59.12688727  42.37912364]\n",
        "[ 47.81517758  74.05368627  33.91704112]  ->  [ 48.259045  73.489915  34.241895]\n",
        "[ 86.64999425  60.02121611  35.17358426]  ->  [ 85.945154  59.873255  35.723708]\n",
        "[ 66.38067656  59.1840507   18.59638287]  ->  [ 66.88183  58.87203  18.42254]\n",
        "[ 49.77212525  88.81437089  40.79061732]  ->  [ 49.5606375   88.37479333  40.88335417]\n",
        "[ 76.83686033  62.25230333  25.85675165]  ->  [ 77.20557222  62.43194111  26.12084778]\n",
        "[ 67.70970969  61.43687181  39.97267371]  ->  [ 67.14882333  60.74098333  40.649735  ]\n",
        "[ 77.45901536  55.53796189  21.4062211 ]  ->  [ 77.494815  56.268845  21.025725]\n",
        "[ 74.72798205  92.39419825  26.67272018]  ->  [ 74.691385  92.753484  27.153222]\n",
        "[ 89.45565402  47.79003794  35.07744705]  ->  [ 89.52771909  47.40345273  35.02467091]\n",
        "[ 78.35854897  94.52160486  35.35787707]  ->  [ 78.09555  94.91613  34.44214]\n",
        "[ 89.66708062  60.25834378  36.11378195]  ->  [ 89.68115357  60.30235143  35.12869429]\n",
        "[ 84.29602018  64.65187644  29.74531088]  ->  [ 84.703635  64.87938   30.637485]\n",
        "[ 54.51396705  56.84345741  23.81543402]  ->  [ 54.33314333  57.49256444  23.85140444]\n",
        "[ 43.29744942  63.53071845  33.7376819 ]  ->  [ 42.82739937  63.62784875  33.69122125]\n",
        "[ 59.64452409  72.6804685   26.24448495]  ->  [ 59.81864273  72.41587364  26.17748273]\n",
        "[ 34.57519978  73.71725629  43.52115288]  ->  [ 35.64361     73.42316667  43.38641667]\n",
        "[ 44.65196714  70.29313128  39.83240462]  ->  [ 45.07052846  70.23978462  39.77173769]\n",
        "[ 86.65557891  87.83458323  29.03841893]  ->  [ 87.30682     87.52246846  28.98931462]\n",
        "[ 69.87194069  75.23730865  27.7347138 ]  ->  [ 69.96059688  75.1919975   27.60877938]\n",
        "[ 65.44812663  59.54621491  41.15466911]  ->  [ 65.09502846  59.14929231  40.81917308]\n",
        "[ 77.08072988  60.67947424  43.06495227]  ->  [ 77.00850571  60.90308643  43.42455857]\n",
        "[ 36.65058082  73.24083302  44.85739313]  ->  [ 36.38737714  73.46130857  45.02651857]\n",
        "[ 88.18524119  73.71289677  22.99386643]  ->  [ 88.75474538  72.95079385  22.39663308]\n",
        "[ 41.41455593  78.79709052  39.19979822]  ->  [ 41.70435867  78.84313133  39.888804  ]\n",
        "[ 86.93561827  71.50928187  35.19834871]  ->  [ 87.987653  71.006877  35.042875]\n",
        "[ 56.67516392  69.58863705  19.82812985]  ->  [ 55.89060444  69.19577222  20.00225056]\n",
        "[ 73.08605986  68.29562687  31.82029576]  ->  [ 72.31705143  68.45518357  31.52428429]\n",
        "[ 70.44191536  89.79211572  24.62486281]  ->  [ 70.566338  89.549564  24.630135]\n",
        "[ 96.40604189  59.19845084  37.81614037]  ->  [ 96.1176      59.00552667  37.64606   ]\n",
        "[ 82.44542713  49.66595952  35.81183258]  ->  [ 81.900205  50.261495  35.24312 ]\n",
        "[ 74.55767526  81.53178291  22.38959975]  ->  [ 75.54697727  81.48151091  22.90074636]\n",
        "[ 73.18104441  62.13475309  38.46852297]  ->  [ 73.28967  61.27497  37.64606]\n",
        "[ 66.99694634  87.42798718  27.66493495]  ->  [ 67.21557167  87.2066975   27.46693917]\n",
        "[ 84.04381     52.26862194  21.6508058 ]  ->  [ 84.35320625  52.46419     20.97566375]\n",
        "[ 81.34454316  65.52692018  41.24597908]  ->  [ 81.379568  65.840556  41.050225]\n",
        "[ 53.19498919  47.11479219  32.5006751 ]  ->  [ 53.28872824  47.16358706  33.00508765]\n",
        "[ 61.03875806  96.24934997  34.5253012 ]  ->  [ 60.65883154  96.54889692  34.31891231]\n",
        "[ 37.81527646  82.88040441  45.82520526]  ->  [ 37.886354  82.701185  45.175272]\n",
        "[ 67.65928479  58.1766558   19.42469943]  ->  [ 68.323594  58.711834  19.744157]\n",
        "[ 52.72468122  60.13481588  40.23537973]  ->  [ 52.664435  60.153598  40.209196]\n",
        "[ 44.34628627  55.84701237  43.81055442]  ->  [ 45.07332909  56.28704909  43.28932818]\n",
        "[ 77.12059616  63.46410927  31.63751147]  ->  [ 77.094325  63.597812  32.279494]\n",
        "[ 74.26405984  60.65512612  26.62702746]  ->  [ 73.82365667  61.56866267  26.88622867]\n",
        "[ 47.07800172  66.82454547  35.5672931 ]  ->  [ 46.94314929  66.99625571  35.75803571]\n",
        "[ 84.38417269  76.69050997  35.16766212]  ->  [ 85.064076  76.693835  34.522238]\n",
        "[ 88.93830028  66.28175892  27.10553501]  ->  [ 89.509515  66.681585  27.433565]\n",
        "[ 50.62454958  43.5995433   40.33441694]  ->  [ 50.46174   44.45439   40.649735]\n",
        "[ 51.42334511  55.05772422  19.26265356]  ->  [ 51.823406  55.067375  18.742932]\n",
        "[ 44.67728631  51.9520763   35.8617813 ]  ->  [ 44.56881571  52.57861571  36.15852571]\n",
        "[ 51.0700129   72.10236635  24.2776073 ]  ->  [ 50.942328  72.48869   24.269694]\n",
        "[ 88.83285143  54.50649398  42.22941772]  ->  [ 88.82296071  53.98033071  41.90841786]\n",
        "[ 71.88325319  66.73490526  31.98508165]  ->  [ 72.288445   66.5814625  31.1380975]\n",
        "[ 71.66439957  61.89290708  45.2872916 ]  ->  [ 71.68771   61.875705  45.25537 ]\n",
        "[ 60.70270791  38.06101584  36.00298414]  ->  [ 61.32503125  38.12164188  35.91894688]\n",
        "[ 70.63708123  69.8910563   43.01548111]  ->  [ 70.566338  70.165848  43.65341 ]\n",
        "[ 49.44540919  47.29015701  35.02391124]  ->  [ 49.861005  47.25782   35.64361 ]\n",
        "[ 58.67814898  67.58837078  28.11770865]  ->  [ 58.87203     67.51117143  27.97708714]\n",
        "[ 75.20809222  42.44666602  30.19499875]  ->  [ 75.14193625  42.251695    29.38595375]\n",
        "[ 81.3323081   62.34017614  37.27257649]  ->  [ 80.72098444  62.29844444  37.91305333]\n",
        "[ 79.15296293  57.37186676  40.0457979 ]  ->  [ 78.02273364  57.81619273  39.50287727]\n",
        "[ 93.54622635  75.89988509  33.67875185]  ->  [ 93.86484375  75.69261     34.29195625]\n",
        "[ 75.10556591  89.44727464  28.174229  ]  ->  [ 74.89163  88.90878  28.0343 ]\n",
        "[ 55.52247132  47.9053787   42.63492109]  ->  [ 55.41325273  47.80394273  43.58059364]\n",
        "[ 91.92928989  51.47814321  36.12863331]  ->  [ 91.391818  51.422916  36.244345]\n",
        "[ 40.26627163  64.88932969  35.15374689]  ->  [ 40.249245  65.520164  34.84263 ]\n",
        "[ 85.10696569  93.63577441  33.69047913]  ->  [ 85.05791462  93.65304615  33.51793231]\n",
        "[ 37.21252496  61.12144199  43.85259109]  ->  [ 37.51256333  60.7743575   43.88702917]\n",
        "[ 72.77853039  55.005772    40.08252431]  ->  [ 72.77475429  54.23778857  40.56391571]\n",
        "[ 63.31642681  47.43184253  26.83787201]  ->  [ 63.42760375  47.98370812  27.45859563]\n",
        "[ 50.4914776   61.65287771  33.00215797]  ->  [ 49.78398769  61.98352923  33.33309077]\n",
        "[ 75.84853055  71.46436455  19.80753882]  ->  [ 75.69261   71.928004  20.104598]\n",
        "[ 63.45749269  52.530245    27.18551008]  ->  [ 63.077175    52.73118333  27.09982333]\n",
        "[ 49.13943099  73.22869242  33.94804539]  ->  [ 49.42714083  73.3897925   33.90815333]\n",
        "[ 63.5791661   52.50939977  25.90673929]  ->  [ 64.12846125  52.664435    26.18203375]\n",
        "[ 57.17607968  49.29203645  34.33641571]  ->  [ 57.510364  48.659535  34.44214 ]\n",
        "[ 57.42949718  58.22642504  41.55051867]  ->  [ 57.430266  58.671785  41.570862]\n",
        "[ 72.74457363  39.4340433   32.21602783]  ->  [ 72.88918  40.049    31.63871]\n",
        "[ 64.26042946  66.59361313  31.78124206]  ->  [ 63.67791   66.48134   32.239445]\n",
        "[ 62.05360981  45.86769562  22.08192181]  ->  [ 62.66333533  46.376742    22.24054467]\n",
        "[ 49.15717777  54.03490467  41.00731268]  ->  [ 49.460515  54.306444  41.330568]\n",
        "[ 62.6284417   74.72147716  28.69432578]  ->  [ 62.676685  74.691385  29.035525]\n",
        "[ 67.17056609  60.11627192  41.15344811]  ->  [ 66.88183  61.27497  41.25047]\n",
        "[ 75.78860331  84.23754296  25.51502092]  ->  [ 76.27999533  84.182998    25.25756933]\n",
        "[ 62.2800197   80.93654128  23.8791005 ]  ->  [ 62.676685  80.89898   24.42989 ]\n",
        "[ 48.11699536  71.87791628  28.18116508]  ->  [ 48.659535  71.887955  27.834055]\n",
        "[ 58.47702351  74.1837901   34.1939766 ]  ->  [ 57.870805  73.850356  34.522238]\n",
        "[ 83.15907062  47.10938793  32.36809194]  ->  [ 83.76915833  47.12432333  32.77343167]\n",
        "[ 67.8467844   60.02921204  16.21170567]  ->  [ 67.99087923  60.65883154  16.48170385]\n",
        "[ 35.76560792  72.03545174  49.403796  ]  ->  [ 35.97735167  72.688935    49.12677333]\n",
        "[ 39.00247049  76.70050995  42.65240165]  ->  [ 38.75510923  77.07892154  41.74338077]\n",
        "[ 79.449202    83.53562818  26.51425906]  ->  [ 80.35285727  83.66600182  26.83283   ]\n",
        "[ 51.3487527   88.05062725  29.82646619]  ->  [ 51.94047231  88.26183462  29.94432923]\n",
        "[ 59.72735258  86.03304234  36.96431777]  ->  [ 59.472765    85.97185333  36.5447125 ]\n",
        "[ 45.1027512   73.33384178  46.63460365]"
       ]
      },
      {
       "output_type": "stream",
       "stream": "stdout",
       "text": [
        "  ->  [ 44.72138333  73.82365667  46.45684   ]\n",
        "[ 78.20080347  50.58354481  34.20647328]  ->  [ 77.374668  50.661985  34.281944]\n",
        "[ 76.58782195  89.5077495   31.59725251]  ->  [ 75.81583769  89.74056692  31.05337846]\n",
        "[ 50.49366651  67.68877181  33.01920462]  ->  [ 51.022426  66.681585  33.160572]\n",
        "[ 47.73212099  55.42999967  40.22454633]  ->  [ 48.619486  55.107424  40.930078]\n",
        "[ 77.48990646  50.90521186  50.14853327]  ->  [ 77.47941154  50.61577462  49.26027   ]\n",
        "[ 45.89980255  79.95141111  47.90196702]  ->  [ 45.43741091  79.80673455  48.16802455]\n",
        "[ 74.63569491  64.90612978  16.31923381]  ->  [ 74.7915075   65.01287667  16.38671583]\n",
        "[ 56.15404065  75.87186539  39.873852  ]  ->  [ 55.66811   75.892855  40.049   ]\n",
        "[ 90.29277376  76.71573789  29.75942148]  ->  [ 90.36770786  75.93576464  30.49445286]\n",
        "[ 74.8985916   87.19241139  37.00282411]  ->  [ 75.26351357  86.706085    36.35877071]\n",
        "[ 66.68519642  69.15677965  35.60773587]  ->  [ 65.90921143  68.71264143  35.41475857]\n",
        "[ 48.78981188  49.79653041  39.27369637]  ->  [ 48.99327667  49.98496619  38.56146571]\n",
        "[ 53.59427014  75.94155162  41.44725054]  ->  [ 53.30966889  76.20434722  42.14044778]\n",
        "[ 52.62892504  56.50771066  23.77391071]  ->  [ 53.08312909  57.08802909  23.70172636]\n",
        "[ 67.92948679  56.58710085  24.39985788]  ->  [ 68.5839125  56.7694575  23.22842  ]\n",
        "[ 72.31985437  53.01671253  28.10298746]  ->  [ 72.31069444  52.99817667  28.21229556]\n",
        "[ 68.29465309  93.95780414  28.76526712]  ->  [ 68.283545  93.794758  27.794006]\n",
        "[ 68.44189091  89.32572503  29.48911622]  ->  [ 67.883055  88.988878  29.796456]\n",
        "[ 61.10720096  68.80415302  14.3449195 ]  ->  [ 60.794382  69.485015  15.058424]\n",
        "[ 76.69062782  76.7921832   30.89266375]  ->  [ 76.693835    77.16107333  31.23822   ]\n",
        "[ 58.86818969  72.28049662  27.00691539]  ->  [ 58.87203     73.07402154  27.07928538]\n",
        "[ 56.91270577  47.42851041  42.16497532]  ->  [ 56.7694575   47.52481333  42.68555917]\n",
        "[ 65.44812663  59.54621491  41.15466911]  ->  [ 64.66093091  59.67301     41.61455182]\n",
        "[ 57.08979468  68.67999419  33.09523459]  ->  [ 57.88620846  68.97670077  32.93260077]\n",
        "[ 75.37675876  59.45301536  20.05049759]  ->  [ 75.55911333  59.40601667  20.0245    ]\n",
        "[ 48.87582345  64.71202688  35.16612519]  ->  [ 49.180172    63.46431533  35.61691067]\n",
        "[ 86.29665457  86.65263445  30.22302926]  ->  [ 86.36020727  86.65147273  30.10956636]\n",
        "[ 62.20138635  86.74143348  28.27314684]  ->  [ 62.93854385  86.59826077  27.41816154]\n",
        "[ 70.72047944  84.76292176  35.80318993]  ->  [ 70.285995  84.303145  35.443365]\n",
        "[ 62.2800197   80.93654128  23.8791005 ]  ->  [ 62.676685  81.69996   24.0294  ]\n",
        "[ 77.49193554  54.20799198  21.48370886]  ->  [ 77.1543985  54.346493   22.5275625]\n",
        "[ 54.60454581  65.5251837   36.35772163]  ->  [ 54.58106571  65.480115    36.44459   ]\n",
        "[ 58.34079844  53.01376881  46.6992625 ]  ->  [ 58.35711429  52.29255143  46.34241429]\n",
        "[ 94.82657754  56.12157553  28.95492561]  ->  [ 94.6157625   56.30221917  28.90202833]\n",
        "[ 75.01379508  53.12103109  22.8031232 ]  ->  [ 74.37671429  52.57861571  22.42744   ]\n",
        "[ 79.09300016  37.98863011  35.58520767]  ->  [ 79.29702     37.445815    35.35754571]\n",
        "[ 34.57519978  73.71725629  43.52115288]  ->  [ 35.042875    73.55666333  42.71893333]\n",
        "[ 90.20097955  50.54116459  26.2782459 ]  ->  [ 89.88497437  50.86223     25.95675813]\n",
        "[ 83.36140255  87.36711924  32.21012174]  ->  [ 83.21610071  87.79312929  32.35387071]\n",
        "[ 81.90312766  72.02942037  38.79293362]  ->  [ 81.21365071  72.57450929  38.59007214]\n",
        "[ 85.49799782  79.049773    24.24572456]  ->  [ 85.11952846  79.20459923  24.49150385]\n",
        "[ 66.68977013  74.36699942  18.48239552]  ->  [ 66.84542182  73.87220091  18.20409091]\n",
        "[ 58.66590339  52.3845646   40.01743138]  ->  [ 58.68718846  52.18692769  39.67931692]\n",
        "[ 80.38028669  86.89971746  29.02654885]  ->  [ 79.7976325  87.4069425  28.83528  ]\n",
        "[ 45.48498011  77.41051108  29.78866361]  ->  [ 45.28617692  76.95569385  29.38980462]\n",
        "[ 51.65983707  45.6002833   39.39113704]  ->  [ 51.81339375  45.65586     38.99771375]\n",
        "[ 70.94903138  59.19312804  18.21164859]  ->  [ 70.726534    59.993402    18.20894533]\n",
        "[ 63.3799902   47.14320191  38.53944067]  ->  [ 64.87938   46.536938  38.44704 ]\n",
        "[ 74.03974536  65.10827805  15.1578753 ]  ->  [ 74.96444636  65.09782909  14.59968091]\n",
        "[ 62.65263251  77.11522183  30.21816803]  ->  [ 63.51103917  77.76180833  30.1368725 ]\n",
        "[ 50.32803832  79.47148706  37.48365789]  ->  [ 50.28374444  79.78650778  37.91305333]\n",
        "[ 63.19318849  80.71888453  37.18860002]  ->  [ 63.27742     80.698735    37.35999571]\n",
        "[ 71.31450517  52.63108943  19.06339382]  ->  [ 70.97254929  53.52262786  18.73721071]\n",
        "[ 82.31819806  51.28784137  41.87655657]  ->  [ 82.701185  51.743308  42.291744]\n",
        "[ 61.86088946  50.45146928  45.18353438]  ->  [ 61.475215  51.062475  45.055125]\n",
        "[ 79.80720867  40.33870514  37.45334697]  ->  [ 79.01975769  40.07980692  37.02992154]\n",
        "[ 53.96522843  71.47003203  37.21656049]  ->  [ 54.666885  71.367318  37.405766]\n",
        "[ 79.59937019  59.13559973  39.45592028]  ->  [ 79.457216  58.271295  39.728608]\n",
        "[ 76.67728415  54.46880104  36.48893508]  ->  [ 76.58782294  54.91424647  36.63305588]\n",
        "[ 43.90579209  86.46989572  42.54553632]  ->  [ 44.09030818  85.92330909  42.63398091]\n",
        "[ 37.14363162  73.81241281  48.15235652]  ->  [ 37.726158  74.170748  48.379192]\n",
        "[ 71.26253452  98.9689602   35.40855963]  ->  [ 70.60946769  99.10587154  35.21231308]\n",
        "[ 69.63082622  94.57461102  33.46437837]  ->  [ 69.68526  95.31662  33.24067]\n",
        "[ 72.27233613  57.44441211  31.94236594]  ->  [ 72.0882   57.27007  32.84018]\n",
        "[ 90.48578834  64.66659719  35.60946973]  ->  [ 91.0113525   64.61238667  36.41121583]\n",
        "[ 64.26042946  66.59361313  31.78124206]  ->  [ 63.27742  67.28232  32.0392 ]\n",
        "[ 95.32010788  62.26363569  30.49617925]  ->  [ 95.036277  61.875705  30.997926]\n",
        "[ 75.84853055  71.46436455  19.80753882]  ->  [ 76.40459222  71.73220889  19.98000111]\n",
        "[ 79.92692919  55.31879157  29.04713669]  ->  [ 80.81466632  56.32154105  29.72057368]\n",
        "[ 63.79240114  49.53701288  40.45487025]  ->  [ 63.95517231  49.81479462  40.66513846]\n",
        "[ 88.12977713  52.25459532  43.27806117]  ->  [ 88.37479333  52.263945    42.98592667]\n",
        "[ 77.01611225  50.69597169  41.09001598]  ->  [ 77.494815  50.86223   41.25047 ]\n",
        "[ 89.42679243  75.06493113  38.30941608]  ->  [ 88.90878     75.091875    38.96195571]\n",
        "[ 59.66718123  40.69531073  40.91215439]  ->  [ 59.49779563  40.84998     41.9513275 ]\n",
        "[ 72.31985437  53.01671253  28.10298746]  ->  [ 73.13948625  52.86468     28.18448375]\n",
        "[ 72.18265731  70.6670064   43.89570984]  ->  [ 71.45409083  70.686485    44.08727417]\n",
        "[ 59.62735945  62.13946864  15.82586033]  ->  [ 59.78223455  62.29439909  16.63853909]\n",
        "[ 78.25508012  74.31254473  39.56389655]  ->  [ 78.255746  74.050601  38.687334]\n",
        "[ 85.96813655  83.62803847  29.363646  ]  ->  [ 85.64324615  83.73321692  28.98931462]\n",
        "[ 65.21915328  42.28564272  28.40623009]  ->  [ 65.3799925  42.45194    27.9341775]\n",
        "[ 53.21827787  68.50833157  23.01769158]  ->  [ 53.745758  67.843006  23.028175]\n",
        "[ 74.27684933  51.69204629  19.13982137]  ->  [ 73.95715333  52.64218556  20.20249556]\n",
        "[ 59.72123959  82.60821975  35.84032104]  ->  [ 59.592912  82.300695  35.843855]\n",
        "[ 59.14561142  88.1186154   31.92096041]  ->  [ 59.072275  88.308045  31.438465]\n",
        "[ 45.86715602  65.2964494   37.27993409]  ->  [ 46.52965636  65.46191091  37.02712091]\n",
        "[ 50.21781725  53.7411217   29.99103646]  ->  [ 50.7621075  54.1662725  31.63871  ]\n",
        "[ 56.80492911  47.92743407  26.10935328]  ->  [ 57.08522846  47.81234462  26.00104308]\n",
        "[ 60.4361854   68.24030217  42.40030695]  ->  [ 60.41677714  68.0833      42.10866286]\n",
        "[ 85.48206702  76.05853743  35.93502223]  ->  [ 85.30437     76.293345    35.92967429]\n",
        "[ 71.32287204  65.9016595   24.9497847 ]  ->  [ 71.086975  65.880605  25.030625]\n",
        "[ 59.39099171  92.71996641  29.97661727]  ->  [ 59.472765  92.91368   31.037975]\n",
        "[ 66.30086855  44.51057005  40.59794617]  ->  [ 66.34784333  44.85488     40.58298667]\n",
        "[ 56.8503578   81.0498848   33.97337334]  ->  [ 56.28704909  81.91840909  34.15087455]\n",
        "[ 82.04190348  79.95856742  35.89276728]  ->  [ 82.10045     80.738784    35.93730267]\n",
        "[ 42.63184934  66.8218648   44.68512869]  ->  [ 42.251695  65.880605  45.455615]\n",
        "[ 88.49646497  65.96111298  25.55060641]  ->  [ 88.8086575   65.80551313  25.65639063]\n",
        "[ 68.15584989  54.06740409  36.99353093]  ->  [ 67.9831775   53.41535375  37.29563125]\n",
        "[ 68.86704513  39.4977121   41.33324694]  ->  [ 68.88428     39.37317313  40.92507188]\n",
        "[ 63.83845209  56.44619296  25.61228353]  ->  [ 64.10509933  56.68268467  26.111948  ]\n",
        "[ 61.75839136  73.16872282  21.33160378]  ->  [ 61.54196333  72.66668556  21.04797444]\n",
        "[ 51.43121028  77.47871272  34.60309582]  ->  [ 51.462965  77.895305  35.042875]\n",
        "[ 45.58100828  51.11392288  26.99231656]  ->  [ 45.575762  51.422916  27.433565]\n",
        "[ 54.71915891  78.15511353  32.03080675]  ->  [ 55.30402818  78.24118273  32.29405727]\n",
        "[ 52.49449183  46.56907732  34.96818223]  ->  [ 52.34096231  46.79571615  35.39715462]"
       ]
      },
      {
       "output_type": "stream",
       "stream": "stdout",
       "text": [
        "\n",
        "[ 74.05508106  73.92697524  18.73135389]  ->  [ 73.089425  73.890405  19.423765]\n",
        "[ 50.61833392  71.56902841  23.26010409]  ->  [ 51.14829429  71.85934857  23.57169714]\n",
        "[ 64.83877425  51.51674397  35.81074872]  ->  [ 63.878155  51.342818  35.403316]\n",
        "[ 79.10422545  93.10277501  35.23749963]  ->  [ 78.89653    93.4142925  35.843855 ]\n",
        "[ 70.2190456   80.42241904  19.87683497]  ->  [ 70.61139313  80.9991025   19.64904063]\n",
        "[ 79.51424838  44.99155874  37.15999101]  ->  [ 79.43051667  44.27083208  36.99526375]\n",
        "[ 58.15601652  52.23685547  28.82332008]  ->  [ 58.47154   51.863455  29.23577 ]\n",
        "[ 59.72123959  82.60821975  35.84032104]  ->  [ 59.19623619  82.97771381  36.78786714]\n",
        "[ 67.79253438  63.54993015  45.90886383]  ->  [ 67.37474077  63.86275154  45.59424615]\n",
        "[ 49.48720873  92.01254758  38.62180048]  ->  [ 49.26027     92.312945    38.56146571]\n",
        "[ 81.81457165  88.45149576  26.28980691]  ->  [ 81.42462312  88.18289187  25.63136   ]\n",
        "[ 69.91196177  75.80713223  25.03802644]  ->  [ 69.885505  75.492365  25.431115]\n",
        "[ 97.92847317  62.51191186  32.83404625]  ->  [ 98.440442  62.316244  32.639935]\n",
        "[ 39.61978857  72.24150064  38.3058304 ]  ->  [ 39.91550333  72.39969222  37.08982389]\n",
        "[ 80.78577531  82.69787755  35.05477237]  ->  [ 81.08102091  83.26551182  35.06107909]\n",
        "[ 50.64630458  62.76342286  40.21687883]  ->  [ 51.44476091  62.69488909  40.41308182]\n",
        "[ 46.36827583  57.42603517  27.24211895]  ->  [ 46.617036  57.550413  27.073124]\n",
        "[ 69.92100755  83.39358066  25.50299665]  ->  [ 69.32926889  83.13875741  25.3495337 ]\n",
        "[ 72.06284227  38.1578981   41.40736813]  ->  [ 71.367318  38.647285  41.010176]\n",
        "[ 45.1462423   81.09283184  28.96745251]  ->  [ 45.22456308  80.37526231  29.02012154]\n",
        "[ 68.12422763  53.06267555  40.63986718]  ->  [ 67.68281   53.345268  40.249245]\n",
        "[ 78.05367912  46.83526144  41.48132233]  ->  [ 78.66767857  47.14339429  41.07883143]\n",
        "[ 75.16625873  39.97999612  27.01328312]  ->  [ 75.47416091  39.35724455  27.41536091]\n",
        "[ 77.90819006  50.29399164  41.3066014 ]  ->  [ 77.40899571  50.29010143  41.99423714]\n",
        "[ 83.39871208  53.26145585  22.63517383]  ->  [ 83.48396091  53.44721091  22.31821545]\n",
        "[ 65.55069278  59.07644686  26.60163873]  ->  [ 66.14759833  58.60503667  26.632585  ]\n",
        "[ 62.83311749  89.91992063  29.33257935]  ->  [ 62.81531615  90.72638846  29.57464615]\n",
        "[ 68.57007227  70.1441675   25.82420321]  ->  [ 68.32975538  70.36301231  25.69297385]\n",
        "[ 51.1535161   78.3796538   33.84858142]  ->  [ 51.503014  77.895305  33.721258]\n",
        "[ 63.74714529  79.40762382  38.68131757]  ->  [ 63.437616  79.777608  38.647285]\n",
        "[ 46.70433758  59.73857187  28.0865049 ]  ->  [ 46.657085  60.273745  27.834055]\n",
        "[ 67.9219894   55.33267648  18.46684351]  ->  [ 68.21679667  55.1674975   17.9219275 ]\n",
        "[ 74.99858983  59.40914099  39.69556782]  ->  [ 75.131924  58.952128  39.448265]\n",
        "[ 72.27233613  57.44441211  31.94236594]  ->  [ 72.0882   56.86958  32.43969]\n",
        "[ 38.43062582  78.66617789  37.40703163]  ->  [ 38.246795  78.736334  36.524688]\n",
        "[ 87.06241835  60.46734439  32.45822094]  ->  [ 87.21439923  60.25834154  32.90179385]\n",
        "[ 76.37463784  42.65317929  31.16081041]  ->  [ 76.85767182  42.85243     30.98336273]\n",
        "[ 56.98679929  52.16744553  30.29618021]  ->  [ 57.67056   52.46419   29.436015]\n",
        "[ 76.98166305  95.99067481  42.58190797]  ->  [ 77.69506     96.23202571  41.851205  ]\n",
        "[ 66.74961544  43.43332439  28.56167785]  ->  [ 65.880605  42.85243   28.234545]\n",
        "[ 49.00650395  53.51162496  28.92067748]  ->  [ 49.460515  53.465415  28.635035]\n",
        "[ 68.08442013  46.29503957  35.72983348]  ->  [ 67.91642917  46.3567175   35.64361   ]\n",
        "[ 41.46228122  65.70262562  45.91609611]  ->  [ 41.39610273  65.93521727  45.61945182]\n",
        "[ 81.97686845  77.12960682  37.14396038]  ->  [ 81.900205  77.094325  37.445815]\n",
        "[ 63.71150605  55.55143797  29.04669434]  ->  [ 63.51103917  56.23547083  29.436015  ]\n",
        "[ 90.61415235  64.23375392  24.96233252]  ->  [ 90.97797833  63.94490333  25.431115  ]\n",
        "[ 68.2722726   71.39678583  23.4866882 ]  ->  [ 68.45518357  71.11558143  23.51448429]\n",
        "[ 66.48361247  71.43451834  17.91426385]  ->  [ 66.681585    71.17279429  17.62156   ]\n",
        "[ 65.80548327  71.65732232  33.0345547 ]  ->  [ 65.50872143  71.80213571  32.81157357]\n",
        "[ 67.28764956  40.51991035  25.49839736]  ->  [ 67.52877538  39.98738615  24.70715231]\n",
        "[ 90.98768491  67.01248972  37.94786511]  ->  [ 90.86411353  66.24575765  37.88164235]\n",
        "[ 52.65435296  64.24032726  29.15886013]  ->  [ 52.664435  65.039576  28.354692]\n",
        "[ 45.79576533  62.98407084  44.33647397]  ->  [ 46.24324533  62.98372733  44.133998  ]\n",
        "[ 63.87187878  52.4800489   39.04555327]  ->  [ 63.67791     52.39351529  38.21145765]\n",
        "[ 70.41675332  73.67753254  24.71420324]  ->  [ 70.285995   72.9893025  24.9305025]\n",
        "[ 86.30971736  58.74881176  39.84811128]  ->  [ 85.47600857  59.18670071  39.87736143]\n",
        "[ 63.2394798   80.65689623  23.20437818]  ->  [ 62.47644  80.098    23.62891]\n",
        "[ 41.42023571  80.6861894   36.86371469]  ->  [ 41.78445667  80.3983675   38.07992417]\n",
        "[ 86.87644353  56.38942713  38.25126393]  ->  [ 87.106575  55.467865  38.246795]\n",
        "[ 71.76157389  81.07262159  29.65481552]  ->  [ 71.58091267  81.059176    30.06344933]\n",
        "[ 97.51932071  67.2686807   37.96154987]  ->  [ 97.519315  67.923104  37.966452]\n",
        "[ 81.00864433  43.33653909  36.67827583]  ->  [ 81.900205    42.48054643  36.10131286]\n",
        "[ 71.96874875  48.73391153  32.43633644]  ->  [ 71.86975091  48.67773909  32.07560818]\n",
        "[ 66.81859227  51.13027834  26.09833478]  ->  [ 67.06667154  51.07787846  25.75458769]\n",
        "[ 60.63424684  73.577007    36.91343472]  ->  [ 60.554088  73.890405  37.005276]\n",
        "[ 61.33821172  93.95670864  39.37645503]  ->  [ 61.00797667  94.11515     39.51501333]\n",
        "[ 53.89662295  48.66796843  37.44846761]  ->  [ 53.94292231  48.76735923  37.55363923]\n",
        "[ 61.86829898  37.19405517  32.38221868]  ->  [ 61.48856467  38.206746    32.0392    ]\n",
        "[ 68.69043918  91.01503358  30.90807232]  ->  [ 69.11789917  91.44521667  30.9378525 ]\n",
        "[ 71.08247432  78.07934718  29.97758966]  ->  [ 70.806632  77.494815  29.796456]\n",
        "[ 86.77136087  57.84788731  38.09997289]  ->  [ 86.27698857  57.84219857  38.01794357]\n",
        "[ 77.5568705   73.34715109  18.35218014]  ->  [ 77.094325  73.049376  17.301168]\n",
        "[ 39.47217603  67.99296301  34.33470479]  ->  [ 40.1491225   68.15839188  33.91649687]\n",
        "[ 55.35315764  80.26038145  25.02091301]  ->  [ 55.5679875   80.63198667  24.86375417]\n",
        "[ 92.45092673  73.34366454  31.38620013]  ->  [ 92.78018333  73.35641833  31.90570333]\n",
        "[ 62.39911524  51.14905122  31.40808593]  ->  [ 61.875705  51.462965  31.438465]\n",
        "[ 78.40552388  47.5179105   19.74013687]  ->  [ 78.28039154  48.0588      18.97706462]\n",
        "[ 42.65788729  70.23162913  46.94131093]  ->  [ 42.56636571  69.99993071  47.20060714]\n",
        "[ 44.58298076  74.02490839  25.92104573]  ->  [ 44.73165231  74.30629846  26.00104308]\n",
        "[ 55.62624806  67.50258293  45.4969241 ]  ->  [ 54.86713     67.53977786  44.59742214]\n",
        "[ 51.14795551  81.74500782  38.39786446]  ->  [ 50.51895286  81.21365071  37.87491143]\n",
        "[ 77.51789193  57.30352886  24.59606895]  ->  [ 77.50535421  57.67056     24.99900737]\n",
        "[ 70.2148676   51.53263852  38.72947456]  ->  [ 70.686485  52.263945  38.647285]\n",
        "[ 83.20293362  77.25460202  32.95381458]  ->  [ 83.502165  76.89408   34.04165 ]\n",
        "[ 68.26297061  77.27822965  32.22345688]  ->  [ 68.82266615  77.54102538  32.40888308]\n",
        "[ 51.42849461  42.27373133  41.73076898]  ->  [ 51.462965  42.612136  41.330568]\n",
        "[ 52.2611305   57.9573043   43.20389531]  ->  [ 52.71064538  58.50234692  42.91404385]\n",
        "[ 44.4312053   66.67764127  26.78389395]  ->  [ 44.85488   66.681585  26.43234 ]\n",
        "[ 73.18104441  62.13475309  38.46852297]  ->  [ 73.23245714  61.90431143  38.27540143]\n",
        "[ 75.65496393  88.55103287  36.6437557 ]  ->  [ 75.532414  88.668486  36.604786]\n",
        "[ 72.52375617  91.49305659  38.60602815]  ->  [ 73.089425  91.511965  38.647285]\n",
        "[ 43.12266011  84.83163918  43.85490498]  ->  [ 43.54661267  85.384468    43.60001133]\n",
        "[ 81.52833741  55.44554683  19.17343458]  ->  [ 81.099225  55.427816  19.704108]\n",
        "[ 53.88344621  86.87976556  31.09648028]  ->  [ 53.91596625  86.10535     31.78889375]\n",
        "[ 45.33366158  84.86273479  41.12032269]  ->  [ 45.04177533  84.983978    40.609686  ]\n",
        "[ 46.65412331  87.74843218  42.64701881]  ->  [ 47.057575  87.507065  42.652185]\n",
        "[ 64.36618731  85.93814633  27.23269515]  ->  [ 64.278645  85.504615  27.433565]\n",
        "[ 62.66146219  93.25015461  36.21457351]  ->  [ 62.63047462  93.68385308  35.70522385]\n",
        "[ 70.33281156  39.43367211  35.66719789]  ->  [ 70.566338  39.728608  35.323218]\n",
        "[ 53.09574762  44.86402707  34.9202783 ]  ->  [ 52.46419     45.49095235  35.21956176]\n",
        "[ 55.55223039  84.69832705  41.12040715]  ->  [ 55.1674975   85.104125    41.78445667]\n",
        "[ 74.15693593  88.18596274  28.61597818]  ->  [ 74.290895  88.428192  28.0343  ]\n",
        "[ 66.70229441  78.56418328  19.1638938 ]  ->  [ 67.55765688  78.57113188  18.42254   ]\n",
        "[ 64.6059879   38.97656259  39.421679  ]  ->  [ 65.079625  38.607236  38.927628]"
       ]
      },
      {
       "output_type": "stream",
       "stream": "stdout",
       "text": [
        "\n",
        "[ 51.36451655  46.1534938   36.46820355]  ->  [ 51.062475  47.25782   36.644835]\n",
        "[ 38.84356187  75.0222426   42.11610196]  ->  [ 38.647285  74.691385  42.652185]\n",
        "[ 56.49625882  61.06219007  28.40092334]  ->  [ 55.828306  61.835656  28.755182]\n",
        "[ 72.88068659  55.87122031  16.3503076 ]  ->  [ 72.66668556  55.89060444  17.08757333]\n",
        "[ 42.50237719  78.99222273  38.77239652]  ->  [ 41.91795333  79.16352333  39.24802   ]\n",
        "[ 96.0540083  68.3437123  36.2003674]  ->  [ 95.516865  68.88428   36.244345]\n",
        "[ 54.19447079  53.22295484  31.12801605]  ->  [ 54.06615  52.86468  30.83773]\n",
        "[ 68.69043918  91.01503358  30.90807232]  ->  [ 69.10677444  89.97675333  30.61523556]\n",
        "[ 70.9644954   67.41406941  16.8419379 ]  ->  [ 71.46926091  67.75562636  16.63853909]\n",
        "[ 79.81066123  83.03516872  34.76532514]  ->  [ 79.38944077  82.71658846  34.34971923]\n",
        "[ 84.71762963  55.22131134  26.2733573 ]  ->  [ 84.74984538  55.08277846  26.24749846]\n",
        "[ 78.35854897  94.52160486  35.35787707]  ->  [ 78.22904667  94.64913667  35.64361   ]\n",
        "[ 51.36451655  46.1534938   36.46820355]  ->  [ 50.40452714  47.02896857  36.50180286]\n",
        "[ 85.10103543  66.64825267  19.27962778]  ->  [ 85.03737667  67.482565    19.49051333]\n",
        "[ 65.50615946  46.35123421  39.63020701]  ->  [ 65.480115  46.45684   39.24802 ]\n",
        "[ 48.63999942  84.02573724  34.92198585]  ->  [ 48.21283462  83.76402385  34.96585769]\n",
        "[ 53.35434301  80.78626836  22.87996452]  ->  [ 53.35098929  81.21365071  23.71472929]\n",
        "[ 52.9652142   84.23193987  38.7989907 ]  ->  [ 52.9648025   84.33651917  39.71525833]\n",
        "[ 72.26763553  61.90961574  33.42685063]  ->  [ 71.887955  61.515264  34.121748]\n",
        "[ 41.26608972  74.978909    34.25341559]  ->  [ 40.649735  75.612512  34.682434]\n",
        "[ 71.29736439  49.0429785   15.67279308]  ->  [ 71.086975  48.659535  16.620335]\n",
        "[ 82.63627281  76.93490455  33.77465351]  ->  [ 82.981528  77.534864  34.121748]\n",
        "[ 79.70622718  44.41440629  23.36646788]  ->  [ 80.25203462  44.73165231  22.88954385]\n",
        "[ 54.78945389  58.22973703  27.12119832]  ->  [ 55.187522  58.311344  27.033075]\n",
        "[ 48.67482021  61.62514861  37.79456056]  ->  [ 49.32701833  62.276195    37.51256333]\n",
        "[ 80.82371967  43.0693331   34.48141055]  ->  [ 80.72376562  43.32801188  35.26815063]\n",
        "[ 74.31691266  55.4736011   44.0786728 ]  ->  [ 74.39690706  55.99792529  44.07745824]\n",
        "[ 75.41266715  93.14077247  32.19962083]  ->  [ 75.852806  93.514415  31.959102]\n",
        "[ 40.58758225  79.18677891  43.26138039]  ->  [ 40.049     79.497265  44.45439 ]\n",
        "[ 51.88582906  63.27934842  39.33239753]  ->  [ 51.48521444  62.25394556  38.58053667]\n",
        "[ 60.12053591  81.2594713   37.06164155]  ->  [ 60.22368375  81.85014375  36.29440625]\n",
        "[ 86.70716421  64.09471058  30.06753508]  ->  [ 86.13204933  63.597812    29.68965867]\n",
        "[ 57.15826051  66.6216759   20.35747538]  ->  [ 57.85540154  66.66618154  20.36337615]\n",
        "[ 39.60943016  57.02356688  36.89794943]  ->  [ 40.15822455  57.05162091  37.13634545]\n",
        "[ 53.22281486  91.51709644  37.2687823 ]  ->  [ 52.64903154  91.71221     37.49202538]\n",
        "[ 57.63957291  79.11096734  23.6371379 ]  ->  [ 57.470315  79.377118  24.189596]\n",
        "[ 75.5812561   66.30196911  18.69146636]  ->  [ 75.06962556  67.14882333  18.77853111]\n",
        "[ 81.61400368  53.1472405   45.62125409]  ->  [ 82.28249091  53.11953727  45.51022727]\n",
        "[ 88.25629869  61.16771635  24.70034052]  ->  [ 88.78362687  60.94957188  24.83038   ]\n",
        "[ 53.97596974  95.08927548  39.60190022]  ->  [ 54.266395    95.58361333  39.58176167]\n",
        "[ 72.68783331  44.40238549  23.25058339]  ->  [ 72.688935  44.654635  23.428665]\n",
        "[ 86.77393256  59.89121541  19.38211579]  ->  [ 85.85889462  59.27252     19.40836154]\n",
        "[ 42.99801854  66.95453488  25.79157427]  ->  [ 42.92524636  67.17309545  26.06825818]\n",
        "[ 57.43136352  59.82086664  38.59335938]  ->  [ 57.67056     59.55858429  38.647285  ]\n",
        "[ 70.85357603  73.37645576  39.83294935]  ->  [ 70.63642375  73.1895475   40.09906125]\n",
        "[ 83.42097078  61.58525649  33.35493777]  ->  [ 83.982753  61.755558  33.561062]\n",
        "[ 42.6217065   50.51588968  34.67576882]  ->  [ 42.652185    50.00403714  34.38492714]\n",
        "[ 45.54837015  75.96561699  29.69864811]  ->  [ 45.9562275   76.12647417  29.36926667]\n",
        "[ 46.98181065  82.52434499  33.80048996]  ->  [ 47.59669615  81.94641538  33.61035308]\n",
        "[ 60.34952454  67.35839084  27.12025135]  ->  [ 59.79623769  66.91263692  27.44896846]\n",
        "[ 67.17056609  60.11627192  41.15344811]  ->  [ 67.28232  60.87448  42.05145]\n",
        "[ 61.20108512  39.10999585  36.99190387]  ->  [ 61.90907917  39.71525833  37.3456925 ]\n",
        "[ 63.50150708  84.12190445  34.80499775]  ->  [ 63.517714  83.862606  34.522238]\n",
        "[ 97.6345864   55.89896563  38.5890374 ]  ->  [ 97.879756  55.067375  38.527138]\n",
        "[ 35.46934185  70.0971201   38.89782257]  ->  [ 35.483414  70.285995  39.568412]\n",
        "[ 76.12892318  58.72575684  19.83278139]  ->  [ 76.49359     59.40601667  19.824255  ]\n",
        "[ 59.51243075  41.546425    31.33358217]  ->  [ 59.13902333  42.652185    31.57196167]\n",
        "[ 88.68139686  87.30604544  33.92860939]  ->  [ 88.68350437  87.15663625  33.56606813]\n",
        "[ 71.5465404   61.44513908  23.12303781]  ->  [ 71.28722   61.995852  22.988126]\n",
        "[ 93.95625027  64.27725053  34.0740822 ]  ->  [ 94.44889167  64.24527083  33.5410375 ]\n",
        "[ 66.4792787   59.05513836  17.76303021]  ->  [ 66.74833333  59.67301     17.65493417]\n",
        "[ 85.10103543  66.64825267  19.27962778]  ->  [ 85.30437  66.48134  19.22352]\n",
        "[ 73.0102402   73.21195802  19.75543646]  ->  [ 72.88918     72.59548733  19.784206  ]\n",
        "[ 57.89770001  87.26717234  40.31028718]  ->  [ 58.04435067  87.226722    40.66308467]\n",
        "[ 65.10913044  54.66918111  24.78676793]  ->  [ 65.02241214  54.78131071  25.08783786]\n",
        "[ 66.80279302  62.25823495  13.92889033]  ->  [ 67.082075  62.276195  13.416415]\n",
        "[ 89.87199988  71.93515501  41.06204473]  ->  [ 89.63908529  71.45212765  40.87353824]\n",
        "[ 49.23416551  86.35500281  33.80727686]  ->  [ 49.500564  86.025252  34.241895]\n",
        "[ 66.7382059   48.38256493  20.89606662]  ->  [ 66.401242  48.619486  20.945627]\n",
        "[ 36.24104046  70.81626682  42.46473531]  ->  [ 35.92087231  70.73269538  42.66758846]\n",
        "[ 87.09591291  59.67232315  42.86820342]  ->  [ 87.547114  59.873255  43.573312]\n",
        "[ 59.72323326  43.28802637  41.08850351]  ->  [ 59.27252  42.45194  40.049  ]\n",
        "[ 78.63388125  90.06258209  31.71312202]  ->  [ 78.02880167  89.509515    31.438465  ]\n",
        "[ 57.85354527  87.99887442  33.09789116]  ->  [ 57.750658    88.05440133  32.89357867]\n",
        "[ 40.08368396  62.86324052  35.05770729]  ->  [ 39.83055091  62.51284818  35.46156909]\n",
        "[ 75.83096006  89.05707613  29.29491885]  ->  [ 75.29212  88.90878  28.83528]\n",
        "[ 38.33353687  76.04680347  47.07717237]  ->  [ 38.967677  76.0931    46.536938]\n",
        "[ 69.316606    66.92754918  24.22840879]  ->  [ 68.82266615  66.85102308  23.78294462]\n",
        "[ 86.30614729  45.58704745  32.5761359 ]  ->  [ 86.21214733  45.896154    33.64116   ]\n",
        "[ 61.35328603  66.28358518  39.3066987 ]  ->  [ 61.09012846  66.17327077  39.55608923]\n",
        "[ 72.63073115  80.96176803  31.80427338]  ->  [ 72.688935  80.698735  32.0392  ]\n",
        "[ 76.21285717  54.21731757  20.05705494]  ->  [ 75.91510444  54.28864444  20.29149333]\n",
        "[ 45.88325423  74.16724399  27.4853706 ]  ->  [ 46.14877077  74.24468462  27.75703769]\n",
        "[ 81.82735058  59.84974027  31.62830471]  ->  [ 80.87673056  59.65076056  31.74995722]\n",
        "[ 54.9105077   64.71206711  18.48187295]  ->  [ 54.83375583  64.34539333  18.7229075 ]\n",
        "[ 79.10747332  46.75906931  25.12351702]  ->  [ 79.497265  46.296644  25.310968]\n",
        "[ 51.97915193  70.30491668  33.07273431]  ->  [ 51.462965  70.005652  32.279494]\n",
        "[ 87.59083444  67.24759538  24.9576405 ]  ->  [ 87.73234063  66.9819525   25.10571688]\n",
        "[ 94.43795989  70.63054962  27.03563541]  ->  [ 94.315395  71.28722   27.033075]\n",
        "[ 77.40298202  47.483428    42.28426567]  ->  [ 77.094325  48.259045  42.251695]\n",
        "[ 84.31092991  76.5581521   25.95183579]  ->  [ 84.61261455  75.91105909  25.44931909]\n",
        "[ 84.18411291  65.06507165  22.14677344]  ->  [ 84.343194  65.039576  21.746607]\n",
        "[ 47.38345951  68.04878623  20.9611981 ]  ->  [ 47.40345273  68.22893273  21.15315364]\n",
        "[ 56.54271974  86.90038335  42.19639621]  ->  [ 55.908404  87.507065  42.532038]\n",
        "[ 64.26042946  66.59361313  31.78124206]  ->  [ 63.9782775  67.28232    31.838955 ]\n",
        "[ 81.3230523   46.92262172  26.64729159]  ->  [ 81.01340571  47.02896857  26.66119143]\n",
        "[ 51.84823544  56.55459073  42.66897391]  ->  [ 52.03289308  56.22263462  42.29790538]\n",
        "[ 59.7283799   92.22637403  32.54847553]  ->  [ 59.84464857  92.02688071  32.75436071]\n",
        "[ 55.04527377  67.95831423  39.65001761]  ->  [ 55.29842692  67.52877538  39.18640615]\n",
        "[ 41.63096335  58.79399584  34.2284958 ]  ->  [ 41.03202091  58.10745818  34.66058909]\n",
        "[ 68.39358667  87.39209311  34.76882793]  ->  [ 68.403692  87.026477  34.802581]\n",
        "[ 70.73317264  72.99867114  26.94540787]  ->  [ 70.31936917  72.95592833  26.7327075 ]\n",
        "[ 61.37149799  94.84543948  39.67139519]  ->  [ 60.674235  94.51564   38.647285]\n",
        "[ 66.48361247  71.43451834  17.91426385]  ->  [ 66.83176875  71.7878325   18.34744812]"
       ]
      },
      {
       "output_type": "stream",
       "stream": "stdout",
       "text": [
        "\n",
        "[ 90.33376896  49.05216788  28.00607194]  ->  [ 89.92820909  49.07822909  27.74303455]\n",
        "[ 82.11543605  68.78158173  21.38243423]  ->  [ 81.85014375  68.48379     21.47627625]\n",
        "[ 61.77995451  81.90534753  24.52220034]  ->  [ 62.07595  81.29947  23.62891]\n",
        "[ 82.04190348  79.95856742  35.89276728]  ->  [ 82.32294444  80.36499333  35.06512444]\n",
        "[ 60.75658228  91.52239724  31.36682278]  ->  [ 60.47399   91.111475  31.63871 ]\n",
        "[ 40.61184066  73.99553864  35.69888869]  ->  [ 40.249245  73.529964  34.762532]\n",
        "[ 65.1865746   73.70238382  34.58328792]  ->  [ 64.92944125  73.26463938  34.71747688]\n",
        "[ 55.90123379  87.51228788  28.08367244]  ->  [ 56.43268182  87.92575909  27.41536091]\n",
        "[ 35.80939917  68.76164476  49.20922333]  ->  [ 35.843855  69.525064  49.740858]\n",
        "[ 65.35673858  55.89413912  40.19664885]  ->  [ 65.880605  55.988502  40.609686]\n",
        "[ 66.17807766  91.62297332  30.58438633]  ->  [ 65.77459294  92.04202529  30.41368176]\n",
        "[ 98.61998852  68.28697258  35.41525643]  ->  [ 99.48839083  67.9831775   35.57686167]\n",
        "[ 55.79559933  91.59486552  38.46408944]  ->  [ 56.25064091  91.38453636  38.26499909]\n",
        "[ 55.4403792   56.03805599  23.56500562]  ->  [ 54.97635455  56.25064091  23.84735909]\n",
        "[ 74.99977812  94.73809346  36.37361121]  ->  [ 74.09065  94.51564  37.24557]\n",
        "[ 53.11144008  58.98417671  22.24800841]  ->  [ 53.064925    58.18547571  22.42744   ]\n",
        "[ 55.70401057  70.08378165  33.45635054]  ->  [ 55.067375  69.885505  33.440915]\n",
        "[ 65.21915328  42.28564272  28.40623009]  ->  [ 65.68036  42.45194  28.83528]\n",
        "[ 58.72210564  61.59629964  14.61618606]  ->  [ 59.23611182  61.89390909  14.63608909]\n",
        "[ 87.25119073  77.57795805  23.9169774 ]  ->  [ 87.96216727  77.51301909  23.30123636]\n",
        "[ 87.19260058  65.22046792  26.12579069]  ->  [ 87.52931444  65.14637333  25.85385444]\n",
        "[ 86.93561827  71.50928187  35.19834871]  ->  [ 86.706085  71.207122  35.002826]\n",
        "[ 73.26928157  61.87424952  25.95985217]  ->  [ 73.74355867  62.316244    25.49786333]\n",
        "[ 72.31985437  53.01671253  28.10298746]  ->  [ 72.88918    53.5655375  28.5349125]\n",
        "[ 62.85464388  61.09248533  17.98789653]  ->  [ 62.69488909  61.71186818  17.40311091]\n",
        "[ 70.68548204  54.83398137  34.09385483]  ->  [ 70.88673   55.067375  33.841405]\n",
        "[ 70.19699041  88.52009772  27.33302482]  ->  [ 70.686485  88.308045  26.83283 ]\n",
        "[ 53.2447941   73.44286656  29.47104185]  ->  [ 53.44721091  73.36248636  29.49062727]\n",
        "[ 68.12422763  53.06267555  40.63986718]  ->  [ 68.9844025  52.9648025  40.1491225]\n",
        "[ 70.97880284  49.88580525  18.24389105]  ->  [ 71.06877091  49.11463727  18.75021364]\n",
        "[ 45.10519224  85.96282866  42.29532844]  ->  [ 45.43741091  85.77767636  42.26989909]\n",
        "[ 55.09625646  71.75340235  28.47231536]  ->  [ 55.11358538  72.02658615  28.46559692]\n",
        "[ 74.99977812  94.73809346  36.37361121]  ->  [ 73.7902825  94.8160075  36.44459  ]\n",
        "[ 55.56170571  54.34628477  31.11649494]  ->  [ 55.26762   54.666885  30.83773 ]\n",
        "[ 54.70926438  49.36572124  34.97716156]  ->  [ 54.92874385  49.10623538  35.36634769]\n",
        "[ 80.94221612  53.44105302  21.25663168]  ->  [ 81.499715  53.505464  20.505088]\n",
        "[ 64.10840215  43.66808873  27.40116569]  ->  [ 63.3775425   44.1540225   27.86742917]\n",
        "[ 42.26214414  57.03363772  34.73348579]  ->  [ 42.21832083  57.60381167  34.1417725 ]\n",
        "[ 63.19288     47.1683602   21.03066848]  ->  [ 62.91333818  47.43986091  21.00752091]\n",
        "[ 64.54495664  81.12267676  29.43232097]  ->  [ 64.318694  81.379568  29.436015]\n",
        "[ 57.86543283  80.65304035  26.24744425]  ->  [ 58.151148    80.28489533  26.05854933]\n",
        "[ 68.50576481  43.75875625  26.1454211 ]  ->  [ 68.48379   44.0539    25.831605]\n",
        "[ 55.11859795  52.35824055  33.773357  ]  ->  [ 55.067375  53.26517   32.43969 ]\n",
        "[ 50.70083927  57.54622737  25.49623612]  ->  [ 51.14829429  57.470315    25.63136   ]\n",
        "[ 74.84377426  91.18399152  29.45623924]  ->  [ 74.63677273  90.76559727  29.59985182]\n",
        "[ 77.90819006  50.29399164  41.3066014 ]  ->  [ 77.86669857  50.23288857  40.96440571]\n",
        "[ 81.16630091  66.08485976  44.3148957 ]  ->  [ 81.77277636  65.93521727  43.90826727]\n",
        "[ 52.23559467  80.00859421  37.76333593]  ->  [ 51.48116909  79.47906091  37.53683545]\n",
        "[ 49.10059414  66.69935984  34.20376726]  ->  [ 49.26027  66.48134  34.04165]\n",
        "[ 61.54691222  57.40235032  33.09687423]  ->  [ 62.29844444  56.73608333  32.66218444]\n",
        "[ 80.84887963  78.68409347  24.07827778]  ->  [ 81.379568    78.30914467  23.92260267]\n",
        "[ 79.77032872  98.48626759  36.99490364]  ->  [ 79.897755  97.919805  36.644835]\n",
        "[ 85.84812601  51.06398214  22.41882494]  ->  [ 85.4044925   51.22934583  22.16044667]\n",
        "[ 40.30671563  66.47482601  33.95275656]  ->  [ 40.44949     66.34784333  34.17514667]\n",
        "[ 71.66439957  61.89290708  45.2872916 ]  ->  [ 71.53752625  61.82564375  46.05635   ]\n",
        "[ 64.74502894  36.79963043  40.66595727]  ->  [ 64.79038222  36.93407778  40.71648333]\n",
        "[ 82.77351447  57.91051582  30.76664496]  ->  [ 82.6010625   57.90417917  30.236995  ]\n",
        "[ 44.79569698  86.32623288  44.82495378]  ->  [ 44.1540225   86.55590125  44.70469625]\n",
        "[ 63.12448252  59.53608813  45.42786548]  ->  [ 62.36201429  59.73022286  45.19815714]\n",
        "[ 66.30086855  44.51057005  40.59794617]  ->  [ 65.81385667  44.85488     41.11697333]\n",
        "[ 57.02205498  54.6534211   30.14028904]  ->  [ 56.74442688  54.86713     30.11184187]\n",
        "[ 73.86920484  48.44995881  21.70450043]  ->  [ 73.089425  48.659535  22.627685]\n",
        "[ 59.83749832  60.09710098  27.75187618]  ->  [ 59.472765  60.634186  27.954202]\n",
        "[ 76.5715931   73.06109797  19.54919705]  ->  [ 76.693835  73.089425  19.824255]\n",
        "[ 62.86371409  80.73774511  21.91867858]  ->  [ 62.74343333  80.76548333  22.69443333]\n",
        "[ 58.84605545  77.23284972  31.4743673 ]  ->  [ 59.472765  78.255746  30.917828]\n",
        "[ 76.82453133  53.90283101  20.79353712]  ->  [ 77.3946925  53.9660275  20.42499  ]\n",
        "[ 66.30086855  44.51057005  40.59794617]  ->  [ 66.321144  43.973802  40.689784]\n",
        "[ 52.97504838  44.5924044   38.41342852]  ->  [ 52.944778  43.893704  38.246795]\n",
        "[ 52.65860823  48.30098801  42.62396712]  ->  [ 53.04672091  47.47626909  42.74320545]\n",
        "[ 63.3799902   47.14320191  38.53944067]  ->  [ 63.878155  46.657085  38.246795]\n",
        "[ 40.29605087  64.34410058  35.85131853]  ->  [ 40.289294  63.758008  35.443365]\n",
        "[ 81.08214466  68.2940011   20.79100188]  ->  [ 81.84559273  68.01048364  20.78907182]\n",
        "[ 52.67222494  86.86124162  31.68205358]  ->  [ 53.024876  86.50584   31.959102]\n",
        "[ 79.41302846  52.49395355  43.36754347]  ->  [ 79.537314  52.784582  43.052675]\n",
        "[ 57.74088778  47.57059038  25.34600287]  ->  [ 57.470315  47.458065  25.030625]\n",
        "[ 68.60582143  85.06180033  34.03661776]  ->  [ 67.99087923  85.11952846  34.75020923]\n",
        "[ 61.17457196  61.70521913  39.5014461 ]  ->  [ 60.714284  62.156048  39.047775]\n",
        "[ 66.69797763  45.22435536  37.99254317]  ->  [ 66.59913118  44.87843824  37.92875882]\n",
        "[ 64.4807165   51.19031189  29.82566384]  ->  [ 64.278645  50.06125   29.836505]\n",
        "[ 58.34079844  53.01376881  46.6992625 ]  ->  [ 58.07105   53.064925  46.85733 ]\n",
        "[ 51.72826079  60.29976264  48.18394558]  ->  [ 50.661985  60.233696  48.539388]\n",
        "[ 68.7264692   43.47195663  27.53551905]  ->  [ 69.05115083  43.5532875   27.70055833]\n",
        "[ 68.88384174  65.89439372  15.17633724]  ->  [ 69.41826667  66.25884556  16.24209444]\n",
        "[ 73.48025653  64.32825617  36.4705765 ]  ->  [ 74.43392714  64.99380571  36.93089929]\n",
        "[ 85.1894158   45.89825517  34.70471373]  ->  [ 85.59043429  45.856105    34.84263   ]\n",
        "[ 41.35670028  63.38288288  35.3685291 ]  ->  [ 41.53653429  62.81971714  35.47197143]\n",
        "[ 53.66124362  60.69110856  29.96430371]  ->  [ 53.89927917  61.14147333  29.9366275 ]\n",
        "[ 54.69373535  54.08723524  47.4423955 ]  ->  [ 54.89793692  53.60404615  47.41185462]\n",
        "[ 60.27879168  46.50407515  34.1306976 ]  ->  [ 59.472765  46.536938  34.281944]\n",
        "[ 43.1779483  53.4710502  39.0950463]  ->  [ 43.453165  53.26517   39.848755]\n",
        "[ 63.54836397  83.00542541  37.59808671]  ->  [ 63.43145462  82.43932615  37.36879769]\n",
        "[ 52.07355809  49.06283529  39.98681599]  ->  [ 52.19719667  49.060025    39.71525833]\n",
        "[ 59.68150408  52.2577778   26.83242691]  ->  [ 59.072275  52.263945  26.632585]\n",
        "[ 42.63042391  69.66676207  45.36220169]  ->  [ 42.18494667  67.71618417  45.5557375 ]\n",
        "[ 76.0027579   85.60784928  24.81326237]  ->  [ 76.293345  85.104125  25.030625]\n",
        "[ 69.46649814  56.54809609  23.65053798]  ->  [ 69.485015    56.09720643  23.77194214]\n",
        "[ 48.59539494  49.49507879  37.81068885]  ->  [ 48.0588      49.26027     37.53163429]\n",
        "[ 44.22080776  68.94911431  30.87705202]  ->  [ 43.973802  68.684035  31.398416]\n",
        "[ 63.56883333  71.4909081   41.5592369 ]  ->  [ 63.83194462  72.02658615  41.62015308]\n",
        "[ 42.50237719  78.99222273  38.77239652]  ->  [ 41.851205  79.69751   38.647285]\n",
        "[ 71.02142532  82.64261756  26.15864942]  ->  [ 70.94012867  82.741234    25.89835333]\n",
        "[ 77.328033    79.28474279  31.0419281 ]  ->  [ 77.094325  78.295795  30.637485]\n",
        "[ 58.25675481  47.37690184  38.63892633]"
       ]
      },
      {
       "output_type": "stream",
       "stream": "stdout",
       "text": [
        "  ->  [ 58.41692773  46.93014636  38.647285  ]\n",
        "[ 43.56794958  84.2145598   36.6159394 ]  ->  [ 44.254145  84.663586  36.925178]\n",
        "[ 69.54281076  74.08485533  39.34890666]  ->  [ 69.56746882  73.87862588  39.17734529]\n",
        "[ 82.9709188   57.50426703  24.12880853]  ->  [ 83.61659071  57.58474071  23.94358071]\n",
        "[ 40.46933662  78.2588404   38.6227458 ]  ->  [ 40.58298667  78.06217583  38.5471625 ]\n",
        "[ 44.79699817  72.98398692  30.68708324]  ->  [ 45.43336556  73.11167444  30.70423333]\n",
        "[ 41.59602623  81.460679    49.62846464]  ->  [ 42.932528  81.900205  50.942328]\n",
        "[ 84.69051039  69.95874204  39.47171226]  ->  [ 85.57970687  69.28477     39.57341813]\n",
        "[ 89.44575747  70.58228626  33.8149407 ]  ->  [ 88.99459929  70.37181429  34.241895  ]\n",
        "[ 84.45074601  62.55778936  33.38585158]  ->  [ 83.70241   62.676685  33.64116 ]\n",
        "[ 74.15693593  88.18596274  28.61597818]  ->  [ 74.09065  89.30927  28.83528]\n",
        "[ 41.06074799  70.53803213  35.98334491]  ->  [ 40.649735    71.68771     35.75803571]\n",
        "[ 90.67428467  64.47833612  39.00389983]  ->  [ 90.69558154  64.57131077  38.93995077]\n",
        "[ 71.47629173  64.83482905  18.47448677]  ->  [ 71.527514  65.199772  17.421315]\n",
        "[ 56.26136254  90.5991564   35.52390184]  ->  [ 56.228796  90.710985  34.922728]\n",
        "[ 59.03158406  45.8320841   38.39809388]  ->  [ 59.53951333  45.70035889  38.58053667]\n",
        "[ 85.6324133   76.28891419  26.38368108]  ->  [ 86.425742  76.333394  25.431115]\n",
        "[ 96.21113197  58.13171908  37.49265777]  ->  [ 95.71711   58.47154   37.445815]\n",
        "[ 74.99977812  94.73809346  36.37361121]  ->  [ 75.91105909  94.715885    36.00769182]\n",
        "[ 52.72976889  55.28227794  23.15793184]  ->  [ 52.93749636  55.48606909  23.04637909]\n",
        "[ 64.4807165   51.19031189  29.82566384]  ->  [ 64.318694  50.942328  29.876554]\n",
        "[ 72.32360661  66.13353637  16.91118784]  ->  [ 72.60311571  65.76617929  16.93500571]\n",
        "[ 43.80037745  51.80395329  29.05088321]  ->  [ 43.733508    51.60981133  29.74305733]\n",
        "[ 55.47356253  57.7295449   44.58545689]  ->  [ 55.427816  58.271295  44.133998]\n",
        "[ 48.52299062  84.00938515  47.01296444]  ->  [ 48.939878  83.462116  46.657085]\n",
        "[ 49.93677252  81.59969054  44.67221782]  ->  [ 49.97543071  81.38528929  44.71184786]\n",
        "[ 55.85747874  66.56206363  46.5160951 ]  ->  [ 56.40234167  67.04870083  46.9574525 ]\n",
        "[ 74.34367451  63.049835    41.69341193]  ->  [ 74.89163  62.47644  42.45194]\n",
        "[ 46.67522653  64.90581228  40.95206328]  ->  [ 46.52358833  63.81140667  40.649735  ]\n",
        "[ 64.31658809  50.18552912  29.03314666]  ->  [ 64.278645  50.261495  28.635035]\n",
        "[ 60.80599762  91.10520756  32.26479035]  ->  [ 60.47399   90.51074   32.239445]\n",
        "[ 46.39435167  70.50377474  39.83055614]  ->  [ 47.40345273  70.66828091  39.90336727]\n",
        "[ 89.70002716  51.4272065   46.3669037 ]  ->  [ 90.26043375  51.73830188  45.60579875]\n",
        "[ 80.09950634  51.38815873  32.50516698]  ->  [ 79.87550556  50.63973556  32.17269667]\n",
        "[ 49.38402699  92.46390966  46.92089028]  ->  [ 48.72628333  92.2128225   46.89070417]\n",
        "[ 66.36188288  54.08357419  40.23965209]  ->  [ 67.05346857  54.40942714  40.33506429]\n",
        "[ 97.73887207  59.42861904  38.53638763]  ->  [ 98.26568273  59.92786727  38.51985636]\n",
        "[ 59.98856198  66.70487561  39.63092934]  ->  [ 60.0735      67.81630667  41.38396667]\n",
        "[ 87.07253273  45.32055169  39.87886703]  ->  [ 86.73945917  45.32211833  38.9476525 ]\n",
        "[ 67.86955384  47.84535054  19.87336991]  ->  [ 68.41704167  48.39254167  19.69075833]\n",
        "[ 79.97299648  63.97629224  40.44189822]  ->  [ 80.258196    64.0784      40.26259467]\n",
        "[ 55.06649264  86.22938042  31.82489575]  ->  [ 55.027326  85.624762  31.838955]\n",
        "[ 78.33295863  67.26079414  16.12081295]  ->  [ 77.494815  67.522614  15.298718]\n",
        "[ 70.02962957  95.42138848  32.46290157]  ->  [ 70.285995  95.917355  32.84018 ]\n",
        "[ 80.03023467  75.8171538   38.82921032]  ->  [ 79.95236727  75.21930364  38.30140727]\n",
        "[ 58.15601652  52.23685547  28.82332008]  ->  [ 57.67056     51.39621667  29.23577   ]\n",
        "[ 78.2343729   43.16830851  31.40274404]  ->  [ 77.98112429  43.08128143  31.06658143]\n",
        "[ 63.21599224  67.98015121  31.38072343]  ->  [ 63.43145462  68.05249308  31.57709615]\n",
        "[ 74.64614625  51.98386376  46.97258473]  ->  [ 74.30424467  51.342818    47.23112067]\n",
        "[ 88.65686661  57.83873139  23.73929047]  ->  [ 88.28984091  57.30647818  24.64833909]\n",
        "[ 66.32530615  74.84304453  36.53690524]  ->  [ 66.281095    75.17769429  36.44459   ]\n",
        "[ 67.17056609  60.11627192  41.15344811]  ->  [ 67.68281   60.674235  41.25047 ]\n",
        "[ 89.4944493   86.82195026  31.85013691]  ->  [ 89.829907  87.426967  31.678759]\n",
        "[ 41.83273565  55.42278932  37.47704017]  ->  [ 42.14387077  55.85295154  37.73848077]\n",
        "[ 51.4554809   65.91878723  31.19769175]  ->  [ 51.42959083  65.1797475   30.77098167]\n",
        "[ 66.21015522  64.17673383  31.04221458]  ->  [ 66.281095  63.878155  30.637485]\n",
        "[ 62.85464388  61.09248533  17.98789653]  ->  [ 62.47644   61.355068  18.182246]\n",
        "[ 90.98768491  67.01248972  37.94786511]  ->  [ 91.48971556  67.86080556  38.18004667]\n",
        "[ 45.4351541   54.15781574  32.52465267]  ->  [ 45.495664  54.546738  32.639935]\n",
        "[ 87.83851161  78.57755139  39.4366079 ]  ->  [ 88.25343273  77.84069273  39.61210182]\n",
        "[ 77.55521389  60.5184063   19.92362018]  ->  [ 77.53015235  60.16773294  18.84658824]\n",
        "[ 67.07371099  61.63469203  23.67122505]  ->  [ 67.06667154  60.59721769  23.16680615]\n",
        "[ 59.54690783  86.27469739  28.74378383]  ->  [ 59.192422  85.905105  28.194496]\n",
        "[ 70.56671823  43.48712119  20.46611013]  ->  [ 70.245946    43.30631867  19.97110133]\n",
        "[ 71.00309187  77.2290939   30.63319391]  ->  [ 71.367318  77.494815  30.597436]\n",
        "[ 72.21858989  83.85869755  33.6052302 ]  ->  [ 72.42707615  83.76402385  33.45631846]\n",
        "[ 68.72597166  83.97374142  26.16635785]  ->  [ 69.044476  84.263096  26.232095]\n",
        "[ 49.85695297  88.53152516  38.29033776]  ->  [ 49.901054  87.907555  37.726158]\n",
        "[ 92.92982736  56.57419185  32.25046387]  ->  [ 93.28336308  56.53070385  32.19323462]\n",
        "[ 96.14536752  50.68945153  34.33355729]  ->  [ 95.74066824  50.39106529  34.34790706]\n",
        "[ 62.5801963   59.07204949  43.62617752]  ->  [ 62.51284818  59.05407091  44.27234909]\n",
        "[ 51.58006021  68.79666946  32.23470973]  ->  [ 50.86223   68.684035  32.239445]\n",
        "[ 64.99894282  83.31060167  25.81766375]  ->  [ 64.5790125  82.6010625  25.831605 ]\n",
        "[ 79.90688917  63.51748389  25.57116296]  ->  [ 79.46389083  63.04380083  26.39896583]\n",
        "[ 69.09097381  91.83053078  32.49131102]  ->  [ 69.11313143  91.88384857  32.26805143]\n",
        "[ 54.03953397  63.46243494  30.01718614]  ->  [ 53.064925  63.477665  29.436015]\n",
        "[ 85.50897689  47.52737595  28.94082548]  ->  [ 85.905105  47.498114  29.155672]\n",
        "[ 60.34314034  67.02408339  18.28186292]  ->  [ 60.674235  66.681585  18.222295]\n",
        "[ 63.07758794  55.65292729  27.89274314]  ->  [ 63.13178727  56.21423273  27.74303455]\n",
        "[ 71.55362137  44.54729169  38.12786106]  ->  [ 71.10237846  44.08470692  37.52283231]\n",
        "[ 69.88630131  90.58881359  29.77844405]  ->  [ 69.885505  90.190348  30.196946]\n",
        "[ 95.45714692  62.02708177  32.81318774]  ->  [ 95.13457909  62.00313364  32.69454727]\n",
        "[ 71.08060601  72.01894331  42.92562727]  ->  [ 70.9868525   71.35396833  43.41979083]\n",
        "[ 70.43752706  84.73322048  26.6547152 ]  ->  [ 70.7866075   83.63566167  26.66595917]\n",
        "[ 44.7568624   80.7727543   33.94241043]  ->  [ 45.08849917  81.23272167  33.5410375 ]\n",
        "[ 48.83460598  60.96772987  24.22495539]  ->  [ 49.861005  61.475215  23.829155]\n",
        "[ 94.99257011  54.59892092  38.87729912]  ->  [ 95.31662     54.33314333  38.18004667]\n",
        "[ 70.84810107  47.43677791  37.03601237]  ->  [ 70.686485  47.858555  36.84508 ]\n",
        "[ 63.50936165  46.4410621   25.25065687]  ->  [ 63.10220563  46.08138063  25.030625  ]\n",
        "[ 67.54960053  43.96605767  36.83092889]  ->  [ 67.082075  44.774782  37.085374]\n",
        "[ 73.9702464   89.21039273  24.56536353]  ->  [ 74.010552    89.28257067  24.64348467]\n",
        "[ 46.26416993  87.60061701  34.71823914]  ->  [ 46.82092182  88.32624909  34.22369091]\n",
        "[ 81.3230523   46.92262172  26.64729159]  ->  [ 81.29947  46.45684  26.43234]\n",
        "[ 80.32867628  58.01088491  16.95301175]  ->  [ 80.06159182  58.61717273  16.16523273]\n",
        "[ 70.91962685  86.69662259  39.07993525]  ->  [ 70.285995  86.666036  38.126648]\n",
        "[ 83.2540434   93.42368298  31.11604348]  ->  [ 83.101675  93.554464  31.718808]\n",
        "[ 42.84986585  61.11267293  30.91048811]  ->  [ 42.652185  60.674235  30.637485]\n",
        "[ 85.90849361  46.82990312  37.26158373]  ->  [ 86.75229538  46.42603308  37.58444615]\n",
        "[ 68.30091799  90.00379723  36.42894913]  ->  [ 68.684035  90.310495  36.244345]\n",
        "[ 87.57317603  78.25548257  28.29109414]  ->  [ 86.97914636  77.22175364  27.08768727]\n",
        "[ 63.16953811  58.4670578   25.81448578]  ->  [ 62.236146  58.151148  25.831605]\n",
        "[ 72.28374088  79.7970152   25.35235933]  ->  [ 72.328494  79.777608  25.030625]\n",
        "[ 80.30981733  59.69160846  33.51845869]  ->  [ 80.14249889  59.58401222  32.92917778]\n",
        "[ 63.28695852  74.99061733  20.62070484]"
       ]
      },
      {
       "output_type": "stream",
       "stream": "stdout",
       "text": [
        "  ->  [ 62.29844444  74.66913556  20.55848667]\n",
        "[ 70.21980942  62.1114711   38.79871096]  ->  [ 69.90370909  61.49341909  38.51985636]\n",
        "[ 67.0532315   65.19518325  23.39336149]  ->  [ 67.082075  65.880605  23.829155]\n",
        "[ 72.68182221  55.89360261  14.38759207]  ->  [ 72.688935  55.467865  14.217395]\n",
        "[ 66.7382059   48.38256493  20.89606662]  ->  [ 66.94344385  48.58251769  20.11692077]\n",
        "[ 76.13897818  46.0052866   18.60569803]  ->  [ 75.091875  46.376742  18.662834]\n",
        "[ 73.30200287  74.73552698  38.84660647]  ->  [ 73.089425  74.250846  38.527138]\n",
        "[ 55.19705179  65.16422427  28.24400721]  ->  [ 54.266395  65.480115  27.834055]\n",
        "[ 61.02445049  55.91199253  18.49041786]  ->  [ 61.074725  56.669335  19.023275]\n",
        "[ 68.64135359  71.81383204  26.64596986]  ->  [ 68.81753167  71.15372333  26.632585  ]\n",
        "[ 70.04194048  53.05771908  32.35322075]  ->  [ 70.646436  53.064925  32.119298]\n",
        "[ 43.82483416  71.88627044  43.89062151]  ->  [ 43.092724  71.847906  44.334243]\n",
        "[ 50.01272189  66.83193885  33.86538872]  ->  [ 49.88961143  66.59576571  33.92722429]\n",
        "[ 80.83485474  62.1100868   20.99436423]  ->  [ 79.98357429  62.07595     21.025725  ]\n",
        "[ 43.24547929  63.49283001  38.29098186]  ->  [ 43.48850235  63.30097824  38.44704   ]\n",
        "[ 56.53067285  46.99601369  25.80252235]  ->  [ 57.05162091  46.49324818  25.84980909]\n",
        "[ 61.96788207  61.37740021  16.92655558]  ->  [ 61.5753375  60.9746025  17.821805 ]\n",
        "[ 71.90217315  44.85628858  26.4106593 ]  ->  [ 72.688935  44.254145  25.831605]\n",
        "[ 61.84287359  56.33487327  17.08266537]  ->  [ 61.84709857  56.38327071  16.73476071]\n",
        "[ 55.88740692  81.24592682  28.78960047]  ->  [ 55.55888545  81.44510273  28.25274909]\n",
        "[ 63.89007602  60.6331476   25.34926584]  ->  [ 64.23243462  61.24416308  25.01522154]\n",
        "[ 56.46033191  79.05699025  31.8455342 ]  ->  [ 56.268845  79.617412  31.879004]\n",
        "[ 55.4797431   68.12614423  28.02748989]  ->  [ 54.99035769  67.65200308  27.41816154]\n",
        "[ 78.83161963  39.5797458   37.10937103]  ->  [ 78.656236  39.408216  37.285619]\n",
        "[ 79.45302158  68.88925768  34.74211793]  ->  [ 79.62469364  69.86730091  34.22369091]\n",
        "[ 54.63851196  66.82957351  36.08812999]  ->  [ 55.467865    66.76740429  36.84508   ]\n",
        "[ 55.40403119  52.71392214  30.86583884]  ->  [ 55.107424  52.86468   31.518563]\n",
        "[ 64.80356028  91.70372183  29.84782995]  ->  [ 64.959478  91.111475  30.277044]\n",
        "[ 73.6464455   39.69355116  31.42882071]  ->  [ 73.42316667  39.58176167  31.57196167]\n",
        "[ 89.22007615  59.44335473  22.48659462]  ->  [ 89.27846308  59.02606462  21.96533615]\n",
        "[ 48.40558593  73.84292348  24.50972985]  ->  [ 49.981152  73.930454  24.630135]\n",
        "[ 69.56726395  50.53024649  38.98540932]  ->  [ 70.08575   50.661985  39.047775]\n",
        "[ 63.87589818  84.77941524  32.94028893]  ->  [ 63.74465833  84.67026083  33.3407925 ]\n",
        "[ 89.49609379  61.34981439  24.60604085]  ->  [ 90.04863615  61.52142538  24.73795923]\n",
        "[ 77.09229688  67.74610224  17.73638948]  ->  [ 76.84401875  67.70784063  18.29738688]\n",
        "[ 89.87219487  46.92466356  37.13695095]  ->  [ 89.509515  47.498114  37.165472]\n",
        "[ 48.99515215  55.49016443  26.93896946]  ->  [ 49.19865615  55.51407538  27.20251308]\n",
        "[ 69.7168357   91.29040289  30.62219258]  ->  [ 69.90775444  91.17822333  30.25924444]\n",
        "[ 59.99856609  57.23316669  32.59789201]  ->  [ 60.00675167  58.1711725   32.67330917]\n",
        "[ 90.58176054  61.49198566  36.95488159]  ->  [ 91.13372444  61.80895667  36.66708444]\n",
        "[ 81.46786293  85.09714604  31.67155514]  ->  [ 80.63198667  84.2030225   32.80680583]\n",
        "[ 49.90300258  61.09632719  21.57474174]  ->  [ 50.57616571  61.074725    21.62646   ]\n",
        "[ 37.25478312  73.51586216  43.91692907]  ->  [ 38.44704  74.09065  43.25292]\n",
        "[ 83.46065128  47.04748131  27.34045504]  ->  [ 83.502165  47.057575  26.632585]\n",
        "[ 55.07920169  68.14339142  21.02883848]  ->  [ 55.66811   67.883055  21.22597 ]\n",
        "[ 40.37446383  61.12410125  33.98635606]  ->  [ 41.050225    60.14024833  33.90815333]\n",
        "[ 58.02393243  53.45416242  39.87442781]  ->  [ 57.45211091  53.73847636  39.79414273]\n",
        "[ 90.97027182  50.21803774  31.90624332]  ->  [ 90.66092375  50.13634187  32.01416938]\n",
        "[ 39.38263402  71.12165701  30.77196967]  ->  [ 39.167922  71.086975  31.398416]\n",
        "[ 55.8684372   58.8354402   46.21684532]  ->  [ 55.828306  59.472765  46.176497]\n",
        "[ 57.28538013  75.15663646  37.82143209]  ->  [ 57.80405667  74.71363444  37.42356556]\n",
        "[ 44.17916469  85.07201022  40.0708054 ]  ->  [ 44.30035538  84.87307308  40.38787615]\n",
        "[ 81.65585717  90.72006459  32.8805616 ]  ->  [ 81.97722231  91.21929923  33.30228385]\n",
        "[ 82.59396115  78.13518846  33.46230037]  ->  [ 82.300695  78.295795  34.241895]\n",
        "[ 61.90374701  40.89171649  33.19113795]  ->  [ 62.13756385  40.20303462  33.36389769]\n",
        "[ 44.21649547  78.26273929  35.92900439]  ->  [ 44.22077083  78.42929167  35.3432425 ]\n",
        "[ 80.5697956   54.28391429  20.33139134]  ->  [ 81.08382154  54.58986769  19.59320308]\n",
        "[ 82.97829054  89.11360979  27.36420452]  ->  [ 83.101675  89.549564  27.954202]\n",
        "[ 46.51838327  60.20955319  38.68425818]  ->  [ 45.856105  59.753108  39.007726]\n",
        "[ 82.12432638  87.92662381  29.16851773]  ->  [ 82.18626929  88.39386429  29.77929214]\n",
        "[ 89.98465609  52.70884387  26.6196665 ]  ->  [ 89.910005    53.57984071  26.77561714]\n",
        "[ 76.48476022  88.96494222  37.42281672]  ->  [ 76.38679267  88.588388    36.89847867]\n",
        "[ 85.50745529  82.1205607   38.26081129]  ->  [ 85.905105  82.300695  38.246795]\n",
        "[ 76.51275241  71.33779994  24.23270557]  ->  [ 76.49359     71.487465    24.71595429]\n",
        "[ 54.6389953   81.38678238  22.62599371]  ->  [ 55.15839545  81.40869455  23.00997091]\n",
        "[ 78.72479545  49.33806122  40.63542687]  ->  [ 77.91350909  49.07822909  40.41308182]\n",
        "[ 52.24783772  53.2053928   37.37209066]  ->  [ 51.77763571  53.32238286  37.58884714]\n",
        "[ 45.4351541   54.15781574  32.52465267]  ->  [ 44.98837667  53.79915667  32.639935  ]\n",
        "[ 84.62149229  68.3290922   34.99256279]  ->  [ 83.92085909  68.26534091  34.87903818]\n",
        "[ 73.72897214  58.93614598  38.64153657]  ->  [ 74.16574188  58.04601938  38.67231563]\n",
        "[ 51.36451655  46.1534938   36.46820355]  ->  [ 51.26272     46.72383333  35.91060333]\n",
        "[ 69.87169601  41.47233591  46.52013792]  ->  [ 69.34638385  41.80499462  46.48764692]\n",
        "[ 59.38692423  42.4165243   40.15209881]  ->  [ 58.992177  41.891254  40.089049]\n",
        "[ 47.3980977   57.3031625   28.36532703]  ->  [ 46.82395583  57.43694083  28.66840917]\n",
        "[ 86.79218961  77.08393348  25.65651787]  ->  [ 86.57865636  77.03971273  25.37650273]\n",
        "[ 76.24383783  69.91168859  42.17295257]  ->  [ 75.892855  69.68526   41.450715]\n",
        "[ 67.17494338  64.26393708  16.67116802]  ->  [ 66.74833333  63.81140667  16.620335  ]\n",
        "[ 84.39825415  58.04377037  23.8520109 ]  ->  [ 83.902655  58.671785  23.829155]\n",
        "[ 60.2685018   57.54059698  35.06946526]  ->  [ 60.29599444  58.24904556  34.70913333]\n",
        "[ 74.82221215  79.41849034  40.28709233]  ->  [ 74.67318091  79.07857091  40.01259182]\n",
        "[ 78.81058417  58.34712764  37.15435302]  ->  [ 79.41144571  58.01383714  36.61622857]\n",
        "[ 59.06306395  67.95935401  32.04070406]  ->  [ 59.67301   67.482565  31.838955]\n",
        "[ 61.51310197  79.04082185  31.84997035]  ->  [ 62.22998462  78.92733692  31.29983385]\n",
        "[ 87.16467125  55.0466559   27.6294294 ]  ->  [ 87.6071875   55.00062667  27.60043583]\n",
        "[ 92.65077108  68.2801608   39.91479042]  ->  [ 91.87908083  68.31691917  39.68188417]\n",
        "[ 73.53155884  72.64144589  36.90149927]  ->  [ 73.890405    72.22169667  37.57931167]\n",
        "[ 53.61771717  83.00931017  38.60760742]  ->  [ 53.064925  83.70241   37.64606 ]\n",
        "[ 83.865702    73.19531695  25.45794775]  ->  [ 83.92085909  72.27024091  24.35707364]\n",
        "[ 43.64258349  66.74939509  31.72285422]  ->  [ 43.453165  66.88183   31.438465]\n",
        "[ 82.44542713  49.66595952  35.81183258]  ->  [ 81.900205  49.66076   36.0441  ]\n",
        "[ 68.31512139  70.95947709  36.07827104]  ->  [ 68.59821571  70.08575     35.843855  ]\n",
        "[ 53.12213577  75.22153849  43.52888689]  ->  [ 52.0637      75.051826    43.54661267]\n",
        "[ 84.71677661  64.94236511  31.50653081]  ->  [ 84.703635  64.87938   31.63871 ]\n",
        "[ 66.90842812  50.69655911  28.51939447]  ->  [ 65.85199857  50.60477214  29.32158929]\n",
        "[ 74.39394306  42.5912446   27.79668849]  ->  [ 74.64132375  42.30175625  28.43479   ]\n",
        "[ 74.74096704  57.04021899  36.19669808]  ->  [ 74.330944  56.949678  36.644835]\n",
        "[ 66.42227411  79.06868519  39.1246892 ]  ->  [ 66.10440824  78.82585529  39.55427706]\n",
        "[ 41.19015688  62.2046478   36.46671076]  ->  [ 40.69979625  62.07595     35.49342625]\n",
        "[ 64.84752577  47.05697262  31.95160194]  ->  [ 64.47889     47.858555    32.32526429]\n",
        "[ 77.35596538  50.36024302  32.65603207]  ->  [ 77.11657444  50.32824333  32.66218444]\n",
        "[ 67.34045427  47.49092915  23.65562632]  ->  [ 67.50076909  47.14859545  23.04637909]\n",
        "[ 34.44538936  65.041056    49.64566644]  ->  [ 35.002826  65.079625  48.939878]\n",
        "[ 74.72779101  71.08287858  33.8490257 ]  ->  [ 73.890405  70.646436  32.519788]"
       ]
      },
      {
       "output_type": "stream",
       "stream": "stdout",
       "text": [
        "\n",
        "[ 72.23138164  67.26660138  29.96660605]  ->  [ 71.887955  66.681585  29.436015]\n",
        "[ 78.40439707  45.84139109  27.7339977 ]  ->  [ 78.12415643  45.77028571  28.20593857]\n",
        "[ 70.18621366  54.60691907  23.497485  ]  ->  [ 70.11655692  54.71309538  23.96778615]\n",
        "[ 45.79576533  62.98407084  44.33647397]  ->  [ 45.175272  62.636636  43.453165]\n",
        "[ 80.04791143  67.92101436  27.69148635]  ->  [ 80.75334727  67.60999364  27.85225909]\n",
        "[ 80.14750978  78.54660197  27.3552639 ]  ->  [ 79.897755    78.38161429  28.0343    ]\n",
        "[ 77.44305088  53.06330375  45.45317568]  ->  [ 78.28039154  52.61822462  44.45439   ]\n",
        "[ 51.67944392  52.24460261  28.10314982]  ->  [ 51.60159615  52.21773462  27.26412692]\n",
        "[ 58.40465103  84.68349694  36.85208982]  ->  [ 58.831981  84.50339   37.085374]\n",
        "[ 74.10586722  95.50901831  40.57180818]  ->  [ 73.489915  95.116375  41.050225]\n",
        "[ 79.449202    83.53562818  26.51425906]  ->  [ 79.80673455  83.15628727  26.86923818]\n",
        "[ 62.2810572   47.29536069  23.79041652]  ->  [ 61.835656  47.337918  23.028175]\n",
        "[ 41.41455593  78.79709052  39.19979822]  ->  [ 41.65096  78.49604  38.84753]\n",
        "[ 70.85357603  73.37645576  39.83294935]  ->  [ 70.806632  73.850356  39.848755]\n",
        "[ 73.18104441  62.13475309  38.46852297]  ->  [ 72.48869   61.475215  38.246795]\n",
        "[ 67.91567737  43.5177009   24.28921671]  ->  [ 68.19772571  43.82504857  24.94480571]\n",
        "[ 80.99147862  47.38840326  27.64945718]  ->  [ 80.89898   46.85733   27.473614]\n",
        "[ 90.32170037  42.43178158  38.88606971]  ->  [ 90.56080125  43.30298125  39.24802   ]\n",
        "[ 55.88400496  52.00055859  18.29665738]  ->  [ 55.868355  52.263945  17.821805]\n",
        "[ 58.34079844  53.01376881  46.6992625 ]  ->  [ 57.67056   53.064925  46.256595]\n",
        "[ 88.97383041  73.91021897  35.60850174]  ->  [ 87.92575909  74.05424182  35.86205909]\n",
        "[ 82.56148621  49.20484842  34.59665222]  ->  [ 82.76793333  48.45929     33.90815333]\n",
        "[ 46.78269381  61.10951813  26.00964035]  ->  [ 46.68211563  61.67546     26.35724813]\n",
        "[ 63.70429429  84.95989706  35.42472497]  ->  [ 63.52772625  85.30437     34.99281375]\n",
        "[ 61.81212255  40.86120667  25.53344477]  ->  [ 61.92191538  40.26464846  26.03185   ]\n",
        "[ 76.12892318  58.72575684  19.83278139]  ->  [ 76.413492  59.432716  20.665284]\n",
        "[ 54.61226617  54.56659887  31.76116073]  ->  [ 54.77813222  54.91162889  31.37171667]\n",
        "[ 42.4561535   85.86775636  35.57730866]  ->  [ 43.00261375  86.0052275   35.99403875]\n",
        "[ 50.08120081  67.85906976  43.89717968]  ->  [ 49.62435182  67.97407545  43.79904273]\n",
        "[ 70.63708123  69.8910563   43.01548111]  ->  [ 69.68526     69.04918765  43.84187588]\n",
        "[ 39.82649955  65.62410397  34.26981427]  ->  [ 40.049     65.880605  33.64116 ]\n",
        "[ 58.26316993  43.93619562  31.56101265]  ->  [ 58.7719075   44.22077083  31.57196167]\n",
        "[ 87.44458497  70.48585743  35.40509062]  ->  [ 86.706085    69.85213083  35.61023583]\n",
        "[ 86.81585683  46.81809777  47.90364734]  ->  [ 86.706085  47.057575  47.858555]\n",
        "[ 58.34079844  53.01376881  46.6992625 ]  ->  [ 58.711834  53.104974  46.296644]\n",
        "[ 64.19420775  65.40662751  32.14553549]  ->  [ 64.0784   66.08085  32.0392 ]\n",
        "[ 43.87571968  71.05079129  31.48072083]  ->  [ 43.853655  70.88673   30.83773 ]\n",
        "[ 88.87175813  42.68572365  39.42317951]  ->  [ 89.70976  42.85243  39.64851]\n",
        "[ 49.91606279  75.28414448  34.20895409]  ->  [ 50.46174   76.0931    34.241895]\n",
        "[ 45.40362363  78.84823007  42.41547254]  ->  [ 45.65586     78.255746    42.55873733]\n",
        "[ 68.01474936  92.71898567  32.57092854]  ->  [ 68.99107733  92.753484    32.46638933]\n",
        "[ 47.70513415  70.6516254   36.95086102]  ->  [ 47.87675909  70.66828091  36.88148818]\n",
        "[ 58.78474645  72.65286282  42.62065592]  ->  [ 58.87203     72.688935    42.56636571]\n",
        "[ 63.2268117   79.07835921  22.24193997]  ->  [ 62.87693   80.098     23.028175]\n",
        "[ 39.63620261  66.12242466  47.87633944]  ->  [ 40.18249667  66.08085     48.32579333]\n",
        "[ 58.29274519  59.16043559  37.2386122 ]  ->  [ 57.85260091  59.23611182  37.46401909]\n",
        "[ 65.45360303  50.07200924  28.53647026]  ->  [ 65.86630179  50.5618625   28.32036429]\n",
        "[ 93.52662684  74.92944463  33.71833151]  ->  [ 93.31417   74.09065   32.639935]\n",
        "[ 66.47082254  74.03704417  16.64284646]  ->  [ 66.88183   73.890405  16.620335]\n",
        "[ 85.21420548  55.89119388  35.6047948 ]  ->  [ 85.27933938  55.3677425   36.16925313]\n",
        "[ 56.25474332  45.94445838  30.26361818]  ->  [ 56.669335    45.98960167  30.30374333]\n",
        "[ 77.51973299  88.29342773  36.58493282]  ->  [ 77.454766  88.708535  36.364492]\n",
        "[ 36.65800015  70.06602418  41.2174008 ]  ->  [ 37.09993727  69.24836182  40.99561273]\n",
        "[ 45.07804319  52.66535098  32.63092292]  ->  [ 45.015076  52.664435  32.119298]\n",
        "[ 88.20567091  49.73512818  63.72688365]  ->  [ 89.78677731  48.81356962  61.96812577]\n",
        "[ 71.77332098  66.69341666  26.34642462]  ->  [ 72.22169667  66.9819525   26.86620417]\n",
        "[ 45.0647038   79.74140274  49.18511254]  ->  [ 44.42769067  79.51061467  48.939878  ]\n",
        "[ 65.88664066  78.56501831  37.8345438 ]  ->  [ 65.63586111  78.38479278  38.04655   ]\n",
        "[ 96.03242442  60.97225809  30.02292147]  ->  [ 96.718335  61.475215  29.836505]\n",
        "[ 92.45126421  78.16897388  37.45690783]  ->  [ 92.80243278  78.85203111  37.24557   ]\n",
        "[ 50.31550786  52.37977724  39.45972653]  ->  [ 50.22812083  51.72995833  39.5483875 ]\n",
        "[ 66.88309261  67.88869659  36.41120073]  ->  [ 67.05982556  67.54931333  36.66708444]\n",
        "[ 39.82649955  65.62410397  34.26981427]  ->  [ 39.64851     65.94735333  34.17514667]\n",
        "[ 45.24153144  61.84531079  43.09244399]  ->  [ 45.12187333  61.40846667  42.87912933]\n",
        "[ 88.16544281  81.54757977  31.41499533]  ->  [ 87.507065    81.29947     31.35264571]\n",
        "[ 68.70545246  44.76495264  25.30216905]  ->  [ 68.7841575  44.45439    24.7302575]\n",
        "[ 90.23324527  69.57715223  28.87427726]  ->  [ 89.85539273  69.43040273  28.10711636]\n",
        "[ 89.09651186  41.57499663  40.12370002]  ->  [ 88.588388  41.410666  39.448265]\n",
        "[ 47.07192527  47.69742069  39.91174509]  ->  [ 47.057575  47.818506  39.167922]\n",
        "[ 73.39971316  93.82978007  33.2407069 ]  ->  [ 73.489915  93.514415  33.440915]\n",
        "[ 46.59063701  52.58012072  29.42864719]  ->  [ 46.697134  52.263945  28.755182]\n",
        "[ 49.30806202  79.46542018  37.47374213]  ->  [ 49.63215357  79.52587143  37.33138929]\n",
        "[ 39.63620261  66.12242466  47.87633944]  ->  [ 40.44949     67.14882333  48.19229667]\n",
        "[ 51.58006021  68.79666946  32.23470973]  ->  [ 51.422916  68.243496  32.119298]\n",
        "[ 39.63620261  66.12242466  47.87633944]  ->  [ 40.7498575  66.48134    47.9586775]\n",
        "[ 82.64726659  54.7732614   34.93884236]  ->  [ 82.31889909  54.83072182  35.02467091]\n",
        "[ 69.40378757  49.51349633  39.23189764]  ->  [ 70.48624   49.861005  39.047775]\n",
        "[ 36.60176899  78.15366959  40.42994398]  ->  [ 36.284394  77.775158  40.249245]\n",
        "[ 60.46017854  56.25029045  43.3661887 ]  ->  [ 60.79938813  56.19375313  43.80359375]\n",
        "[ 78.81058417  58.34712764  37.15435302]  ->  [ 79.497265  58.47154   37.24557 ]\n",
        "[ 69.97217406  81.51397824  35.83631318]  ->  [ 70.30824444  81.83345667  35.86610444]\n",
        "[ 47.29099783  77.40938231  42.17358605]  ->  [ 47.03532556  77.87305556  41.91795333]\n",
        "[ 48.28131837  87.02766017  36.05031602]  ->  [ 48.138898    86.826232    35.51011333]\n",
        "[ 45.18406486  69.16792019  27.91506897]  ->  [ 44.694684  69.084525  28.114398]\n",
        "[ 59.06025579  53.27462416  18.87542788]  ->  [ 59.30332692  53.32678385  18.97706462]\n",
        "[ 36.48966868  67.86296635  37.79367816]  ->  [ 35.82565091  67.82844273  38.37422364]\n",
        "[ 66.01190795  44.30730105  36.84093702]  ->  [ 66.26931588  44.03034176  36.51526471]\n",
        "[ 77.76263498  39.42753546  38.00009414]  ->  [ 77.094325  39.848755  37.045325]\n",
        "[ 61.65472529  81.10276234  20.06241639]  ->  [ 61.89390909  81.48151091  20.35217364]\n",
        "[ 65.07534992  93.78558639  33.36593199]  ->  [ 65.09782909  93.35057818  34.22369091]\n",
        "[ 41.63972331  67.49470806  45.61110249]  ->  [ 41.170372  67.042026  45.856105]\n",
        "[ 44.65196714  70.29313128  39.83240462]  ->  [ 44.19953273  70.23138273  40.41308182]\n",
        "[ 49.40139518  79.4116066   42.39073358]  ->  [ 49.060025  79.096775  41.851205]\n",
        "[ 75.48234996  77.03878923  36.99983437]  ->  [ 75.35886833  77.02757667  36.644835  ]\n",
        "[ 51.58006021  68.79666946  32.23470973]  ->  [ 51.66321   69.28477   32.239445]\n",
        "[ 96.79224226  52.78114749  34.59314202]  ->  [ 97.18557333  52.7645575   34.40876583]\n",
        "[ 63.4523226   58.88632684  34.97289095]  ->  [ 63.16299429  57.870805    35.64361   ]\n",
        "[ 36.65058082  73.24083302  44.85739313]  ->  [ 37.045325   73.5900375  44.7547575]\n",
        "[ 97.61874072  68.96208795  38.22304784]  ->  [ 98.30489154  68.42217615  38.75510923]\n",
        "[ 61.82129598  50.64012892  41.66205214]  ->  [ 62.10455643  51.03386857  41.76538571]\n",
        "[ 72.04613422  85.0861097   28.06847546]  ->  [ 73.089425  85.504615  27.433565]\n",
        "[ 65.21915328  42.28564272  28.40623009]  ->  [ 65.880605  42.05145   28.234545]\n",
        "[ 78.74914913  40.72636461  36.02668587]  ->  [ 78.24958462  40.88078692  36.78346615]"
       ]
      },
      {
       "output_type": "stream",
       "stream": "stdout",
       "text": [
        "\n",
        "[ 59.03158406  45.8320841   38.39809388]  ->  [ 59.94000333  46.256595    38.18004667]\n",
        "[ 77.17154869  59.23335777  14.64105022]  ->  [ 76.5937125   59.63963583  14.68463333]\n",
        "[ 63.5791661   52.50939977  25.90673929]  ->  [ 63.49991444  52.37519222  26.69933333]\n",
        "[ 68.81618439  59.39715657  22.16043261]  ->  [ 68.70223909  59.41815273  22.20899091]\n",
        "[ 83.42330939  59.1468977   20.63175762]  ->  [ 83.0015525   58.93877833  20.65860917]\n",
        "[ 53.01708797  72.88111602  24.6318244 ]  ->  [ 53.08312909  73.07122091  24.35707364]\n",
        "[ 60.43885567  87.34911782  29.86014689]  ->  [ 61.30000063  87.03148313  29.7363825 ]\n",
        "[ 67.70694201  54.64894738  18.98430301]  ->  [ 67.883055  54.787032  18.983226]\n",
        "[ 66.91452767  41.66040874  27.77649122]  ->  [ 67.46716154  41.74338077  27.72623077]\n",
        "[ 78.60768934  66.37833901  32.32098256]  ->  [ 78.58503778  66.681585    33.06267444]\n",
        "[ 75.93538076  55.37776727  47.76006472]  ->  [ 75.051826  55.547963  47.458065]\n",
        "[ 42.32322172  72.75791858  33.10925128]  ->  [ 42.251695  72.288445  33.841405]\n",
        "[ 80.26702166  60.27845924  34.53469076]  ->  [ 80.098       60.68963846  34.68859538]\n",
        "[ 71.08479535  72.55195353  40.3125937 ]  ->  [ 70.99595455  72.37946545  40.049     ]\n",
        "[ 78.30308279  54.54424919  48.42473288]  ->  [ 78.52684692  53.91211538  47.71992385]\n",
        "[ 44.10624661  75.3552753   46.65119863]  ->  [ 44.334243  74.531189  46.336693]\n",
        "[ 50.00990179  68.34476646  48.55526737]  ->  [ 49.49388917  68.15004833  48.09217417]\n",
        "[ 76.74127091  55.58513033  20.62804335]  ->  [ 76.60483722  57.24782056  20.58073611]\n",
        "[ 76.55926226  91.92883421  30.62909217]  ->  [ 76.23613214  92.45597714  30.78051714]\n",
        "[ 85.15345233  63.91049892  32.01856706]  ->  [ 84.743684  64.198547  31.879004]\n",
        "[ 93.45539748  80.56584155  33.18698079]  ->  [ 92.74680917  80.33161917  33.67453417]\n",
        "[ 62.25951948  51.29615149  33.1633724 ]  ->  [ 61.89795444  51.04022556  32.30619333]\n",
        "[ 41.22384043  81.89444346  46.37019205]  ->  [ 40.84998     81.23272167  46.18984667]\n",
        "[ 43.93341571  74.67808754  44.39021443]  ->  [ 44.45439    74.49114    45.5557375]\n",
        "[ 80.69881406  43.25110964  30.95572992]  ->  [ 80.698735  42.652185  30.637485]\n",
        "[ 69.82796109  65.56427966  24.56062936]  ->  [ 69.79968571  65.68036     24.229645  ]\n",
        "[ 92.83446683  81.07025368  35.83368846]  ->  [ 92.44251529  80.75763059  35.64361   ]\n",
        "[ 63.49424231  68.98795984  41.03498691]  ->  [ 63.53487786  69.17034429  41.851205  ]\n",
        "[ 66.856221    79.36852363  35.08613256]  ->  [ 66.23488462  79.26621308  35.70522385]\n",
        "[ 47.73212099  55.42999967  40.22454633]  ->  [ 48.13161636  55.88655909  40.70434727]\n",
        "[ 51.07748118  57.26341164  36.2004148 ]  ->  [ 50.72873333  56.69158444  37.02307556]\n",
        "[ 73.82269818  60.61478913  39.02453551]  ->  [ 73.3897925   60.54073833  38.41366583]\n",
        "[ 58.16469693  43.82673877  42.46319345]  ->  [ 59.15809429  43.853655    42.85243   ]\n",
        "[ 70.31744937  96.83632915  36.63359542]  ->  [ 70.52264818  96.33604909  35.86205909]\n",
        "[ 84.30827745  66.10299985  33.59912021]  ->  [ 84.303145   67.28232    33.7412825]\n",
        "[ 43.96768441  77.86568226  46.81948881]  ->  [ 43.813606  77.895305  47.337918]\n",
        "[ 72.25571089  48.88336126  43.0551781 ]  ->  [ 72.14981385  49.01381462  43.28372692]\n",
        "[ 84.80573821  64.2911731   30.55167074]  ->  [ 84.75369625  63.9782775   30.88779125]\n",
        "[ 93.18662957  60.03475325  33.42987065]  ->  [ 94.11515     60.233696    33.53436267]\n",
        "[ 40.60161033  65.44157074  47.76675043]  ->  [ 41.03687533  64.87938     47.498114  ]\n",
        "[ 59.51173843  72.98002391  34.51424788]  ->  [ 59.753108  73.449866  34.642385]\n",
        "[ 77.34335487  99.3273775   41.44247544]  ->  [ 77.55202786  99.121275    41.050225  ]\n",
        "[ 70.2148676   51.53263852  38.72947456]  ->  [ 69.50321909  52.31855727  38.92034636]\n",
        "[ 59.11572635  86.04138353  26.83436416]  ->  [ 59.512814  85.905105  27.313418]\n",
        "[ 44.42052893  59.38132434  46.28453873]  ->  [ 44.22077083  59.472765    46.22322083]\n",
        "[ 44.65118967  86.88515686  43.68329206]  ->  [ 44.534488  86.746134  43.052675]\n",
        "[ 60.9190117   88.13031783  41.50268864]  ->  [ 60.14024833  87.70731     41.450715  ]\n",
        "[ 51.4903499   46.8877857   37.68375135]  ->  [ 51.062475  46.85733   37.24557 ]\n",
        "[ 55.86944639  83.05097011  34.81609829]  ->  [ 55.868355  83.462116  35.723708]\n",
        "[ 43.06682186  70.31604846  43.86289885]  ->  [ 43.03447091  71.21440364  43.76263455]\n",
        "[ 76.33669452  68.40024227  19.13592028]  ->  [ 76.33955538  68.91508692  19.40836154]\n",
        "[ 81.99636331  40.71954073  42.51206946]  ->  [ 81.459666  41.050225  42.532038]\n",
        "[ 82.47213857  56.86919116  40.66257291]  ->  [ 81.659911  56.789482  40.649735]\n",
        "[ 55.56170571  54.34628477  31.11649494]  ->  [ 55.66811   54.666885  31.438465]\n",
        "[ 57.31177748  52.72734125  20.32346679]  ->  [ 56.86958     52.73952688  20.50008187]\n",
        "[ 46.16740418  73.67805653  43.75703424]  ->  [ 46.657085  73.489915  43.453165]\n",
        "[ 72.77853039  55.005772    40.08252431]  ->  [ 71.95470333  54.19964667  39.848755  ]\n",
        "[ 73.42311041  73.41423662  16.2856157 ]  ->  [ 73.089425  73.890405  16.620335]\n",
        "[ 35.2228277   70.67252737  41.18908354]  ->  [ 34.67099143  70.88673     41.56514071]\n",
        "[ 52.11732317  85.05169424  42.27314364]  ->  [ 52.58741769  84.59581077  41.52773231]\n",
        "[ 35.97163648  78.13386874  51.93497941]  ->  [ 35.98248615  77.51021846  51.87885846]\n",
        "[ 84.74518189  88.6719358   35.08709271]  ->  [ 84.90388     88.79435429  35.12869429]\n",
        "[ 62.22051638  66.16599585  24.97984086]  ->  [ 62.636636  65.880605  25.150772]\n",
        "[ 52.42389093  43.27284849  31.90045996]  ->  [ 52.31855727  42.99806273  31.96638364]\n",
        "[ 40.65027823  76.98275345  39.35856726]  ->  [ 40.59512273  77.73146818  39.50287727]\n",
        "[ 63.25122705  89.14571178  26.62324909]  ->  [ 63.758008  88.027702  26.752732]\n",
        "[ 73.91481416  49.23723425  20.49397622]  ->  [ 73.84419462  49.07542846  20.54821769]\n",
        "[ 69.1082521   46.92082545  35.11670625]  ->  [ 69.084525  46.617036  35.563512]\n",
        "[ 57.3904715   74.47895683  32.36063663]  ->  [ 57.470315  74.691385  31.838955]\n",
        "[ 82.19787251  77.52273485  34.56710118]  ->  [ 82.23394667  77.42806667  34.241895  ]\n",
        "[ 48.07286303  65.34178077  25.8534583 ]  ->  [ 48.62616083  64.7792575   25.96510167]\n",
        "[ 71.25387899  57.44219099  27.84647063]  ->  [ 71.56255687  58.12111125  28.1344225 ]\n",
        "[ 73.92004281  54.03506873  38.32680667]  ->  [ 73.46766556  54.24414556  37.77955667]\n",
        "[ 81.50256645  56.73296126  19.68482904]  ->  [ 81.46634083  56.9697025   18.88977833]\n",
        "[ 38.97855182  74.01595368  43.87919366]  ->  [ 38.687334  74.691385  43.733508]\n",
        "[ 51.54148347  64.37180601  21.11354601]  ->  [ 51.863455  64.0784    21.546362]\n",
        "[ 71.68343656  69.06978691  28.94080268]  ->  [ 72.248396  69.204672  28.234545]\n",
        "[ 79.92092488  52.46993504  20.71423819]  ->  [ 79.04216273  51.95447545  20.97111273]\n",
        "[ 87.38160315  64.08817375  25.43268163]  ->  [ 87.43004769  64.26324154  25.66216692]\n",
        "[ 78.46527934  63.93194899  34.18145974]  ->  [ 78.20234733  64.238596    34.04165   ]\n",
        "[ 81.78418446  57.44254353  31.23642727]  ->  [ 81.34953125  57.19497812  31.3383425 ]\n",
        "[ 72.69779451  65.72276668  26.4853352 ]  ->  [ 72.88918     65.96642429  25.831605  ]\n",
        "[ 86.62718553  71.58413273  24.16556895]  ->  [ 86.50584   71.487465  24.229645]\n",
        "[ 88.18564175  70.23762711  27.61307744]  ->  [ 88.588388    69.87215533  27.20662067]\n",
        "[ 42.50179369  70.83947044  26.61883688]  ->  [ 42.612136  71.086975  26.752732]\n",
        "[ 74.89307391  47.46133879  22.79814843]  ->  [ 73.890405  47.458065  22.627685]\n",
        "[ 38.33353687  76.04680347  47.07717237]  ->  [ 38.16097571  76.20752571  47.08618143]\n",
        "[ 40.50917914  81.53112787  49.15948026]  ->  [ 39.848755  81.539764  49.740858]\n",
        "[ 53.35704878  63.8122541   21.54598935]  ->  [ 52.904729  64.238596  21.786656]\n",
        "[ 56.94341967  70.63012623  19.28910887]  ->  [ 56.9697025   70.43617875  19.87431625]\n",
        "[ 55.74923506  56.62247046  26.9034323 ]  ->  [ 56.13021385  56.71554538  26.80202308]\n",
        "[ 53.8283342   90.59854709  44.07213065]  ->  [ 53.48361909  91.38453636  44.67283909]\n",
        "[ 55.55359424  71.48190548  19.84218467]  ->  [ 55.35343929  71.74492286  19.22352   ]\n",
        "[ 56.3184794   54.97083299  23.2795673 ]  ->  [ 56.148698  55.427816  23.028175]\n",
        "[ 74.15693593  88.18596274  28.61597818]  ->  [ 74.02390167  88.64178667  29.23577   ]\n",
        "[ 53.61771717  83.00931017  38.60760742]  ->  [ 53.26517   83.502165  38.84753 ]\n",
        "[ 77.22634436  95.21232199  34.72644523]  ->  [ 77.42806667  94.715885    34.57563667]\n",
        "[ 85.51058147  55.17556077  47.98608379]  ->  [ 85.48641091  54.68508909  48.09520818]\n",
        "[ 53.97816333  77.92515561  31.35916862]  ->  [ 54.266395  77.895305  31.838955]\n",
        "[ 89.86899997  78.55952368  29.96640655]  ->  [ 89.629662  78.295795  29.476064]\n",
        "[ 43.39961323  74.99774144  47.26713967]  ->  [ 43.333018  75.091875  47.097624]\n",
        "[ 55.73333434  61.89028506  32.9549498 ]  ->  [ 56.268845  62.636636  33.160572]\n",
        "[ 83.35874049  51.65238078  39.90255585]"
       ]
      },
      {
       "output_type": "stream",
       "stream": "stdout",
       "text": [
        "  ->  [ 83.24470714  51.60599714  40.67834143]\n",
        "[ 77.7702267   48.71987004  40.55178667]  ->  [ 77.40136733  48.218996    41.25047   ]\n",
        "[ 79.10422545  93.10277501  35.23749963]  ->  [ 78.44597875  93.96496625  35.1429975 ]\n",
        "[ 57.39231007  62.65769974  17.40998354]  ->  [ 57.870805  62.156048  17.381266]\n",
        "[ 69.48041113  65.78144048  33.81849787]  ->  [ 68.71740917  65.61361167  33.9415275 ]\n",
        "[ 93.14790089  75.92266944  36.37242565]  ->  [ 93.62223923  75.90825846  35.95167923]\n",
        "[ 77.65154006  68.89858568  19.85233447]  ->  [ 77.11252909  69.72166818  21.04392909]\n",
        "[ 53.61771717  83.00931017  38.60760742]  ->  [ 52.46419   83.70241   38.246795]\n",
        "[ 82.97947166  42.89756359  39.07064629]  ->  [ 83.13504917  42.61881083  39.047775  ]\n",
        "[ 50.23127399  47.31647703  36.49562245]  ->  [ 49.460515   46.9574525  36.1442225]\n",
        "[ 46.03034275  57.82421439  28.91645302]  ->  [ 46.617036  58.07105   27.954202]\n",
        "[ 79.71519883  41.7148152   34.97216886]  ->  [ 79.44265273  42.59757273  34.76981364]\n",
        "[ 40.37760976  72.3280088   35.32393295]  ->  [ 40.689784  72.288445  34.121748]\n",
        "[ 83.20293362  77.25460202  32.95381458]  ->  [ 83.56891333  77.69506     33.77465667]\n",
        "[ 44.20027429  71.05311325  29.50288339]  ->  [ 44.48108933  71.10032467  28.915378  ]\n",
        "[ 51.36451655  46.1534938   36.46820355]  ->  [ 51.062475  46.45684   36.644835]\n",
        "[ 57.48528017  39.72249625  40.4633992 ]  ->  [ 57.470315  40.249245  40.84998 ]\n",
        "[ 83.65111631  47.43406722  43.74475721]  ->  [ 83.502165  47.097624  43.733508]\n",
        "[ 74.71975928  69.59394734  45.31107786]  ->  [ 74.67318091  69.86730091  46.01994182]\n",
        "[ 64.67367757  56.46574074  46.86004818]  ->  [ 64.62452273  56.32345727  47.18500364]\n",
        "[ 70.49474804  54.66576652  17.72220503]  ->  [ 71.046926  54.386542  17.821805]\n",
        "[ 65.89833307  56.65802214  41.03822075]  ->  [ 65.82599273  56.61472273  41.61455182]\n",
        "[ 79.08283322  60.60787527  42.49082216]  ->  [ 79.056726  60.794382  42.652185]\n",
        "[ 67.50721131  87.7623241   24.35045858]  ->  [ 67.883055  87.907555  23.829155]\n",
        "[ 38.21009141  62.64614488  32.63339938]  ->  [ 38.246795  62.316244  32.920278]\n",
        "[ 93.95973412  65.84863613  26.08877379]  ->  [ 93.634562  65.119674  26.232095]\n",
        "[ 56.69904267  81.41089641  26.04134314]  ->  [ 57.069825   81.3995925  26.5324625]\n",
        "[ 66.38067656  59.1840507   18.59638287]  ->  [ 66.65297857  59.32973286  18.93745571]\n",
        "[ 42.50237719  78.99222273  38.77239652]  ->  [ 41.78445667  79.16352333  38.04655   ]\n",
        "[ 73.21059824  48.67163034  16.62707081]  ->  [ 73.46130857  48.54510929  17.04943143]\n",
        "[ 79.81066123  83.03516872  34.76532514]  ->  [ 79.60508923  83.51756846  34.50375385]\n",
        "[ 79.74422162  74.71082868  18.9995918 ]  ->  [ 79.457216  74.571238  19.023275]\n",
        "[ 42.43842385  54.64504193  39.65254919]  ->  [ 42.32871231  54.62067462  40.63433154]\n",
        "[ 48.40823436  52.55204175  47.48443474]  ->  [ 48.59278667  52.7645575   47.62493583]\n",
        "[ 47.31711256  53.48626324  28.88218264]  ->  [ 46.99082667  53.48766444  28.65728444]\n",
        "[ 80.90001456  70.03330972  31.80512981]  ->  [ 80.54855125  69.9856275   31.78889375]\n",
        "[ 74.28973988  51.00146227  44.90885156]  ->  [ 74.731434  50.942328  45.055125]\n",
        "[ 80.30981733  59.69160846  33.51845869]  ->  [ 80.31159467  60.47399     33.69455867]\n",
        "[ 66.38067656  59.1840507   18.59638287]  ->  [ 66.08085   59.192422  18.262344]\n",
        "[ 84.67935102  55.54968533  24.5815914 ]  ->  [ 84.703635  56.148698  24.269694]\n",
        "[ 75.84957233  46.26963327  25.17995285]  ->  [ 75.45899083  46.52358833  25.79823083]\n",
        "[ 74.82109785  78.46741727  31.42677462]  ->  [ 75.1919975   79.03002667  31.60533583]\n",
        "[ 85.106229    43.3537443   38.25043988]  ->  [ 85.45840462  42.88323692  37.98493615]\n",
        "[ 62.0154021   69.48634623  18.14522804]  ->  [ 61.79868769  69.34638385  17.96043615]\n",
        "[ 52.62564201  93.36484666  37.63155942]  ->  [ 51.983602  93.113925  37.005276]\n",
        "[ 62.78546685  39.2127082   40.7743158 ]  ->  [ 60.91897889  39.91550333  40.82773056]\n",
        "[ 63.6367936   79.10142749  29.46237938]  ->  [ 63.16299429  79.69751     29.436015  ]\n",
        "[ 81.49302071  41.65578997  35.47678083]  ->  [ 81.14928625  41.25047     35.09293625]\n",
        "[ 74.56228712  43.90192127  45.21453022]  ->  [ 74.731434    44.34759267  44.774782  ]\n",
        "[ 47.50754636  91.60346131  43.31165085]  ->  [ 47.22921357  91.99827429  42.62357857]\n",
        "[ 70.23323012  46.24977474  23.01847986]  ->  [ 69.37719077  46.64168154  22.73550923]\n",
        "[ 63.12552804  49.46459686  33.26215629]  ->  [ 63.037126  49.580662  32.599886]\n",
        "[ 94.11645476  65.46680609  43.67965638]  ->  [ 93.16853727  65.82599273  42.96165455]\n",
        "[ 50.24954204  90.25101018  40.39426377]  ->  [ 50.221446  90.710985  41.170372]\n",
        "[ 93.13723136  56.44036028  30.34652939]  ->  [ 93.49621091  56.50549818  30.25519909]\n",
        "[ 77.85548283  45.15202272  26.80384177]  ->  [ 77.775158  45.415566  26.232095]\n",
        "[ 53.23358239  50.60682824  26.12861643]  ->  [ 52.0637    50.702034  26.712683]\n",
        "[ 58.2377615   51.74836303  45.2503748 ]  ->  [ 58.711834  51.062475  45.976252]\n",
        "[ 62.15598167  63.08295906  24.14185092]  ->  [ 62.25799091  63.09537909  24.79397182]\n",
        "[ 73.53137594  92.47179449  34.10432824]  ->  [ 73.46766556  92.64668667  33.41866556]\n",
        "[ 81.40330403  60.47173997  28.62743767]  ->  [ 81.86683083  60.9746025   28.10104833]\n",
        "[ 96.41563812  67.90505816  37.70525804]  ->  [ 96.65158667  67.883055    36.87845417]\n",
        "[ 61.83319079  46.8314969   33.42594274]  ->  [ 61.18254923  46.64168154  33.94922923]\n",
        "[ 52.05442072  72.31833141  22.77628062]  ->  [ 52.664435  72.288445  23.22842 ]\n",
        "[ 57.88529457  50.39385279  24.32010391]  ->  [ 58.18547571  50.63337857  23.97218714]\n",
        "[ 66.67689027  75.34090482  41.43414489]  ->  [ 67.06667154  75.47696154  41.21966308]\n",
        "[ 59.79867485  59.34458084  29.09161409]  ->  [ 59.73975833  58.60503667  28.234545  ]\n",
        "[ 72.54549112  80.26851586  24.47108609]  ->  [ 72.19742455  80.31644909  24.13862455]\n",
        "[ 72.86639671  48.23140857  30.9595244 ]  ->  [ 72.688935  48.659535  31.838955]\n",
        "[ 48.59539494  49.49507879  37.81068885]  ->  [ 48.77078222  49.12677333  37.15657222]\n",
        "[ 39.93960154  79.45829885  44.58091278]  ->  [ 40.58298667  79.497265    44.98837667]\n",
        "[ 44.67728631  51.9520763   35.8617813 ]  ->  [ 44.0539  52.0637  36.0441]\n",
        "[ 66.47281377  66.9025503   43.03196308]  ->  [ 66.48134     67.16789429  43.052675  ]\n",
        "[ 63.83966093  62.85157004  33.81833217]  ->  [ 63.27742   62.276195  33.040425]\n",
        "[ 56.84141203  45.88109635  24.90461073]  ->  [ 57.470315  46.376742  25.070674]\n",
        "[ 78.05367912  46.83526144  41.48132233]  ->  [ 78.09555  46.45684  40.84998]\n",
        "[ 46.64345314  67.9731022   35.63479314]  ->  [ 46.85733   67.883055  35.843855]\n",
        "[ 97.5525573   67.84427848  36.55268571]  ->  [ 97.519315  67.562663  36.965227]\n",
        "[ 36.65800015  70.06602418  41.2174008 ]  ->  [ 36.684884  70.285995  40.930078]\n",
        "[ 75.41125947  90.92804042  31.36273149]  ->  [ 75.38454077  91.12687846  30.77611615]\n",
        "[ 73.49221915  94.96588758  39.67708317]  ->  [ 73.850356    95.42341733  38.84753   ]\n",
        "[ 61.95480421  87.10551029  35.3724619 ]  ->  [ 61.995852    86.71943467  35.61691067]\n",
        "[ 73.07196671  44.53075944  24.8954849 ]  ->  [ 73.10762909  44.30875727  24.72115545]\n",
        "[ 75.32573132  40.61089217  24.14019989]  ->  [ 75.492365    40.78323167  24.29639333]\n",
        "[ 45.40480783  51.18256017  36.69114444]  ->  [ 44.72138333  51.26272     36.75608222]\n",
        "[ 88.97824788  72.50366201  43.07959792]  ->  [ 89.85539273  71.83334273  42.77961364]\n",
        "[ 47.97654831  58.51216376  36.67999487]  ->  [ 48.259045    58.47154     36.73065429]\n",
        "[ 80.80396492  61.05154926  34.32959078]  ->  [ 80.338294  61.475215  34.922728]\n",
        "[ 52.49390658  51.70162605  38.26935085]  ->  [ 52.89548692  52.64903154  37.95412923]\n",
        "[ 43.96640563  66.15073307  30.30627706]  ->  [ 43.65341  66.08085  30.83773]\n",
        "[ 59.4050341   60.48445047  35.1882133 ]  ->  [ 59.43939083  60.14024833  35.7437325 ]\n",
        "[ 88.24688725  77.8294857   29.41374075]  ->  [ 87.92980444  77.51706444  29.50276333]\n",
        "[ 51.4554809   65.91878723  31.19769175]  ->  [ 51.462965  65.520164  29.956652]\n",
        "[ 92.23661172  71.97549497  31.15583102]  ->  [ 92.44644167  72.22169667  31.438465  ]\n",
        "[ 44.09931859  76.98523328  27.86838256]  ->  [ 44.254145  77.094325  27.834055]\n",
        "[ 49.94046689  70.80778838  35.46240678]  ->  [ 50.03621938  71.03691375  35.31821188]\n",
        "[ 71.55362137  44.54729169  38.12786106]  ->  [ 72.27024091  44.49079818  38.26499909]\n",
        "[ 62.26817295  67.90062469  26.93421347]  ->  [ 62.22158273  67.82844273  26.76001364]\n",
        "[ 69.38632669  39.09590357  28.6303699 ]  ->  [ 69.50041846  37.95412923  28.74285923]\n",
        "[ 55.07721759  89.72599482  34.04981588]  ->  [ 54.266395  89.789858  34.201846]\n",
        "[ 39.93495364  81.15844822  37.51744599]  ->  [ 39.36244571  81.499715    36.84508   ]\n",
        "[ 57.30533266  62.18363051  28.26890609]  ->  [ 56.0686      62.20944667  28.0343    ]\n",
        "[ 49.51695383  72.8555364   22.07730862]  ->  [ 49.460515  72.328494  21.145872]\n",
        "[ 60.13784845  45.0259608   24.04569184]  ->  [ 60.674235  45.095174  24.109498]\n",
        "[ 84.63003376  52.57255616  23.73474488]"
       ]
      },
      {
       "output_type": "stream",
       "stream": "stdout",
       "text": [
        "  ->  [ 84.72588444  52.0637      24.25189444]\n",
        "[ 67.92948679  56.58710085  24.39985788]  ->  [ 68.243496  56.46909   24.269694]\n",
        "[ 92.84565337  64.75737545  26.20806518]  ->  [ 92.633337  65.079625  27.273369]\n",
        "[ 79.92092488  52.46993504  20.71423819]  ->  [ 79.51546909  52.53700636  21.51723545]\n",
        "[ 61.65933924  49.85296743  22.63548259]  ->  [ 61.52527625  50.01118875  22.47750125]\n",
        "[ 77.48206199  46.76134254  43.94615384]  ->  [ 77.47256556  46.23434556  43.11942333]\n",
        "[ 57.88529457  50.39385279  24.32010391]  ->  [ 57.390217  50.942328  23.548812]\n",
        "[ 76.01198026  95.33662335  30.65885744]  ->  [ 76.1932225   94.98287833  30.60411083]\n",
        "[ 54.63987151  85.41565072  43.42344315]  ->  [ 54.5667625   85.13749917  42.78568167]\n",
        "[ 73.53625533  88.30333604  26.72640789]  ->  [ 73.850356  88.187898  26.993026]\n",
        "[ 87.01063051  49.81941945  29.61513537]  ->  [ 86.72428909  50.27969909  29.56344364]\n",
        "[ 55.91867486  54.82147335  44.90681146]  ->  [ 55.467865  55.467865  44.654635]\n",
        "[ 62.65822035  45.83690432  18.31818985]  ->  [ 62.44974067  46.296644    18.39584067]\n",
        "[ 75.65496393  88.55103287  36.6437557 ]  ->  [ 75.55911333  87.77405833  36.84508   ]\n",
        "[ 82.22981102  45.06592687  24.38381959]  ->  [ 82.701185    44.85488     24.31546429]\n",
        "[ 87.82824723  50.6921302   47.05735944]  ->  [ 87.907555  51.062475  47.458065]\n",
        "[ 63.12448252  59.53608813  45.42786548]  ->  [ 63.64710308  59.48816846  45.40940462]\n",
        "[ 68.67548412  50.49938038  44.00419993]  ->  [ 68.73409625  49.81094375  45.00506375]\n",
        "[ 57.36663195  39.0479531   39.34471294]  ->  [ 57.08802909  38.68369318  39.43006091]\n",
        "[ 91.9705738   55.72986973  43.32343643]  ->  [ 91.73576824  56.16283294  42.52261471]\n",
        "[ 44.67728631  51.9520763   35.8617813 ]  ->  [ 44.85488  52.0637   35.64361]\n",
        "[ 68.08442013  46.29503957  35.72983348]  ->  [ 67.442516    46.83063067  36.41789067]\n",
        "[ 56.27319115  64.31666875  18.99577102]  ->  [ 56.74442688  63.27742     18.74793813]\n",
        "[ 46.78397398  64.07771484  27.78304069]  ->  [ 47.14859545  63.85995091  27.34254455]\n",
        "[ 81.73376224  53.39718843  26.66827931]  ->  [ 81.099225  53.505464  27.153222]\n",
        "[ 55.43747308  72.16874642  20.97911648]  ->  [ 55.58229071  71.77352929  20.28195786]\n",
        "[ 89.50722448  83.50530215  33.1442087 ]  ->  [ 89.469466  82.981528  32.639935]\n",
        "[ 43.09116018  71.35037645  31.14995559]  ->  [ 43.11942333  71.28722     31.10472333]\n",
        "[ 71.67804023  68.68237715  30.74605571]  ->  [ 71.97897545  68.37456545  29.81830091]\n",
        "[ 53.07889619  46.2358307   48.20921734]  ->  [ 51.863455    44.68544192  45.37859769]\n",
        "[ 83.83689365  71.74516325  29.75329493]  ->  [ 83.14788538  71.71851692  28.89689385]\n",
        "[ 69.40378757  49.51349633  39.23189764]  ->  [ 69.605162  49.901054  39.087824]\n",
        "[ 85.27253069  81.22119674  37.40254015]  ->  [ 85.98755882  81.06388765  37.24557   ]\n",
        "[ 89.64096298  84.7030013   37.33994221]  ->  [ 89.81898455  84.72183909  37.53683545]\n",
        "[ 66.70992762  61.41569465  42.09583477]  ->  [ 66.281095    61.96152429  42.45194   ]\n",
        "[ 59.59239902  43.93910898  30.9463839 ]  ->  [ 59.09452444  43.83140556  30.70423333]\n",
        "[ 40.54675876  71.09415356  32.53656025]  ->  [ 40.62748556  70.75323333  32.21719556]\n",
        "[ 57.57016314  79.19939264  20.73169579]  ->  [ 57.67056     79.22192813  20.55014313]\n",
        "[ 57.87156095  79.12062245  22.27083403]  ->  [ 58.271295  78.656236  22.107048]\n",
        "[ 52.97332764  59.94375533  45.52342159]  ->  [ 52.35496545  59.85505091  44.74565545]\n",
        "[ 87.40152543  45.72181203  27.4102179 ]  ->  [ 87.04936214  45.88471143  27.20471357]\n",
        "[ 92.15814633  65.74524739  27.52403844]  ->  [ 92.37969333  65.84723083  27.7339325 ]\n",
        "[ 44.65368365  62.8336002   45.35016693]  ->  [ 45.055125    62.94367833  45.12187333]\n",
        "[ 70.59459857  42.82975572  37.86471854]  ->  [ 70.63642375  43.50322625  37.89636625]\n",
        "[ 61.45655169  56.86890665  15.46141285]  ->  [ 61.50858917  56.53583833  15.3187425 ]\n",
        "[ 54.43763681  61.7706541   29.44619392]  ->  [ 55.04917091  61.93031727  29.45421909]\n",
        "[ 48.00603226  71.14356119  41.66260192]  ->  [ 49.060025    70.88673     41.93702429]\n",
        "[ 73.26536817  62.620824    31.55786786]  ->  [ 73.890405  62.276195  31.037975]\n",
        "[ 61.96788207  61.37740021  16.92655558]  ->  [ 61.56103429  61.33218286  16.99221857]\n",
        "[ 38.46490768  60.59832421  31.89975767]  ->  [ 39.167922  59.873255  31.798906]\n",
        "[ 75.05128875  53.1712964   19.74603424]  ->  [ 75.3922425  53.66566    18.622785 ]\n",
        "[ 45.85818419  63.9762798   27.42854268]  ->  [ 45.095174  64.558988  27.433565]\n",
        "[ 47.12704124  60.59248985  24.6078667 ]  ->  [ 47.097624  60.674235  24.509988]\n",
        "[ 53.55847705  43.51516389  33.44243297]  ->  [ 53.53216333  43.65341     33.50766333]\n",
        "[ 55.58279729  90.45366453  34.66591404]  ->  [ 56.228796  89.910005  34.922728]\n",
        "[ 71.16192     77.09444085  22.42507386]  ->  [ 70.60403118  76.91763824  22.42744   ]\n",
        "[ 70.85357603  73.37645576  39.83294935]  ->  [ 70.21924667  74.09065     40.98347667]\n",
        "[ 56.89365624  46.21316719  27.7457989 ]  ->  [ 56.74442688  45.98125813  27.23332   ]\n",
        "[ 39.63620261  66.12242466  47.87633944]  ->  [ 40.249245  66.88183   48.85978 ]\n",
        "[ 86.70971845  65.22599752  27.25330808]  ->  [ 86.81209706  64.38465706  27.42178588]\n",
        "[ 54.86887052  43.30055818  38.63495129]  ->  [ 55.51792625  42.87746063  38.87256062]\n",
        "[ 63.50150708  84.12190445  34.80499775]  ->  [ 62.87693   83.70241   35.042875]\n",
        "[ 66.64947836  65.23206233  17.59947776]  ->  [ 66.641536  65.600262  17.421315]\n",
        "[ 71.96847838  48.94943123  45.83270465]  ->  [ 72.688935  49.100074  45.575762]\n",
        "[ 73.86317933  87.24008783  27.7413503 ]  ->  [ 74.250846  87.467016  27.313418]\n",
        "_____________________________\n",
        "\n",
        "       Iteration  0\n",
        "_____________________________\n",
        "--> Computing laplacian smoothing force\n",
        "<-- Computing laplacian smoothing force ["
       ]
      },
      {
       "output_type": "stream",
       "stream": "stdout",
       "text": [
        " 0.031641960144 s]\n",
        "--> Computing planarization force\n",
        "--> Computing  cell_interface  property ( 2 )\n",
        "<-- Computing"
       ]
      },
      {
       "output_type": "stream",
       "stream": "stdout",
       "text": [
        " cell_interface property ( 2 ) [ 0.318287134171 s]\n",
        "--> Computing  interface  property ( 3 )\n",
        "Warning : missing keys were added to the dictionary!"
       ]
      },
      {
       "output_type": "stream",
       "stream": "stdout",
       "text": [
        "\n",
        "<-- Computing interface property ( 3 ) [ 0.158735990524 s]\n",
        "<-- Computing planarization force [ 0.512724876404 s]\n",
        "--> Applying Forces\n",
        "<-- Applying Forces          [ 0.00387787818909 s]\n",
        "--> Updating distances\n",
        "--> Computing  length  property ( 1 )\n",
        "<-- Computing"
       ]
      },
      {
       "output_type": "stream",
       "stream": "stdout",
       "text": [
        " length property ( 1 ) [ 0.0206561088562 s]\n",
        "<-- Updating distances       [ 0.0211601257324 s]\n",
        "16227  Vertices,  42176  Triangles,  356  Cells\n",
        "--> Moving cell vertices\n",
        "<-- Moving cell vertices     ["
       ]
      },
      {
       "output_type": "stream",
       "stream": "stdout",
       "text": [
        " 0.0784828662872 s]\n",
        "--> Computing  length  property ( 1 )\n",
        "<-- Computing length property ( 1 ) [ 0.0206999778748 s]\n",
        "--> Computing triangle properties\n",
        "<-- Computing triangle properties    [ 0.0221259593964 s]\n",
        "--> Computing  barycenter  property ( 3 )\n",
        "<-- Computing barycenter property ( 3 ) [ 0.00569701194763 s]\n",
        "--> Computing  barycenter  property ( 2 )\n",
        "<-- Computing"
       ]
      },
      {
       "output_type": "stream",
       "stream": "stdout",
       "text": [
        " barycenter property ( 2 ) [ 0.0249900817871 s]\n",
        "--> Computing  normal  property ( 2 )\n",
        "<-- Computing normal property ( 2 ) [ 0.0134711265564 s]\n",
        "--> Computing  length  property ( 1 )\n",
        "<-- Computing length property ( 1 ) [ 0.0210199356079 s]\n",
        "--> Computing triangle properties\n",
        "<-- Computing triangle properties    ["
       ]
      },
      {
       "output_type": "stream",
       "stream": "stdout",
       "text": [
        " 0.0228970050812 s]\n",
        "--> Computing  barycenter  property ( 3 )\n",
        "<-- Computing barycenter property ( 3 ) [ 0.00580811500549 s]\n",
        "--> Computing  barycenter  property ( 2 )\n",
        "<-- Computing barycenter property ( 2 ) [ 0.0231118202209 s]\n",
        "--> Computing  normal  property ( 2 )\n",
        "<-- Computing normal property ( 2 ) [ 0.0133399963379 s]\n",
        "_____________________________\n",
        "\n",
        "      [ 0.825647830963 s]\n",
        "_____________________________\n",
        "\n",
        "       Iteration  1\n",
        "_____________________________\n",
        "--> Computing regularization force\n",
        "<-- Computing regularization force ["
       ]
      },
      {
       "output_type": "stream",
       "stream": "stdout",
       "text": [
        " 0.174519062042 s]\n",
        "--> Computing laplacian smoothing force\n",
        "<-- Computing laplacian smoothing force [ 0.0299339294434 s]\n",
        "--> Computing planarization force\n",
        "<-- Computing planarization force ["
       ]
      },
      {
       "output_type": "stream",
       "stream": "stdout",
       "text": [
        " 0.0350079536438 s]\n",
        "--> Applying Forces\n",
        "<-- Applying Forces          [ 0.00396418571472 s]\n",
        "--> Updating distances\n",
        "--> Computing  length  property ( 1 )\n",
        "<-- Computing length property ( 1 ) [ 0.0199930667877 s]\n",
        "<-- Updating distances       [ 0.0201539993286 s]\n",
        "16227  Vertices,  42176  Triangles,  356  Cells\n",
        "--> Moving cell vertices\n",
        "<-- Moving cell vertices     ["
       ]
      },
      {
       "output_type": "stream",
       "stream": "stdout",
       "text": [
        " 0.0790028572083 s]\n",
        "--> Computing  length  property ( 1 )\n",
        "<-- Computing length property ( 1 ) [ 0.0196418762207 s]\n",
        "--> Computing triangle properties\n",
        "<-- Computing triangle properties    [ 0.0225911140442 s]\n",
        "--> Computing  barycenter  property ( 3 )\n",
        "<-- Computing barycenter property ( 3 ) [ 0.0059130191803 s]\n",
        "--> Computing  barycenter  property ( 2 )\n",
        "<-- Computing"
       ]
      },
      {
       "output_type": "stream",
       "stream": "stdout",
       "text": [
        " barycenter property ( 2 ) [ 0.0250709056854 s]\n",
        "--> Computing  normal  property ( 2 )\n",
        "<-- Computing normal property ( 2 ) [ 0.0125648975372 s]\n",
        "--> Computing  length  property ( 1 )\n",
        "<-- Computing length property ( 1 ) [ 0.0188000202179 s]\n",
        "--> Computing triangle properties\n",
        "<-- Computing triangle properties    ["
       ]
      },
      {
       "output_type": "stream",
       "stream": "stdout",
       "text": [
        " 0.0220148563385 s]\n",
        "--> Computing  barycenter  property ( 3 )\n",
        "<-- Computing barycenter property ( 3 ) [ 0.00571084022522 s]\n",
        "--> Computing  barycenter  property ( 2 )\n",
        "<-- Computing barycenter property ( 2 ) [ 0.0238840579987 s]\n",
        "--> Computing  normal  property ( 2 )\n",
        "<-- Computing normal property ( 2 ) [ 0.0131969451904 s]\n",
        "_____________________________\n",
        "\n",
        "      [ 0.516434192657 s]\n",
        "_____________________________\n",
        "\n",
        "       Iteration  2\n",
        "_____________________________\n",
        "--> Computing regularization force\n",
        "<-- Computing regularization force ["
       ]
      },
      {
       "output_type": "stream",
       "stream": "stdout",
       "text": [
        " 0.17098903656 s]\n",
        "--> Computing laplacian smoothing force\n",
        "<-- Computing laplacian smoothing force [ 0.0295100212097 s]\n",
        "--> Computing planarization force\n",
        "<-- Computing planarization force ["
       ]
      },
      {
       "output_type": "stream",
       "stream": "stdout",
       "text": [
        " 0.0348131656647 s]\n",
        "--> Applying Forces\n",
        "<-- Applying Forces          [ 0.0039210319519 s]\n",
        "--> Updating distances\n",
        "--> Computing  length  property ( 1 )\n",
        "<-- Computing length property ( 1 ) [ 0.0200459957123 s]\n",
        "<-- Updating distances       [ 0.0202121734619 s]\n",
        "16227  Vertices,  42176  Triangles,  356  Cells\n",
        "--> Moving cell vertices\n",
        "<-- Moving cell vertices     ["
       ]
      },
      {
       "output_type": "stream",
       "stream": "stdout",
       "text": [
        " 0.0844490528107 s]\n",
        "--> Computing  length  property ( 1 )\n",
        "<-- Computing length property ( 1 ) [ 0.019275188446 s]\n",
        "--> Computing triangle properties\n",
        "<-- Computing triangle properties    [ 0.023344039917 s]\n",
        "--> Computing  barycenter  property ( 3 )\n",
        "<-- Computing barycenter property ( 3 ) [ 0.00573396682739 s]\n",
        "--> Computing  barycenter  property ( 2 )\n",
        "<-- Computing"
       ]
      },
      {
       "output_type": "stream",
       "stream": "stdout",
       "text": [
        " barycenter property ( 2 ) [ 0.0248548984528 s]\n",
        "--> Computing  normal  property ( 2 )\n",
        "<-- Computing normal property ( 2 ) [ 0.0132801532745 s]\n",
        "--> Computing  length  property ( 1 )\n",
        "<-- Computing length property ( 1 ) [ 0.0197420120239 s]\n",
        "--> Computing triangle properties\n",
        "<-- Computing triangle properties    ["
       ]
      },
      {
       "output_type": "stream",
       "stream": "stdout",
       "text": [
        " 0.0225899219513 s]\n",
        "--> Computing  barycenter  property ( 3 )\n",
        "<-- Computing barycenter property ( 3 ) [ 0.00586318969727 s]\n",
        "--> Computing  barycenter  property ( 2 )\n",
        "<-- Computing barycenter property ( 2 ) [ 0.023717880249 s]\n",
        "--> Computing  normal  property ( 2 )\n",
        "<-- Computing normal property ( 2 ) [ 0.0128810405731 s]\n",
        "_____________________________\n",
        "\n",
        "      [ 0.519770860672 s]\n",
        "_____________________________\n",
        "\n",
        "       Iteration  3\n",
        "_____________________________\n",
        "--> Computing regularization force\n",
        "<-- Computing regularization force ["
       ]
      },
      {
       "output_type": "stream",
       "stream": "stdout",
       "text": [
        " 0.17000079155 s]\n",
        "--> Computing laplacian smoothing force\n",
        "<-- Computing laplacian smoothing force [ 0.0296239852905 s]\n",
        "--> Computing planarization force\n",
        "<-- Computing planarization force ["
       ]
      },
      {
       "output_type": "stream",
       "stream": "stdout",
       "text": [
        " 0.0350019931793 s]\n",
        "--> Applying Forces\n",
        "<-- Applying Forces          [ 0.00396704673767 s]\n",
        "--> Updating distances\n",
        "--> Computing  length  property ( 1 )\n",
        "<-- Computing length property ( 1 ) [ 0.0212831497192 s]\n",
        "<-- Updating distances       [ 0.02143907547 s]\n",
        "16227  Vertices,  42176  Triangles,  356  Cells\n",
        "--> Moving cell vertices\n",
        "<-- Moving cell vertices     ["
       ]
      },
      {
       "output_type": "stream",
       "stream": "stdout",
       "text": [
        " 0.0856080055237 s]\n",
        "--> Computing  length  property ( 1 )\n",
        "<-- Computing length property ( 1 ) [ 0.0314259529114 s]\n",
        "--> Computing triangle properties\n",
        "<-- Computing triangle properties    ["
       ]
      },
      {
       "output_type": "stream",
       "stream": "stdout",
       "text": [
        " 0.02321600914 s]\n",
        "--> Computing  barycenter  property ( 3 )\n",
        "<-- Computing barycenter property ( 3 ) [ 0.00586795806885 s]\n",
        "--> Computing  barycenter  property ( 2 )\n",
        "<-- Computing barycenter property ( 2 ) [ 0.0251700878143 s]\n",
        "--> Computing  normal  property ( 2 )\n",
        "<-- Computing normal property ( 2 ) [ 0.013011932373 s]\n",
        "--> Computing  length  property ( 1 )\n",
        "<-- Computing"
       ]
      },
      {
       "output_type": "stream",
       "stream": "stdout",
       "text": [
        " length property ( 1 ) [ 0.0198500156403 s]\n",
        "--> Computing triangle properties\n",
        "<-- Computing triangle properties    [ 0.0232229232788 s]\n",
        "--> Computing  barycenter  property ( 3 )\n",
        "<-- Computing barycenter property ( 3 ) [ 0.00567293167114 s]\n",
        "--> Computing  barycenter  property ( 2 )\n",
        "<-- Computing"
       ]
      },
      {
       "output_type": "stream",
       "stream": "stdout",
       "text": [
        " barycenter property ( 2 ) [ 0.0236899852753 s]\n",
        "--> Computing  normal  property ( 2 )\n",
        "<-- Computing normal property ( 2 ) [ 0.0130581855774 s]\n",
        "_____________________________\n",
        "\n",
        "      [ 0.534529924393 s]\n",
        "_____________________________\n",
        "\n",
        "       Iteration  4\n",
        "_____________________________\n",
        "--> Computing regularization force\n",
        "<-- Computing regularization force ["
       ]
      },
      {
       "output_type": "stream",
       "stream": "stdout",
       "text": [
        " 0.170011043549 s]\n",
        "--> Computing laplacian smoothing force\n",
        "<-- Computing laplacian smoothing force [ 0.0293900966644 s]\n",
        "--> Computing planarization force\n",
        "<-- Computing planarization force ["
       ]
      },
      {
       "output_type": "stream",
       "stream": "stdout",
       "text": [
        " 0.033586025238 s]\n",
        "--> Applying Forces\n",
        "<-- Applying Forces          [ 0.00385189056396 s]\n",
        "--> Updating distances\n",
        "--> Computing  length  property ( 1 )\n",
        "<-- Computing length property ( 1 ) [ 0.0201981067657 s]\n",
        "<-- Updating distances       [ 0.0204739570618 s]\n",
        "16227  Vertices,  42176  Triangles,  356  Cells\n",
        "--> Moving cell vertices\n",
        "<-- Moving cell vertices     ["
       ]
      },
      {
       "output_type": "stream",
       "stream": "stdout",
       "text": [
        " 0.0777578353882 s]\n",
        "--> Computing  length  property ( 1 )\n",
        "<-- Computing length property ( 1 ) [ 0.0194339752197 s]\n",
        "--> Computing triangle properties\n",
        "<-- Computing triangle properties    [ 0.0218570232391 s]\n",
        "--> Computing  barycenter  property ( 3 )\n",
        "<-- Computing barycenter property ( 3 ) [ 0.00597310066223 s]\n",
        "--> Computing  barycenter  property ( 2 )\n",
        "<-- Computing"
       ]
      },
      {
       "output_type": "stream",
       "stream": "stdout",
       "text": [
        " barycenter property ( 2 ) [ 0.0244958400726 s]\n",
        "--> Computing  normal  property ( 2 )\n",
        "<-- Computing normal property ( 2 ) [ 0.0124990940094 s]\n",
        "--> Computing  length  property ( 1 )\n",
        "<-- Computing length property ( 1 ) [ 0.0189819335938 s]\n",
        "--> Computing triangle properties\n",
        "<-- Computing triangle properties    ["
       ]
      },
      {
       "output_type": "stream",
       "stream": "stdout",
       "text": [
        " 0.0216808319092 s]\n",
        "--> Computing  barycenter  property ( 3 )\n",
        "<-- Computing barycenter property ( 3 ) [ 0.0057909488678 s]\n",
        "--> Computing  barycenter  property ( 2 )\n",
        "<-- Computing barycenter property ( 2 ) [ 0.0231449604034 s]\n",
        "--> Computing  normal  property ( 2 )\n",
        "<-- Computing normal property ( 2 ) [ 0.0133059024811 s]\n",
        "_____________________________\n",
        "\n",
        "      [ 0.50695681572 s]\n",
        "_____________________________\n",
        "\n",
        "       Iteration  5\n",
        "_____________________________\n",
        "--> Computing regularization force\n",
        "<-- Computing regularization force ["
       ]
      },
      {
       "output_type": "stream",
       "stream": "stdout",
       "text": [
        " 0.170480966568 s]\n",
        "--> Computing laplacian smoothing force\n",
        "<-- Computing laplacian smoothing force [ 0.0296609401703 s]\n",
        "--> Computing planarization force\n",
        "<-- Computing planarization force ["
       ]
      },
      {
       "output_type": "stream",
       "stream": "stdout",
       "text": [
        " 0.0339198112488 s]\n",
        "--> Applying Forces\n",
        "<-- Applying Forces          [ 0.00387501716614 s]\n",
        "--> Updating distances\n",
        "--> Computing  length  property ( 1 )\n",
        "<-- Computing length property ( 1 ) [ 0.0203139781952 s]\n",
        "<-- Updating distances       [ 0.020467042923 s]\n",
        "16227  Vertices,  42176  Triangles,  356  Cells\n",
        "--> Moving cell vertices\n",
        "<-- Moving cell vertices     ["
       ]
      },
      {
       "output_type": "stream",
       "stream": "stdout",
       "text": [
        " 0.0778789520264 s]\n",
        "--> Computing  length  property ( 1 )\n",
        "<-- Computing length property ( 1 ) [ 0.019287109375 s]\n",
        "--> Computing triangle properties\n",
        "<-- Computing triangle properties    [ 0.0225191116333 s]\n",
        "--> Computing  barycenter  property ( 3 )\n",
        "<-- Computing barycenter property ( 3 ) [ 0.00577211380005 s]\n",
        "--> Computing  barycenter  property ( 2 )\n",
        "<-- Computing"
       ]
      },
      {
       "output_type": "stream",
       "stream": "stdout",
       "text": [
        " barycenter property ( 2 ) [ 0.0244810581207 s]\n",
        "--> Computing  normal  property ( 2 )\n",
        "<-- Computing normal property ( 2 ) [ 0.013247013092 s]\n",
        "--> Computing  length  property ( 1 )\n",
        "<-- Computing length property ( 1 ) [ 0.0194609165192 s]\n",
        "--> Computing triangle properties\n",
        "<-- Computing triangle properties    ["
       ]
      },
      {
       "output_type": "stream",
       "stream": "stdout",
       "text": [
        " 0.0232470035553 s]\n",
        "--> Computing  barycenter  property ( 3 )\n",
        "<-- Computing barycenter property ( 3 ) [ 0.005774974823 s]\n",
        "--> Computing  barycenter  property ( 2 )\n",
        "<-- Computing barycenter property ( 2 ) [ 0.0251088142395 s]\n",
        "--> Computing  normal  property ( 2 )\n",
        "<-- Computing normal property ( 2 ) [ 0.0130870342255 s]\n",
        "_____________________________\n",
        "\n",
        "      [ 0.513059854507 s]\n",
        "_____________________________\n",
        "\n",
        "       Iteration  6\n",
        "_____________________________\n",
        "--> Computing regularization force\n",
        "<-- Computing regularization force ["
       ]
      },
      {
       "output_type": "stream",
       "stream": "stdout",
       "text": [
        " 0.167109012604 s]\n",
        "--> Computing laplacian smoothing force\n",
        "<-- Computing laplacian smoothing force [ 0.0291819572449 s]\n",
        "--> Computing planarization force\n",
        "<-- Computing planarization force ["
       ]
      },
      {
       "output_type": "stream",
       "stream": "stdout",
       "text": [
        " 0.034157037735 s]\n",
        "--> Applying Forces\n",
        "<-- Applying Forces          [ 0.0038731098175 s]\n",
        "--> Updating distances\n",
        "--> Computing  length  property ( 1 )\n",
        "<-- Computing length property ( 1 ) [ 0.0202329158783 s]\n",
        "<-- Updating distances       [ 0.0203220844269 s]\n",
        "16227  Vertices,  42176  Triangles,  356  Cells\n",
        "--> Moving cell vertices\n",
        "<-- Moving cell vertices     ["
       ]
      },
      {
       "output_type": "stream",
       "stream": "stdout",
       "text": [
        " 0.0786030292511 s]\n",
        "--> Computing  length  property ( 1 )\n",
        "<-- Computing length property ( 1 ) [ 0.0193440914154 s]\n",
        "--> Computing triangle properties\n",
        "<-- Computing triangle properties    [ 0.0220119953156 s]\n",
        "--> Computing  barycenter  property ( 3 )\n",
        "<-- Computing barycenter property ( 3 ) [ 0.00568509101868 s]\n",
        "--> Computing  barycenter  property ( 2 )\n",
        "<-- Computing"
       ]
      },
      {
       "output_type": "stream",
       "stream": "stdout",
       "text": [
        " barycenter property ( 2 ) [ 0.0250971317291 s]\n",
        "--> Computing  normal  property ( 2 )\n",
        "<-- Computing normal property ( 2 ) [ 0.0127050876617 s]\n",
        "--> Computing  length  property ( 1 )\n",
        "<-- Computing length property ( 1 ) [ 0.0191690921783 s]\n",
        "--> Computing triangle properties\n",
        "<-- Computing triangle properties    ["
       ]
      },
      {
       "output_type": "stream",
       "stream": "stdout",
       "text": [
        " 0.0222420692444 s]\n",
        "--> Computing  barycenter  property ( 3 )\n",
        "<-- Computing barycenter property ( 3 ) [ 0.00581383705139 s]\n",
        "--> Computing  barycenter  property ( 2 )\n",
        "<-- Computing barycenter property ( 2 ) [ 0.0232448577881 s]\n",
        "--> Computing  normal  property ( 2 )\n",
        "<-- Computing normal property ( 2 ) [ 0.0130469799042 s]\n",
        "_____________________________\n",
        "\n",
        "      [ 0.506195068359 s]\n",
        "_____________________________\n",
        "\n",
        "       Iteration  7\n",
        "_____________________________\n",
        "--> Computing regularization force\n",
        "<-- Computing regularization force ["
       ]
      },
      {
       "output_type": "stream",
       "stream": "stdout",
       "text": [
        " 0.177920818329 s]\n",
        "--> Computing laplacian smoothing force\n",
        "<-- Computing laplacian smoothing force [ 0.0303099155426 s]\n",
        "--> Computing planarization force\n",
        "<-- Computing planarization force ["
       ]
      },
      {
       "output_type": "stream",
       "stream": "stdout",
       "text": [
        " 0.0354609489441 s]\n",
        "--> Applying Forces\n",
        "<-- Applying Forces          [ 0.00399804115295 s]\n",
        "--> Updating distances\n",
        "--> Computing  length  property ( 1 )\n",
        "<-- Computing length property ( 1 ) [ 0.02024102211 s]\n",
        "<-- Updating distances       [ 0.0203850269318 s]\n",
        "16227  Vertices,  42176  Triangles,  356  Cells\n",
        "--> Moving cell vertices\n",
        "<-- Moving cell vertices     ["
       ]
      },
      {
       "output_type": "stream",
       "stream": "stdout",
       "text": [
        " 0.0786108970642 s]\n",
        "--> Computing  length  property ( 1 )\n",
        "<-- Computing length property ( 1 ) [ 0.0195939540863 s]\n",
        "--> Computing triangle properties\n",
        "<-- Computing triangle properties    [ 0.0229120254517 s]\n",
        "--> Computing  barycenter  property ( 3 )\n",
        "<-- Computing barycenter property ( 3 ) [ 0.00565004348755 s]\n",
        "--> Computing  barycenter  property ( 2 )\n",
        "<-- Computing"
       ]
      },
      {
       "output_type": "stream",
       "stream": "stdout",
       "text": [
        " barycenter property ( 2 ) [ 0.0252089500427 s]\n",
        "--> Computing  normal  property ( 2 )\n",
        "<-- Computing normal property ( 2 ) [ 0.0129480361938 s]\n",
        "--> Computing  length  property ( 1 )\n",
        "<-- Computing length property ( 1 ) [ 0.0186870098114 s]\n",
        "--> Computing triangle properties\n",
        "<-- Computing triangle properties    ["
       ]
      },
      {
       "output_type": "stream",
       "stream": "stdout",
       "text": [
        " 0.0227630138397 s]\n",
        "--> Computing  barycenter  property ( 3 )\n",
        "<-- Computing barycenter property ( 3 ) [ 0.00572395324707 s]\n",
        "--> Computing  barycenter  property ( 2 )\n",
        "<-- Computing barycenter property ( 2 ) [ 0.0245599746704 s]\n",
        "--> Computing  normal  property ( 2 )\n",
        "<-- Computing normal property ( 2 ) [ 0.0132739543915 s]\n",
        "_____________________________\n",
        "\n",
        "      [ 0.52275800705 s]\n",
        "_____________________________\n",
        "\n",
        "       Iteration  8\n",
        "_____________________________\n",
        "--> Computing regularization force\n",
        "<-- Computing regularization force ["
       ]
      },
      {
       "output_type": "stream",
       "stream": "stdout",
       "text": [
        " 0.172767162323 s]\n",
        "--> Computing laplacian smoothing force\n",
        "<-- Computing laplacian smoothing force [ 0.0293250083923 s]\n",
        "--> Computing planarization force\n",
        "<-- Computing planarization force ["
       ]
      },
      {
       "output_type": "stream",
       "stream": "stdout",
       "text": [
        " 0.0348181724548 s]\n",
        "--> Applying Forces\n",
        "<-- Applying Forces          [ 0.00395798683167 s]\n",
        "--> Updating distances\n",
        "--> Computing  length  property ( 1 )\n",
        "<-- Computing length property ( 1 ) [ 0.0200021266937 s]\n",
        "<-- Updating distances       [ 0.020259141922 s]\n",
        "16227  Vertices,  42176  Triangles,  356  Cells\n",
        "--> Moving cell vertices\n",
        "<-- Moving cell vertices     ["
       ]
      },
      {
       "output_type": "stream",
       "stream": "stdout",
       "text": [
        " 0.0778419971466 s]\n",
        "--> Computing  length  property ( 1 )\n",
        "<-- Computing length property ( 1 ) [ 0.0202059745789 s]\n",
        "--> Computing triangle properties\n",
        "<-- Computing triangle properties    [ 0.0244359970093 s]\n",
        "--> Computing  barycenter  property ( 3 )\n",
        "<-- Computing"
       ]
      },
      {
       "output_type": "stream",
       "stream": "stdout",
       "text": [
        " barycenter property ( 3 ) [ 0.00574803352356 s]\n",
        "--> Computing  barycenter  property ( 2 )\n",
        "<-- Computing barycenter property ( 2 ) [ 0.0258259773254 s]\n",
        "--> Computing  normal  property ( 2 )\n",
        "<-- Computing normal property ( 2 ) [ 0.0132830142975 s]\n",
        "--> Computing  length  property ( 1 )\n",
        "<-- Computing"
       ]
      },
      {
       "output_type": "stream",
       "stream": "stdout",
       "text": [
        " length property ( 1 ) [ 0.0223469734192 s]\n",
        "--> Computing triangle properties\n",
        "<-- Computing triangle properties    [ 0.0221390724182 s]\n",
        "--> Computing  barycenter  property ( 3 )\n",
        "<-- Computing barycenter property ( 3 ) [ 0.00579500198364 s]\n",
        "--> Computing  barycenter  property ( 2 )\n",
        "<-- Computing"
       ]
      },
      {
       "output_type": "stream",
       "stream": "stdout",
       "text": [
        " barycenter property ( 2 ) [ 0.0233199596405 s]\n",
        "--> Computing  normal  property ( 2 )\n",
        "<-- Computing normal property ( 2 ) [ 0.0122048854828 s]\n",
        "_____________________________\n",
        "\n",
        "      [ 0.519023895264 s]\n",
        "_____________________________\n",
        "\n",
        "       Iteration  9\n",
        "_____________________________\n",
        "--> Computing regularization force\n",
        "<-- Computing regularization force ["
       ]
      },
      {
       "output_type": "stream",
       "stream": "stdout",
       "text": [
        " 0.177833795547 s]\n",
        "--> Computing laplacian smoothing force\n",
        "<-- Computing laplacian smoothing force [ 0.0298969745636 s]\n",
        "--> Computing planarization force\n",
        "<-- Computing planarization force ["
       ]
      },
      {
       "output_type": "stream",
       "stream": "stdout",
       "text": [
        " 0.0345990657806 s]\n",
        "--> Applying Forces\n",
        "<-- Applying Forces          [ 0.00395798683167 s]\n",
        "--> Updating distances\n",
        "--> Computing  length  property ( 1 )\n",
        "<-- Computing length property ( 1 ) [ 0.020222902298 s]\n",
        "<-- Updating distances       [ 0.0204470157623 s]\n",
        "16227  Vertices,  42176  Triangles,  356  Cells\n",
        "--> Moving cell vertices\n",
        "<-- Moving cell vertices     ["
       ]
      },
      {
       "output_type": "stream",
       "stream": "stdout",
       "text": [
        " 0.0851399898529 s]\n",
        "--> Computing  length  property ( 1 )\n",
        "<-- Computing length property ( 1 ) [ 0.0192589759827 s]\n",
        "--> Computing triangle properties\n",
        "<-- Computing triangle properties    [ 0.022264957428 s]\n",
        "--> Computing  barycenter  property ( 3 )\n",
        "<-- Computing barycenter property ( 3 ) [ 0.00567293167114 s]\n",
        "--> Computing  barycenter  property ( 2 )\n",
        "<-- Computing"
       ]
      },
      {
       "output_type": "stream",
       "stream": "stdout",
       "text": [
        " barycenter property ( 2 ) [ 0.0251488685608 s]\n",
        "--> Computing  normal  property ( 2 )\n",
        "<-- Computing normal property ( 2 ) [ 0.01305103302 s]\n",
        "--> Computing  length  property ( 1 )\n",
        "<-- Computing length property ( 1 ) [ 0.0188570022583 s]\n",
        "--> Computing triangle properties\n",
        "<-- Computing triangle properties    ["
       ]
      },
      {
       "output_type": "stream",
       "stream": "stdout",
       "text": [
        " 0.022628068924 s]\n",
        "--> Computing  barycenter  property ( 3 )\n",
        "<-- Computing barycenter property ( 3 ) [ 0.00598502159119 s]\n",
        "--> Computing  barycenter  property ( 2 )\n",
        "<-- Computing barycenter property ( 2 ) [ 0.0243890285492 s]\n",
        "--> Computing  normal  property ( 2 )\n",
        "<-- Computing normal property ( 2 ) [ 0.0134348869324 s]\n",
        "_____________________________\n",
        "\n",
        "      [ 0.526987075806 s]\n",
        "_____________________________\n",
        "\n",
        "       Iteration  10\n",
        "_____________________________\n",
        "--> Computing regularization force\n",
        "<-- Computing regularization force ["
       ]
      },
      {
       "output_type": "stream",
       "stream": "stdout",
       "text": [
        " 0.177575826645 s]\n",
        "--> Computing laplacian smoothing force\n",
        "<-- Computing laplacian smoothing force [ 0.0299940109253 s]\n",
        "--> Computing planarization force\n",
        "<-- Computing planarization force ["
       ]
      },
      {
       "output_type": "stream",
       "stream": "stdout",
       "text": [
        " 0.0344309806824 s]\n",
        "--> Applying Forces\n",
        "<-- Applying Forces          [ 0.00402903556824 s]\n",
        "--> Updating distances\n",
        "--> Computing  length  property ( 1 )\n",
        "<-- Computing length property ( 1 ) [ 0.0204241275787 s]\n",
        "<-- Updating distances       [ 0.0206451416016 s]\n",
        "16227  Vertices,  42176  Triangles,  356  Cells\n",
        "--> Moving cell vertices\n",
        "<-- Moving cell vertices     ["
       ]
      },
      {
       "output_type": "stream",
       "stream": "stdout",
       "text": [
        " 0.0789310932159 s]\n",
        "--> Computing  length  property ( 1 )\n",
        "<-- Computing length property ( 1 ) [ 0.0199270248413 s]\n",
        "--> Computing triangle properties\n",
        "<-- Computing triangle properties    [ 0.0218141078949 s]\n",
        "--> Computing  barycenter  property ( 3 )\n",
        "<-- Computing barycenter property ( 3 ) [ 0.00775909423828 s]\n",
        "--> Computing  barycenter  property ( 2 )\n",
        "<-- Computing"
       ]
      },
      {
       "output_type": "stream",
       "stream": "stdout",
       "text": [
        " barycenter property ( 2 ) [ 0.0258409976959 s]\n",
        "--> Computing  normal  property ( 2 )\n",
        "<-- Computing normal property ( 2 ) [ 0.0130701065063 s]\n",
        "--> Computing  length  property ( 1 )\n",
        "<-- Computing length property ( 1 ) [ 0.0196628570557 s]\n",
        "--> Computing triangle properties\n",
        "<-- Computing triangle properties    ["
       ]
      },
      {
       "output_type": "stream",
       "stream": "stdout",
       "text": [
        " 0.0218579769135 s]\n",
        "--> Computing  barycenter  property ( 3 )\n",
        "<-- Computing barycenter property ( 3 ) [ 0.00571584701538 s]\n",
        "--> Computing  barycenter  property ( 2 )\n",
        "<-- Computing barycenter property ( 2 ) [ 0.0231468677521 s]\n",
        "--> Computing  normal  property ( 2 )\n",
        "<-- Computing normal property ( 2 ) [ 0.0129461288452 s]\n",
        "_____________________________\n",
        "\n",
        "      [ 0.521876096725 s]\n",
        "_____________________________\n",
        "\n",
        "       Iteration  11\n",
        "_____________________________\n",
        "--> Computing regularization force\n",
        "<-- Computing regularization force ["
       ]
      },
      {
       "output_type": "stream",
       "stream": "stdout",
       "text": [
        " 0.165267944336 s]\n",
        "--> Computing laplacian smoothing force\n",
        "<-- Computing laplacian smoothing force [ 0.0291531085968 s]\n",
        "--> Computing planarization force\n",
        "<-- Computing planarization force ["
       ]
      },
      {
       "output_type": "stream",
       "stream": "stdout",
       "text": [
        " 0.0335741043091 s]\n",
        "--> Applying Forces\n",
        "<-- Applying Forces          [ 0.00384306907654 s]\n",
        "--> Updating distances\n",
        "--> Computing  length  property ( 1 )\n",
        "<-- Computing length property ( 1 ) [ 0.0200538635254 s]\n",
        "<-- Updating distances       [ 0.0201408863068 s]\n",
        "16227  Vertices,  42176  Triangles,  356  Cells\n",
        "--> Moving cell vertices\n",
        "<-- Moving cell vertices     ["
       ]
      },
      {
       "output_type": "stream",
       "stream": "stdout",
       "text": [
        " 0.0771038532257 s]\n",
        "--> Computing  length  property ( 1 )\n",
        "<-- Computing length property ( 1 ) [ 0.0194621086121 s]\n",
        "--> Computing triangle properties\n",
        "<-- Computing triangle properties    [ 0.0220439434052 s]\n",
        "--> Computing  barycenter  property ( 3 )\n",
        "<-- Computing barycenter property ( 3 ) [ 0.00570607185364 s]\n",
        "--> Computing  barycenter  property ( 2 )\n",
        "<-- Computing"
       ]
      },
      {
       "output_type": "stream",
       "stream": "stdout",
       "text": [
        " barycenter property ( 2 ) [ 0.0243020057678 s]\n",
        "--> Computing  normal  property ( 2 )\n",
        "<-- Computing normal property ( 2 ) [ 0.013307094574 s]\n",
        "--> Computing  length  property ( 1 )\n",
        "<-- Computing length property ( 1 ) [ 0.0194098949432 s]\n",
        "--> Computing triangle properties\n",
        "<-- Computing triangle properties    ["
       ]
      },
      {
       "output_type": "stream",
       "stream": "stdout",
       "text": [
        " 0.0224630832672 s]\n",
        "--> Computing  barycenter  property ( 3 )\n",
        "<-- Computing barycenter property ( 3 ) [ 0.00572395324707 s]\n",
        "--> Computing  barycenter  property ( 2 )\n",
        "<-- Computing barycenter property ( 2 ) [ 0.0232570171356 s]\n",
        "--> Computing  normal  property ( 2 )\n",
        "<-- Computing normal property ( 2 ) [ 0.0127279758453 s]\n",
        "_____________________________\n",
        "\n",
        "      [ 0.502319097519 s]\n",
        "_____________________________\n",
        "\n",
        "       Iteration  12\n",
        "_____________________________\n",
        "--> Computing regularization force\n",
        "<-- Computing regularization force ["
       ]
      },
      {
       "output_type": "stream",
       "stream": "stdout",
       "text": [
        " 0.174215078354 s]\n",
        "--> Computing laplacian smoothing force\n",
        "<-- Computing laplacian smoothing force [ 0.0301430225372 s]\n",
        "--> Computing planarization force\n",
        "<-- Computing planarization force ["
       ]
      },
      {
       "output_type": "stream",
       "stream": "stdout",
       "text": [
        " 0.0345599651337 s]\n",
        "--> Applying Forces\n",
        "<-- Applying Forces          [ 0.00401902198792 s]\n",
        "--> Updating distances\n",
        "--> Computing  length  property ( 1 )\n",
        "<-- Computing length property ( 1 ) [ 0.0201609134674 s]\n",
        "<-- Updating distances       [ 0.0202400684357 s]\n",
        "16227  Vertices,  42176  Triangles,  356  Cells\n",
        "--> Moving cell vertices\n",
        "<-- Moving cell vertices     ["
       ]
      },
      {
       "output_type": "stream",
       "stream": "stdout",
       "text": [
        " 0.0787479877472 s]\n",
        "--> Computing  length  property ( 1 )\n",
        "<-- Computing length property ( 1 ) [ 0.0212631225586 s]\n",
        "--> Computing triangle properties\n",
        "<-- Computing triangle properties    [ 0.0218122005463 s]\n",
        "--> Computing  barycenter  property ( 3 )\n",
        "<-- Computing barycenter property ( 3 ) [ 0.00574898719788 s]\n",
        "--> Computing  barycenter  property ( 2 )\n",
        "<-- Computing"
       ]
      },
      {
       "output_type": "stream",
       "stream": "stdout",
       "text": [
        " barycenter property ( 2 ) [ 0.0250890254974 s]\n",
        "--> Computing  normal  property ( 2 )\n",
        "<-- Computing normal property ( 2 ) [ 0.0132660865784 s]\n",
        "--> Computing  length  property ( 1 )\n",
        "<-- Computing length property ( 1 ) [ 0.0196270942688 s]\n",
        "--> Computing triangle properties\n",
        "<-- Computing triangle properties    ["
       ]
      },
      {
       "output_type": "stream",
       "stream": "stdout",
       "text": [
        " 0.0227508544922 s]\n",
        "--> Computing  barycenter  property ( 3 )\n",
        "<-- Computing barycenter property ( 3 ) [ 0.0108799934387 s]\n",
        "--> Computing  barycenter  property ( 2 )\n",
        "<-- Computing barycenter property ( 2 ) [ 0.0291650295258 s]\n",
        "--> Computing  normal  property ( 2 )\n",
        "<-- Computing"
       ]
      },
      {
       "output_type": "stream",
       "stream": "stdout",
       "text": [
        " normal property ( 2 ) [ 0.0129070281982 s]\n",
        "_____________________________\n",
        "\n",
        "      [ 0.52965092659 s]\n",
        "_____________________________\n",
        "\n",
        "       Iteration  13\n",
        "_____________________________\n",
        "--> Computing regularization force\n",
        "<-- Computing regularization force ["
       ]
      },
      {
       "output_type": "stream",
       "stream": "stdout",
       "text": [
        " 0.177729129791 s]\n",
        "--> Computing laplacian smoothing force\n",
        "<-- Computing laplacian smoothing force [ 0.0302340984344 s]\n",
        "--> Computing planarization force\n",
        "<-- Computing planarization force ["
       ]
      },
      {
       "output_type": "stream",
       "stream": "stdout",
       "text": [
        " 0.0344421863556 s]\n",
        "--> Applying Forces\n",
        "<-- Applying Forces          [ 0.00398397445679 s]\n",
        "--> Updating distances\n",
        "--> Computing  length  property ( 1 )\n",
        "<-- Computing length property ( 1 ) [ 0.0198020935059 s]\n",
        "<-- Updating distances       [ 0.0200140476227 s]\n",
        "16227  Vertices,  42176  Triangles,  356  Cells\n",
        "--> Moving cell vertices\n",
        "<-- Moving cell vertices     ["
       ]
      },
      {
       "output_type": "stream",
       "stream": "stdout",
       "text": [
        " 0.0835390090942 s]\n",
        "--> Computing  length  property ( 1 )\n",
        "<-- Computing length property ( 1 ) [ 0.0203080177307 s]\n",
        "--> Computing triangle properties\n",
        "<-- Computing triangle properties    [ 0.0223350524902 s]\n",
        "--> Computing  barycenter  property ( 3 )\n",
        "<-- Computing barycenter property ( 3 ) [ 0.00561118125916 s]\n",
        "--> Computing  barycenter  property ( 2 )\n",
        "<-- Computing"
       ]
      },
      {
       "output_type": "stream",
       "stream": "stdout",
       "text": [
        " barycenter property ( 2 ) [ 0.025050163269 s]\n",
        "--> Computing  normal  property ( 2 )\n",
        "<-- Computing normal property ( 2 ) [ 0.0131130218506 s]\n",
        "--> Computing  length  property ( 1 )\n",
        "<-- Computing length property ( 1 ) [ 0.0186500549316 s]\n",
        "--> Computing triangle properties\n",
        "<-- Computing triangle properties    ["
       ]
      },
      {
       "output_type": "stream",
       "stream": "stdout",
       "text": [
        " 0.0231430530548 s]\n",
        "--> Computing  barycenter  property ( 3 )\n",
        "<-- Computing barycenter property ( 3 ) [ 0.00565600395203 s]\n",
        "--> Computing  barycenter  property ( 2 )\n",
        "<-- Computing barycenter property ( 2 ) [ 0.0243060588837 s]\n",
        "--> Computing  normal  property ( 2 )\n",
        "<-- Computing normal property ( 2 ) [ 0.0129220485687 s]\n",
        "_____________________________\n",
        "\n",
        "      [ 0.525779008865 s]\n",
        "_____________________________\n",
        "\n",
        "       Iteration  14\n",
        "_____________________________\n",
        "--> Computing regularization force\n",
        "<-- Computing regularization force ["
       ]
      },
      {
       "output_type": "stream",
       "stream": "stdout",
       "text": [
        " 0.178963184357 s]\n",
        "--> Computing laplacian smoothing force\n",
        "<-- Computing laplacian smoothing force [ 0.0310409069061 s]\n",
        "--> Computing planarization force\n",
        "<-- Computing planarization force ["
       ]
      },
      {
       "output_type": "stream",
       "stream": "stdout",
       "text": [
        " 0.0358240604401 s]\n",
        "--> Applying Forces\n",
        "<-- Applying Forces          [ 0.00419592857361 s]\n",
        "--> Updating distances\n",
        "--> Computing  length  property ( 1 )\n",
        "<-- Computing length property ( 1 ) [ 0.0202658176422 s]\n",
        "<-- Updating distances       [ 0.0204830169678 s]\n",
        "16227  Vertices,  42176  Triangles,  356  Cells\n",
        "--> Moving cell vertices\n",
        "<-- Moving cell vertices     ["
       ]
      },
      {
       "output_type": "stream",
       "stream": "stdout",
       "text": [
        " 0.0794758796692 s]\n",
        "--> Computing  length  property ( 1 )\n",
        "<-- Computing length property ( 1 ) [ 0.0194709300995 s]\n",
        "--> Computing triangle properties\n",
        "<-- Computing triangle properties    [ 0.022754907608 s]\n",
        "--> Computing  barycenter  property ( 3 )\n",
        "<-- Computing barycenter property ( 3 ) [ 0.00571012496948 s]\n",
        "--> Computing  barycenter  property ( 2 )\n",
        "<-- Computing"
       ]
      },
      {
       "output_type": "stream",
       "stream": "stdout",
       "text": [
        " barycenter property ( 2 ) [ 0.0251679420471 s]\n",
        "--> Computing  normal  property ( 2 )\n",
        "<-- Computing normal property ( 2 ) [ 0.0131587982178 s]\n",
        "--> Computing  length  property ( 1 )\n",
        "<-- Computing length property ( 1 ) [ 0.0188879966736 s]\n",
        "--> Computing triangle properties\n",
        "<-- Computing triangle properties    ["
       ]
      },
      {
       "output_type": "stream",
       "stream": "stdout",
       "text": [
        " 0.0226039886475 s]\n",
        "--> Computing  barycenter  property ( 3 )\n",
        "<-- Computing barycenter property ( 3 ) [ 0.00574588775635 s]\n",
        "--> Computing  barycenter  property ( 2 )\n",
        "<-- Computing barycenter property ( 2 ) [ 0.0235569477081 s]\n",
        "--> Computing  normal  property ( 2 )\n",
        "<-- Computing normal property ( 2 ) [ 0.0141978263855 s]\n",
        "_____________________________\n",
        "\n",
        "      [ 0.525778055191 s]\n",
        "_____________________________\n",
        "\n",
        "       Iteration  15\n",
        "_____________________________\n",
        "--> Computing regularization force\n",
        "<-- Computing regularization force ["
       ]
      },
      {
       "output_type": "stream",
       "stream": "stdout",
       "text": [
        " 0.177974939346 s]\n",
        "--> Computing laplacian smoothing force\n",
        "<-- Computing laplacian smoothing force [ 0.0305140018463 s]\n",
        "--> Computing planarization force\n",
        "<-- Computing planarization force ["
       ]
      },
      {
       "output_type": "stream",
       "stream": "stdout",
       "text": [
        " 0.0342540740967 s]\n",
        "--> Applying Forces\n",
        "<-- Applying Forces          [ 0.00395894050598 s]\n",
        "--> Updating distances\n",
        "--> Computing  length  property ( 1 )\n",
        "<-- Computing length property ( 1 ) [ 0.0200538635254 s]\n",
        "<-- Updating distances       [ 0.0202918052673 s]\n",
        "16227  Vertices,  42176  Triangles,  356  Cells\n",
        "--> Moving cell vertices\n",
        "<-- Moving cell vertices     ["
       ]
      },
      {
       "output_type": "stream",
       "stream": "stdout",
       "text": [
        " 0.0849478244781 s]\n",
        "--> Computing  length  property ( 1 )\n",
        "<-- Computing length property ( 1 ) [ 0.0192129611969 s]\n",
        "--> Computing triangle properties\n",
        "<-- Computing triangle properties    [ 0.0219948291779 s]\n",
        "--> Computing  barycenter  property ( 3 )\n",
        "<-- Computing barycenter property ( 3 ) [ 0.00565099716187 s]\n",
        "--> Computing  barycenter  property ( 2 )\n",
        "<-- Computing"
       ]
      },
      {
       "output_type": "stream",
       "stream": "stdout",
       "text": [
        " barycenter property ( 2 ) [ 0.0253810882568 s]\n",
        "--> Computing  normal  property ( 2 )\n",
        "<-- Computing normal property ( 2 ) [ 0.0130271911621 s]\n",
        "--> Computing  length  property ( 1 )\n",
        "<-- Computing length property ( 1 ) [ 0.0191459655762 s]\n",
        "--> Computing triangle properties\n",
        "<-- Computing triangle properties    ["
       ]
      },
      {
       "output_type": "stream",
       "stream": "stdout",
       "text": [
        " 0.0224008560181 s]\n",
        "--> Computing  barycenter  property ( 3 )\n",
        "<-- Computing barycenter property ( 3 ) [ 0.00563406944275 s]\n",
        "--> Computing  barycenter  property ( 2 )\n",
        "<-- Computing barycenter property ( 2 ) [ 0.024111032486 s]\n",
        "--> Computing  normal  property ( 2 )\n",
        "<-- Computing normal property ( 2 ) [ 0.0133969783783 s]\n",
        "_____________________________\n",
        "\n",
        "      [ 0.526702880859 s]\n",
        "_____________________________\n",
        "\n",
        "       Iteration  16\n",
        "_____________________________\n",
        "--> Computing regularization force\n",
        "<-- Computing regularization force ["
       ]
      },
      {
       "output_type": "stream",
       "stream": "stdout",
       "text": [
        " 0.177952051163 s]\n",
        "--> Computing laplacian smoothing force\n",
        "<-- Computing laplacian smoothing force [ 0.0306839942932 s]\n",
        "--> Computing planarization force\n",
        "<-- Computing planarization force ["
       ]
      },
      {
       "output_type": "stream",
       "stream": "stdout",
       "text": [
        " 0.0464849472046 s]\n",
        "--> Applying Forces\n",
        "<-- Applying Forces          [ 0.00670003890991 s]\n",
        "--> Updating distances\n",
        "--> Computing  length  property ( 1 )\n",
        "<-- Computing length property ( 1 ) [ 0.0221419334412 s]\n",
        "<-- Updating distances       [ 0.0224180221558 s]\n",
        "16227  Vertices,  42176  Triangles,  356  Cells\n",
        "--> Moving cell vertices\n",
        "<-- Moving cell vertices     ["
       ]
      },
      {
       "output_type": "stream",
       "stream": "stdout",
       "text": [
        " 0.0838820934296 s]\n",
        "--> Computing  length  property ( 1 )\n",
        "<-- Computing length property ( 1 ) [ 0.0219678878784 s]\n",
        "--> Computing triangle properties\n",
        "<-- Computing triangle properties    [ 0.0250079631805 s]\n",
        "--> Computing  barycenter  property ( 3 )\n",
        "<-- Computing"
       ]
      },
      {
       "output_type": "stream",
       "stream": "stdout",
       "text": [
        " barycenter property ( 3 ) [ 0.0059118270874 s]\n",
        "--> Computing  barycenter  property ( 2 )\n",
        "<-- Computing barycenter property ( 2 ) [ 0.0249509811401 s]\n",
        "--> Computing  normal  property ( 2 )\n",
        "<-- Computing normal property ( 2 ) [ 0.0138969421387 s]\n",
        "--> Computing  length  property ( 1 )\n",
        "<-- Computing"
       ]
      },
      {
       "output_type": "stream",
       "stream": "stdout",
       "text": [
        " length property ( 1 ) [ 0.0183930397034 s]\n",
        "--> Computing triangle properties\n",
        "<-- Computing triangle properties    [ 0.0219469070435 s]\n",
        "--> Computing  barycenter  property ( 3 )\n",
        "<-- Computing barycenter property ( 3 ) [ 0.00559997558594 s]\n",
        "--> Computing  barycenter  property ( 2 )\n",
        "<-- Computing"
       ]
      },
      {
       "output_type": "stream",
       "stream": "stdout",
       "text": [
        " barycenter property ( 2 ) [ 0.0230729579926 s]\n",
        "--> Computing  normal  property ( 2 )\n",
        "<-- Computing normal property ( 2 ) [ 0.0122001171112 s]\n",
        "_____________________________\n",
        "\n",
        "      [ 0.545747995377 s]\n",
        "_____________________________\n",
        "\n",
        "       Iteration  17\n",
        "_____________________________\n",
        "--> Computing regularization force\n",
        "<-- Computing regularization force ["
       ]
      },
      {
       "output_type": "stream",
       "stream": "stdout",
       "text": [
        " 0.173160076141 s]\n",
        "--> Computing laplacian smoothing force\n",
        "<-- Computing laplacian smoothing force [ 0.0294687747955 s]\n",
        "--> Computing planarization force\n",
        "<-- Computing planarization force ["
       ]
      },
      {
       "output_type": "stream",
       "stream": "stdout",
       "text": [
        " 0.0347921848297 s]\n",
        "--> Applying Forces\n",
        "<-- Applying Forces          [ 0.00388693809509 s]\n",
        "--> Updating distances\n",
        "--> Computing  length  property ( 1 )\n",
        "<-- Computing length property ( 1 ) [ 0.0195999145508 s]\n",
        "<-- Updating distances       [ 0.0198130607605 s]\n",
        "16227  Vertices,  42176  Triangles,  356  Cells\n",
        "--> Moving cell vertices\n",
        "<-- Moving cell vertices     ["
       ]
      },
      {
       "output_type": "stream",
       "stream": "stdout",
       "text": [
        " 0.0842640399933 s]\n",
        "--> Computing  length  property ( 1 )\n",
        "<-- Computing length property ( 1 ) [ 0.0194599628448 s]\n",
        "--> Computing triangle properties\n",
        "<-- Computing triangle properties    [ 0.0223500728607 s]\n",
        "--> Computing  barycenter  property ( 3 )\n",
        "<-- Computing barycenter property ( 3 ) [ 0.00563406944275 s]\n",
        "--> Computing  barycenter  property ( 2 )\n",
        "<-- Computing"
       ]
      },
      {
       "output_type": "stream",
       "stream": "stdout",
       "text": [
        " barycenter property ( 2 ) [ 0.0252931118011 s]\n",
        "--> Computing  normal  property ( 2 )\n",
        "<-- Computing normal property ( 2 ) [ 0.0132749080658 s]\n",
        "--> Computing  length  property ( 1 )\n",
        "<-- Computing length property ( 1 ) [ 0.0188550949097 s]\n",
        "--> Computing triangle properties\n",
        "<-- Computing triangle properties    ["
       ]
      },
      {
       "output_type": "stream",
       "stream": "stdout",
       "text": [
        " 0.0227880477905 s]\n",
        "--> Computing  barycenter  property ( 3 )\n",
        "<-- Computing barycenter property ( 3 ) [ 0.00573205947876 s]\n",
        "--> Computing  barycenter  property ( 2 )\n",
        "<-- Computing barycenter property ( 2 ) [ 0.025162935257 s]\n",
        "--> Computing  normal  property ( 2 )\n",
        "<-- Computing normal property ( 2 ) [ 0.0126550197601 s]\n",
        "_____________________________\n",
        "\n",
        "      [ 0.521441936493 s]\n",
        "_____________________________\n",
        "\n",
        "       Iteration  18\n",
        "_____________________________\n",
        "--> Computing regularization force\n",
        "<-- Computing regularization force ["
       ]
      },
      {
       "output_type": "stream",
       "stream": "stdout",
       "text": [
        " 0.168815135956 s]\n",
        "--> Computing laplacian smoothing force\n",
        "<-- Computing laplacian smoothing force [ 0.0292360782623 s]\n",
        "--> Computing planarization force\n",
        "<-- Computing planarization force ["
       ]
      },
      {
       "output_type": "stream",
       "stream": "stdout",
       "text": [
        " 0.0356059074402 s]\n",
        "--> Applying Forces\n",
        "<-- Applying Forces          [ 0.0039370059967 s]\n",
        "--> Updating distances\n",
        "--> Computing  length  property ( 1 )\n",
        "<-- Computing length property ( 1 ) [ 0.0199468135834 s]\n",
        "<-- Updating distances       [ 0.0201020240784 s]\n",
        "16227  Vertices,  42176  Triangles,  356  Cells\n",
        "--> Moving cell vertices\n",
        "<-- Moving cell vertices     ["
       ]
      },
      {
       "output_type": "stream",
       "stream": "stdout",
       "text": [
        " 0.0844190120697 s]\n",
        "--> Computing  length  property ( 1 )\n",
        "<-- Computing length property ( 1 ) [ 0.0191628932953 s]\n",
        "--> Computing triangle properties\n",
        "<-- Computing triangle properties    [ 0.0218780040741 s]\n",
        "--> Computing  barycenter  property ( 3 )\n",
        "<-- Computing barycenter property ( 3 ) [ 0.00568294525146 s]\n",
        "--> Computing  barycenter  property ( 2 )\n",
        "<-- Computing"
       ]
      },
      {
       "output_type": "stream",
       "stream": "stdout",
       "text": [
        " barycenter property ( 2 ) [ 0.0258259773254 s]\n",
        "--> Computing  normal  property ( 2 )\n",
        "<-- Computing normal property ( 2 ) [ 0.0129671096802 s]\n",
        "--> Computing  length  property ( 1 )\n",
        "<-- Computing length property ( 1 ) [ 0.0191009044647 s]\n",
        "--> Computing triangle properties\n",
        "<-- Computing triangle properties    ["
       ]
      },
      {
       "output_type": "stream",
       "stream": "stdout",
       "text": [
        " 0.0227060317993 s]\n",
        "--> Computing  barycenter  property ( 3 )\n",
        "<-- Computing barycenter property ( 3 ) [ 0.00567507743835 s]\n",
        "--> Computing  barycenter  property ( 2 )\n",
        "<-- Computing barycenter property ( 2 ) [ 0.0239779949188 s]\n",
        "--> Computing  normal  property ( 2 )\n",
        "<-- Computing normal property ( 2 ) [ 0.0125589370728 s]\n",
        "_____________________________\n",
        "\n",
        "      [ 0.516053199768 s]\n",
        "_____________________________\n",
        "\n",
        "       Iteration  19\n",
        "_____________________________\n",
        "--> Computing regularization force\n",
        "<-- Computing regularization force ["
       ]
      },
      {
       "output_type": "stream",
       "stream": "stdout",
       "text": [
        " 0.175204992294 s]\n",
        "--> Computing laplacian smoothing force\n",
        "<-- Computing laplacian smoothing force [ 0.0299050807953 s]\n",
        "--> Computing planarization force\n",
        "<-- Computing planarization force ["
       ]
      },
      {
       "output_type": "stream",
       "stream": "stdout",
       "text": [
        " 0.0351800918579 s]\n",
        "--> Applying Forces\n",
        "<-- Applying Forces          [ 0.0039050579071 s]\n",
        "--> Updating distances\n",
        "--> Computing  length  property ( 1 )\n",
        "<-- Computing length property ( 1 ) [ 0.0201690196991 s]\n",
        "<-- Updating distances       [ 0.0203928947449 s]\n",
        "16227  Vertices,  42176  Triangles,  356  Cells\n",
        "--> Moving cell vertices\n",
        "<-- Moving cell vertices     ["
       ]
      },
      {
       "output_type": "stream",
       "stream": "stdout",
       "text": [
        " 0.0847859382629 s]\n",
        "--> Computing  length  property ( 1 )\n",
        "<-- Computing length property ( 1 ) [ 0.0202009677887 s]\n",
        "--> Computing triangle properties\n",
        "<-- Computing triangle properties    [ 0.0228340625763 s]\n",
        "--> Computing  barycenter  property ( 3 )\n",
        "<-- Computing barycenter property ( 3 ) [ 0.00565791130066 s]\n",
        "--> Computing  barycenter  property ( 2 )\n",
        "<-- Computing"
       ]
      },
      {
       "output_type": "stream",
       "stream": "stdout",
       "text": [
        " barycenter property ( 2 ) [ 0.024829864502 s]\n",
        "--> Computing  normal  property ( 2 )\n",
        "<-- Computing normal property ( 2 ) [ 0.0127050876617 s]\n",
        "--> Computing  length  property ( 1 )\n",
        "<-- Computing length property ( 1 ) [ 0.0195281505585 s]\n",
        "--> Computing triangle properties\n",
        "<-- Computing triangle properties    ["
       ]
      },
      {
       "output_type": "stream",
       "stream": "stdout",
       "text": [
        " 0.0223071575165 s]\n",
        "--> Computing  barycenter  property ( 3 )\n",
        "<-- Computing barycenter property ( 3 ) [ 0.00577306747437 s]\n",
        "--> Computing  barycenter  property ( 2 )\n",
        "<-- Computing barycenter property ( 2 ) [ 0.023833990097 s]\n",
        "--> Computing  normal  property ( 2 )\n",
        "<-- Computing normal property ( 2 ) [ 0.0131599903107 s]\n",
        "_____________________________\n",
        "\n",
        "      [ 0.524662017822 s]\n",
        "_____________________________\n",
        "\n",
        "       Iteration  20\n",
        "_____________________________\n",
        "--> Computing regularization force\n",
        "<-- Computing regularization force ["
       ]
      },
      {
       "output_type": "stream",
       "stream": "stdout",
       "text": [
        " 0.17055606842 s]\n",
        "--> Computing laplacian smoothing force\n",
        "<-- Computing laplacian smoothing force [ 0.0294830799103 s]\n",
        "--> Computing planarization force\n",
        "<-- Computing planarization force ["
       ]
      },
      {
       "output_type": "stream",
       "stream": "stdout",
       "text": [
        " 0.0347349643707 s]\n",
        "--> Applying Forces\n",
        "<-- Applying Forces          [ 0.00393891334534 s]\n",
        "--> Updating distances\n",
        "--> Computing  length  property ( 1 )\n",
        "<-- Computing length property ( 1 ) [ 0.0200479030609 s]\n",
        "<-- Updating distances       [ 0.0202758312225 s]\n",
        "16227  Vertices,  42176  Triangles,  356  Cells\n",
        "--> Moving cell vertices\n",
        "<-- Moving cell vertices     ["
       ]
      },
      {
       "output_type": "stream",
       "stream": "stdout",
       "text": [
        " 0.0840921401978 s]\n",
        "--> Computing  length  property ( 1 )\n",
        "<-- Computing length property ( 1 ) [ 0.0196671485901 s]\n",
        "--> Computing triangle properties\n",
        "<-- Computing triangle properties    [ 0.0228090286255 s]\n",
        "--> Computing  barycenter  property ( 3 )\n",
        "<-- Computing barycenter property ( 3 ) [ 0.00590896606445 s]\n",
        "--> Computing  barycenter  property ( 2 )\n",
        "<-- Computing"
       ]
      },
      {
       "output_type": "stream",
       "stream": "stdout",
       "text": [
        " barycenter property ( 2 ) [ 0.0245101451874 s]\n",
        "--> Computing  normal  property ( 2 )\n",
        "<-- Computing normal property ( 2 ) [ 0.0135869979858 s]\n",
        "--> Computing  length  property ( 1 )\n",
        "<-- Computing length property ( 1 ) [ 0.0189640522003 s]\n",
        "--> Computing triangle properties\n",
        "<-- Computing triangle properties    ["
       ]
      },
      {
       "output_type": "stream",
       "stream": "stdout",
       "text": [
        " 0.0223360061646 s]\n",
        "--> Computing  barycenter  property ( 3 )\n",
        "<-- Computing barycenter property ( 3 ) [ 0.00575089454651 s]\n",
        "--> Computing  barycenter  property ( 2 )\n",
        "<-- Computing barycenter property ( 2 ) [ 0.0235710144043 s]\n",
        "--> Computing  normal  property ( 2 )\n",
        "<-- Computing normal property ( 2 ) [ 0.012619972229 s]\n",
        "_____________________________\n",
        "\n",
        "      [ 0.517436981201 s]\n",
        "_____________________________\n",
        "--> Optimizing Topomesh    [ 12.9694309235 s]\n",
        "--> Creating triangular mesh"
       ]
      },
      {
       "output_type": "stream",
       "stream": "stdout",
       "text": [
        "\n",
        "--> Computing  vertices  property ( 2 )\n",
        "<-- Computing"
       ]
      },
      {
       "output_type": "stream",
       "stream": "stdout",
       "text": [
        " vertices property ( 2 ) [ 0.708630084991 s]\n",
        "--> Computing  triangles  property ( 3 )\n",
        "<-- Computing triangles property ( 3 ) [ 0.0129029750824 s]\n",
        "--> Computing  cells  property ( 2 )\n",
        "<-- Computing"
       ]
      },
      {
       "output_type": "stream",
       "stream": "stdout",
       "text": [
        " cells property ( 2 ) [ 0.290834903717 s]\n",
        "<-- Creating triangular mesh ["
       ]
      },
      {
       "output_type": "stream",
       "stream": "stdout",
       "text": [
        " 8.94354701042 s]\n"
       ]
      }
     ],
     "prompt_number": 58
    },
    {
     "cell_type": "markdown",
     "metadata": {},
     "source": [
      "The result of the optimization is a mesh with the same topology as the initial one, but with a geometry that makes it much more consistent with the cell regions in the image and with their biological reality at the same time. This better consistency is achieved without any unnecessary complication of the mesh, which keeps a constant number of elements all along the process."
     ]
    },
    {
     "cell_type": "code",
     "collapsed": false,
     "input": [
      "vtk_show_polydata(topomesh_polydata, width=800, height=300, position=(0,0,-0.75*img.shape[2]*img.resolution[2]))"
     ],
     "language": "python",
     "metadata": {},
     "outputs": [
      {
       "output_type": "stream",
       "stream": "stdout",
       "text": [
        "Unique time :  0.00138092041016  s\n",
        "RGBPoint time :  0.000891923904419  s\n"
       ]
      },
      {
       "metadata": {},
       "output_type": "pyout",
       "png": "[encoded data removed]",
       "prompt_number": 59,
       "text": [
        "<IPython.core.display.Image at 0x1209dc210>"
       ]
      }
     ],
     "prompt_number": 59
    },
    {
     "cell_type": "markdown",
     "metadata": {},
     "source": [
      "The optimization through the balanced combination of the different energies appears then as the only way to obtain an overall optimal compromise that does not neglect any aspect of the quality criteria. The result is a mesh that models in a visually convincing way the shape and disposition of the cells in the meristem, with a high regularity of the triangles, and a strong consistency with the original image, while preserving an overall complexity low enough to make it exploitable for visualization and simulation uses."
     ]
    },
    {
     "cell_type": "code",
     "collapsed": false,
     "input": [
      "optimized_quality = evaluate_topomesh_quality(optimized_topomesh,quality_criteria=quality_criteria,image=img,image_cell_vertex=image_cell_vertex,display=False)"
     ],
     "language": "python",
     "metadata": {},
     "outputs": [
      {
       "output_type": "stream",
       "stream": "stdout",
       "text": [
        "--> Computing mesh complexity\n",
        "<-- Computing mesh complexity          ["
       ]
      },
      {
       "output_type": "stream",
       "stream": "stdout",
       "text": [
        " 0.203247785568 s]\n",
        "--> Computing  length  property ( 1 )\n",
        "<-- Computing length property ( 1 ) [ 0.0201950073242 s]\n",
        "--> Computing triangle properties\n",
        "<-- Computing triangle properties    [ 0.0228610038757 s]\n",
        "--> Computing  normal  property ( 2 )\n",
        "<-- Computing"
       ]
      },
      {
       "output_type": "stream",
       "stream": "stdout",
       "text": [
        " normal property ( 2 ) [ 0.0134301185608 s]\n",
        "--> Computing  angles  property ( 2 )\n",
        "<-- Computing angles property ( 2 ) [ 0.0214688777924 s]\n",
        "--> Computing triangle area deviation\n",
        "<-- Computing triangle area deviation  [ 0.00108408927917 s]\n",
        "--> Computing triangle eccentricity\n",
        "<-- Computing triangle eccentricity    [ 0.000428915023804 s]\n",
        "--> Computing  borders  property ( 3 )\n",
        "<-- Computing borders property ( 3 ) [ 0.0129399299622 s]\n",
        "--> Computing  borders  property ( 2 )\n",
        "<-- Computing"
       ]
      },
      {
       "output_type": "stream",
       "stream": "stdout",
       "text": [
        " borders property ( 2 ) [ 0.139981031418 s]\n",
        "--> Computing  borders  property ( 1 )\n",
        "<-- Computing"
       ]
      },
      {
       "output_type": "stream",
       "stream": "stdout",
       "text": [
        " borders property ( 1 ) [ 0.188303947449 s]\n",
        "--> Computing  vertices  property ( 3 )\n",
        "<-- Computing"
       ]
      },
      {
       "output_type": "stream",
       "stream": "stdout",
       "text": [
        " vertices property ( 3 ) [ 0.390938043594 s]\n",
        "--> Computing  vertices  property ( 2 )\n",
        "<-- Computing"
       ]
      },
      {
       "output_type": "stream",
       "stream": "stdout",
       "text": [
        " vertices property ( 2 ) [ 0.721711158752 s]\n",
        "--> Computing  barycenter  property ( 3 )\n",
        "<-- Computing barycenter property ( 3 ) [ 0.00623416900635 s]\n",
        "--> Computing  barycenter  property ( 2 )\n",
        "<-- Computing barycenter property ( 2 ) [ 0.0264239311218 s]\n",
        "--> Computing  barycenter  property ( 1 )\n",
        "<-- Computing"
       ]
      },
      {
       "output_type": "stream",
       "stream": "stdout",
       "text": [
        " barycenter property ( 1 ) [ 0.0320060253143 s]\n",
        "--> Computing  triangles  property ( 0 )\n",
        "<-- Computing"
       ]
      },
      {
       "output_type": "stream",
       "stream": "stdout",
       "text": [
        " triangles property ( 0 ) [ 0.223999023438 s]\n",
        "--> Computing  cells  property ( 0 )\n",
        "<-- Computing"
       ]
      },
      {
       "output_type": "stream",
       "stream": "stdout",
       "text": [
        " cells property ( 0 ) [ 0.472181081772 s]\n",
        "--> Computing  cells  property ( 1 )\n",
        "<-- Computing"
       ]
      },
      {
       "output_type": "stream",
       "stream": "stdout",
       "text": [
        " cells property ( 1 ) [ 0.471630096436 s]\n",
        "--> Computing  cells  property ( 2 )\n",
        "<-- Computing"
       ]
      },
      {
       "output_type": "stream",
       "stream": "stdout",
       "text": [
        " cells property ( 2 ) [ 0.130495071411 s]\n",
        "--> Computing  epidermis  property ( 0 )\n",
        "<-- Computing"
       ]
      },
      {
       "output_type": "stream",
       "stream": "stdout",
       "text": [
        " epidermis property ( 0 ) [ 0.0965230464935 s]\n",
        "--> Computing  epidermis  property ( 1 )\n",
        "<-- Computing"
       ]
      },
      {
       "output_type": "stream",
       "stream": "stdout",
       "text": [
        " epidermis property ( 1 ) [ 0.288661956787 s]\n",
        "--> Computing  epidermis  property ( 3 )\n",
        "<-- Computing epidermis property ( 3 ) [ 0.010272026062 s]\n",
        "--> Computing  volume  property ( 3 )\n",
        "<-- Computing"
       ]
      },
      {
       "output_type": "stream",
       "stream": "stdout",
       "text": [
        " volume property ( 3 ) [ 0.061695098877 s]\n",
        "--> Computing  convexhull_volume  property ( 3 )\n",
        "<-- Computing"
       ]
      },
      {
       "output_type": "stream",
       "stream": "stdout",
       "text": [
        " convexhull_volume property ( 3 ) [ 0.185180902481 s]\n",
        "--> Computing cell volume error\n",
        "Computing volume property..."
       ]
      },
      {
       "output_type": "stream",
       "stream": "stdout",
       "text": [
        "\n",
        "Computing barycenter property..."
       ]
      },
      {
       "output_type": "stream",
       "stream": "stdout",
       "text": [
        "\n",
        "<-- Computing cell volume error        ["
       ]
      },
      {
       "output_type": "stream",
       "stream": "stdout",
       "text": [
        " 3.74091386795 s]\n",
        "--> Computing mesh cell vertices\n",
        "<-- Computing mesh cell vertices ["
       ]
      },
      {
       "output_type": "stream",
       "stream": "stdout",
       "text": [
        " 0.150388002396 s]\n",
        "--> Computing vertex distance\n",
        "<-- Computing vertex distance          ["
       ]
      },
      {
       "output_type": "stream",
       "stream": "stdout",
       "text": [
        " 0.0745890140533 s]\n",
        "--> Computing cell convexity\n",
        "<-- Computing cell convexity           [ 6.103515625e-05 s]\n",
        "--> Computing epidermis cell angle\n",
        "<-- Computing epidermis cell angle     ["
       ]
      },
      {
       "output_type": "stream",
       "stream": "stdout",
       "text": [
        " 0.749335050583 s]\n",
        "--> Computing vertex degree\n",
        "--> Computing  region_neighbors  property ( 0 )\n",
        "<-- Computing"
       ]
      },
      {
       "output_type": "stream",
       "stream": "stdout",
       "text": [
        " region_neighbors property ( 0 ) [ 0.522999048233 s]\n",
        "--> Computing  border_neighbors  property ( 3 )\n",
        "<-- Computing"
       ]
      },
      {
       "output_type": "stream",
       "stream": "stdout",
       "text": [
        " border_neighbors property ( 3 ) [ 0.204211950302 s]\n",
        "<-- Computing vertex degree            [ 0.734273910522 s]\n",
        "--> Computing cell adjacency\n",
        "<-- Computing cell adjacency           ["
       ]
      },
      {
       "output_type": "stream",
       "stream": "stdout",
       "text": [
        " 0.100033044815 s]\n",
        "{'Vertex Distance': 1.0, 'Triangle Area Deviation': 0.99465184721373268, 'Cell Volume Error': 0.93513476082079872, 'Epidermis Cell Angle': 0.83650030705414991, 'Triangle Eccentricity': 0.77203428745269775, 'Mesh Complexity': 0.89869129077260346, 'Cell 2 Adjacency': 0.92586750788643535, 'Vertex Valence': 0.88756318326084405, 'Cell Convexity': 0.83028662522881658}\n"
       ]
      }
     ],
     "prompt_number": 60
    },
    {
     "cell_type": "code",
     "collapsed": false,
     "input": [
      "figure = plt.figure(figsize=(8,6))\n",
      "spider_data = np.array([optimized_quality[c] for c in quality_criteria])\n",
      "spider_plot(figure,spider_data,color1=np.array([0.3,0.6,1.]),color2=np.array([1.,0.,0.]),xlabels=spider_fields,ytargets=spider_targets,n_points=100*len(quality_criteria),linewidth=2,smooth_factor=0.0,spline_order=1)"
     ],
     "language": "python",
     "metadata": {},
     "outputs": [
      {
       "metadata": {},
       "output_type": "display_data",
       "png": "[encoded data removed]",
       "text": [
        "<matplotlib.figure.Figure at 0x13572fd10>"
       ]
      }
     ],
     "prompt_number": 61
    },
    {
     "cell_type": "markdown",
     "metadata": {},
     "source": [
      "The only thing left is to save the produced mesh for further use in simulation of visualization tools"
     ]
    },
    {
     "cell_type": "code",
     "collapsed": false,
     "input": [
      "from vplants.meshing.property_topomesh_analysis     import save_tissue_file, save_property_topomesh\n",
      "\n",
      "start_time = time()\n",
      "print \"--> Saving TissueDB\"\n",
      "tissue_filename = dirname+\"/output_meshes/\"+filename+\"/\"+filename+\"_tissue_\"+str(mesh_fineness)+\".zip\"\n",
      "save_tissue_file(optimized_topomesh,tissue_filename)\n",
      "end_time = time()\n",
      "print \"<-- Saving TissueDB        [\",end_time-start_time,\"s]\"\n",
      "\n",
      "start_time = time()\n",
      "print \"--> Saving PropertyTopomesh\"\n",
      "topomesh_filename = dirname+\"/output_meshes/\"+filename+\"/\"+filename+\"_CGAL_\"+str(mesh_fineness)+\"_topomesh.pkl\"\n",
      "save_property_topomesh(optimized_topomesh,np.array(list(optimized_topomesh.wisps(3))),topomesh_filename)\n",
      "end_time = time()\n",
      "print \"<-- Saving PropertyTopomesh [\",end_time-start_time,\"s]\""
     ],
     "language": "python",
     "metadata": {},
     "outputs": [
      {
       "output_type": "stream",
       "stream": "stdout",
       "text": [
        "properties position "
       ]
      },
      {
       "output_type": "stream",
       "stream": "stdout",
       "text": [
        "\n",
        "configs config\n"
       ]
      }
     ],
     "prompt_number": 66
    },
    {
     "cell_type": "markdown",
     "metadata": {},
     "source": [
      "Work published in : <font size='4'><b> Meshing Meristems </b></font><font size='3'><b> - An Iterative Mesh Optimization Method for Modeling Plant Tissue at Cell Resolution</b> G. Cerutti, C. Godin - <i>BIOIMAGING</i>, 2015</font>"
     ]
    }
   ],
   "metadata": {}
  }
 ]
}